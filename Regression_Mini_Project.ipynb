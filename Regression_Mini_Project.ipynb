{
  "cells": [
    {
      "cell_type": "markdown",
      "metadata": {
        "id": "q4wl6y3AutiR"
      },
      "source": [
        "# Linear Regression - Mini-Project 1\n"
      ]
    },
    {
      "cell_type": "markdown",
      "metadata": {
        "id": "izLDtHbkutiV"
      },
      "source": [
        "***Edit this cell with your name(s), tutorial number(s) and ID(s)***\n",
        "\n",
        "---\n",
        "\n",
        "Name: Farah Ahmed Hamed Kandil\n",
        "\n",
        "ID: 49-9785\n",
        "\n",
        "Tutorial: 6\n",
        "\n",
        "---\n",
        "\n",
        "Name: Lina Ehab Elnaggar\n",
        "\n",
        "ID: 49-1707\n",
        "\n",
        "Tutorial: 6\n"
      ]
    },
    {
      "cell_type": "markdown",
      "metadata": {
        "id": "iCN0N8n6utiW"
      },
      "source": [
        "## Dataset Description\n",
        "\n",
        "The dataset contains historical car auction sales prices, scraped from the outside internet sources and collected in 2015.\n",
        "\n",
        "Each row represents a sale at a used car auction. Each column is described below.\n",
        "\n",
        "| Column       | Description                                                                                          |\n",
        "| ------------ | ---------------------------------------------------------------------------------------------------- |\n",
        "| year         | Car's year of production                                                                             |\n",
        "| make         | Car make/brand                                                                                       |\n",
        "| model        | Car model                                                                                            |\n",
        "| trim         | Car's trim or grade, which specifies a car model's level of performance, features, options or extras |\n",
        "| body         | Car body type (e.g. Sedan, SUV, Coupe, etc.)                                                         |\n",
        "| transmission | Car transmission type. The mechanism that moves the power from the engine to the wheels.             |\n",
        "| vin          | Vehicle Identification Number, a unique code to identify individual motor vehicles.                  |\n",
        "| state        | The state in which the car was auctioned.                                                            |\n",
        "| condition    | The condition of the cars being at the time of auction, 5 being the best score and 1 being the worst.|\n",
        "| odometer     | The distance traveled by a vehicle since being manufactured, in miles                                |\n",
        "| color        | Exterior color of the car                                                                            |\n",
        "| interior     | Interior color of the car                                                                            |\n",
        "| seller       | The seller of the car or car dealer                                                                  |\n",
        "| mmr          | Manheim\\* Market Report, the market estimated price of the cars. An indicator of wholesale prices.   |\n",
        "| sellingprice | The price a car was sold at in auction.                                                              |\n",
        "| saledate     | The date on which the car has been sold.                                                             |\n",
        "\n",
        "\\*Manheim is a company established in 1945 as a car auction company. It has grown to a very reputable company in the industry and its MMR estimate is a baseline tool for wholesale car price determination. They base their price calculations on over 10 million transaction over the past 13-month period.\n"
      ]
    },
    {
      "cell_type": "markdown",
      "metadata": {
        "id": "ild1187YutiX"
      },
      "source": [
        "## Importing Libraries \\& Dataset\n"
      ]
    },
    {
      "cell_type": "code",
      "execution_count": null,
      "metadata": {
        "id": "ajYRzLguutiX",
        "outputId": "0f5cc547-4dbf-4717-8f7e-5fecbfe2c8ea",
        "colab": {
          "base_uri": "https://localhost:8080/",
          "height": 337
        }
      },
      "outputs": [
        {
          "output_type": "execute_result",
          "data": {
            "text/plain": [
              "   year     make         model   trim          body transmission  \\\n",
              "0  2013  Hyundai        Sonata    GLS         sedan    automatic   \n",
              "1  2014   Toyota       4Runner    SR5           SUV    automatic   \n",
              "2  2012    Lexus        IS 250   Base         Sedan    automatic   \n",
              "3  2002      BMW            X5   4.4i           SUV    automatic   \n",
              "4  2014     Ford  E-Series Van  E-250  E-Series Van    automatic   \n",
              "\n",
              "                 vin state  condition    odometer   color interior  \\\n",
              "0  5npeb4acxdh702805    ma        3.9   50404.0mi   black     gray   \n",
              "1  jtezu5jr2e5064567    fl        4.9   17846.0mi    gray        —   \n",
              "2  jthbf5c24c5168599    fl        4.1   21122.0mi  silver    black   \n",
              "3  5uxfb33562lh33864    fl        1.9  145303.0mi   black    black   \n",
              "4  1ftne2ew0eda31832    wa        4.9    6714.0mi   white     gray   \n",
              "\n",
              "                             seller     mmr sellingprice  \\\n",
              "0             the hertz corporation  $11000       $10900   \n",
              "1  award auto sales and leasing inc  $28700       $29900   \n",
              "2          lexus financial services  $22200       $24200   \n",
              "3                        peddle llc   $3675        $3200   \n",
              "4                            u-haul  $22500       $22100   \n",
              "\n",
              "                                  saledate  \n",
              "0  Tue Jun 02 2015 02:30:00 GMT-0700 (PDT)  \n",
              "1  Wed Feb 18 2015 07:15:00 GMT-0800 (PST)  \n",
              "2  Tue Jan 20 2015 01:30:00 GMT-0800 (PST)  \n",
              "3  Wed Mar 04 2015 07:10:00 GMT-0800 (PST)  \n",
              "4  Wed Feb 18 2015 06:45:00 GMT-0800 (PST)  "
            ],
            "text/html": [
              "\n",
              "  <div id=\"df-052b2e9d-1dd3-4698-b1cf-47036fdbd125\">\n",
              "    <div class=\"colab-df-container\">\n",
              "      <div>\n",
              "<style scoped>\n",
              "    .dataframe tbody tr th:only-of-type {\n",
              "        vertical-align: middle;\n",
              "    }\n",
              "\n",
              "    .dataframe tbody tr th {\n",
              "        vertical-align: top;\n",
              "    }\n",
              "\n",
              "    .dataframe thead th {\n",
              "        text-align: right;\n",
              "    }\n",
              "</style>\n",
              "<table border=\"1\" class=\"dataframe\">\n",
              "  <thead>\n",
              "    <tr style=\"text-align: right;\">\n",
              "      <th></th>\n",
              "      <th>year</th>\n",
              "      <th>make</th>\n",
              "      <th>model</th>\n",
              "      <th>trim</th>\n",
              "      <th>body</th>\n",
              "      <th>transmission</th>\n",
              "      <th>vin</th>\n",
              "      <th>state</th>\n",
              "      <th>condition</th>\n",
              "      <th>odometer</th>\n",
              "      <th>color</th>\n",
              "      <th>interior</th>\n",
              "      <th>seller</th>\n",
              "      <th>mmr</th>\n",
              "      <th>sellingprice</th>\n",
              "      <th>saledate</th>\n",
              "    </tr>\n",
              "  </thead>\n",
              "  <tbody>\n",
              "    <tr>\n",
              "      <th>0</th>\n",
              "      <td>2013</td>\n",
              "      <td>Hyundai</td>\n",
              "      <td>Sonata</td>\n",
              "      <td>GLS</td>\n",
              "      <td>sedan</td>\n",
              "      <td>automatic</td>\n",
              "      <td>5npeb4acxdh702805</td>\n",
              "      <td>ma</td>\n",
              "      <td>3.9</td>\n",
              "      <td>50404.0mi</td>\n",
              "      <td>black</td>\n",
              "      <td>gray</td>\n",
              "      <td>the hertz corporation</td>\n",
              "      <td>$11000</td>\n",
              "      <td>$10900</td>\n",
              "      <td>Tue Jun 02 2015 02:30:00 GMT-0700 (PDT)</td>\n",
              "    </tr>\n",
              "    <tr>\n",
              "      <th>1</th>\n",
              "      <td>2014</td>\n",
              "      <td>Toyota</td>\n",
              "      <td>4Runner</td>\n",
              "      <td>SR5</td>\n",
              "      <td>SUV</td>\n",
              "      <td>automatic</td>\n",
              "      <td>jtezu5jr2e5064567</td>\n",
              "      <td>fl</td>\n",
              "      <td>4.9</td>\n",
              "      <td>17846.0mi</td>\n",
              "      <td>gray</td>\n",
              "      <td>—</td>\n",
              "      <td>award auto sales and leasing inc</td>\n",
              "      <td>$28700</td>\n",
              "      <td>$29900</td>\n",
              "      <td>Wed Feb 18 2015 07:15:00 GMT-0800 (PST)</td>\n",
              "    </tr>\n",
              "    <tr>\n",
              "      <th>2</th>\n",
              "      <td>2012</td>\n",
              "      <td>Lexus</td>\n",
              "      <td>IS 250</td>\n",
              "      <td>Base</td>\n",
              "      <td>Sedan</td>\n",
              "      <td>automatic</td>\n",
              "      <td>jthbf5c24c5168599</td>\n",
              "      <td>fl</td>\n",
              "      <td>4.1</td>\n",
              "      <td>21122.0mi</td>\n",
              "      <td>silver</td>\n",
              "      <td>black</td>\n",
              "      <td>lexus financial services</td>\n",
              "      <td>$22200</td>\n",
              "      <td>$24200</td>\n",
              "      <td>Tue Jan 20 2015 01:30:00 GMT-0800 (PST)</td>\n",
              "    </tr>\n",
              "    <tr>\n",
              "      <th>3</th>\n",
              "      <td>2002</td>\n",
              "      <td>BMW</td>\n",
              "      <td>X5</td>\n",
              "      <td>4.4i</td>\n",
              "      <td>SUV</td>\n",
              "      <td>automatic</td>\n",
              "      <td>5uxfb33562lh33864</td>\n",
              "      <td>fl</td>\n",
              "      <td>1.9</td>\n",
              "      <td>145303.0mi</td>\n",
              "      <td>black</td>\n",
              "      <td>black</td>\n",
              "      <td>peddle llc</td>\n",
              "      <td>$3675</td>\n",
              "      <td>$3200</td>\n",
              "      <td>Wed Mar 04 2015 07:10:00 GMT-0800 (PST)</td>\n",
              "    </tr>\n",
              "    <tr>\n",
              "      <th>4</th>\n",
              "      <td>2014</td>\n",
              "      <td>Ford</td>\n",
              "      <td>E-Series Van</td>\n",
              "      <td>E-250</td>\n",
              "      <td>E-Series Van</td>\n",
              "      <td>automatic</td>\n",
              "      <td>1ftne2ew0eda31832</td>\n",
              "      <td>wa</td>\n",
              "      <td>4.9</td>\n",
              "      <td>6714.0mi</td>\n",
              "      <td>white</td>\n",
              "      <td>gray</td>\n",
              "      <td>u-haul</td>\n",
              "      <td>$22500</td>\n",
              "      <td>$22100</td>\n",
              "      <td>Wed Feb 18 2015 06:45:00 GMT-0800 (PST)</td>\n",
              "    </tr>\n",
              "  </tbody>\n",
              "</table>\n",
              "</div>\n",
              "      <button class=\"colab-df-convert\" onclick=\"convertToInteractive('df-052b2e9d-1dd3-4698-b1cf-47036fdbd125')\"\n",
              "              title=\"Convert this dataframe to an interactive table.\"\n",
              "              style=\"display:none;\">\n",
              "        \n",
              "  <svg xmlns=\"http://www.w3.org/2000/svg\" height=\"24px\"viewBox=\"0 0 24 24\"\n",
              "       width=\"24px\">\n",
              "    <path d=\"M0 0h24v24H0V0z\" fill=\"none\"/>\n",
              "    <path d=\"M18.56 5.44l.94 2.06.94-2.06 2.06-.94-2.06-.94-.94-2.06-.94 2.06-2.06.94zm-11 1L8.5 8.5l.94-2.06 2.06-.94-2.06-.94L8.5 2.5l-.94 2.06-2.06.94zm10 10l.94 2.06.94-2.06 2.06-.94-2.06-.94-.94-2.06-.94 2.06-2.06.94z\"/><path d=\"M17.41 7.96l-1.37-1.37c-.4-.4-.92-.59-1.43-.59-.52 0-1.04.2-1.43.59L10.3 9.45l-7.72 7.72c-.78.78-.78 2.05 0 2.83L4 21.41c.39.39.9.59 1.41.59.51 0 1.02-.2 1.41-.59l7.78-7.78 2.81-2.81c.8-.78.8-2.07 0-2.86zM5.41 20L4 18.59l7.72-7.72 1.47 1.35L5.41 20z\"/>\n",
              "  </svg>\n",
              "      </button>\n",
              "      \n",
              "  <style>\n",
              "    .colab-df-container {\n",
              "      display:flex;\n",
              "      flex-wrap:wrap;\n",
              "      gap: 12px;\n",
              "    }\n",
              "\n",
              "    .colab-df-convert {\n",
              "      background-color: #E8F0FE;\n",
              "      border: none;\n",
              "      border-radius: 50%;\n",
              "      cursor: pointer;\n",
              "      display: none;\n",
              "      fill: #1967D2;\n",
              "      height: 32px;\n",
              "      padding: 0 0 0 0;\n",
              "      width: 32px;\n",
              "    }\n",
              "\n",
              "    .colab-df-convert:hover {\n",
              "      background-color: #E2EBFA;\n",
              "      box-shadow: 0px 1px 2px rgba(60, 64, 67, 0.3), 0px 1px 3px 1px rgba(60, 64, 67, 0.15);\n",
              "      fill: #174EA6;\n",
              "    }\n",
              "\n",
              "    [theme=dark] .colab-df-convert {\n",
              "      background-color: #3B4455;\n",
              "      fill: #D2E3FC;\n",
              "    }\n",
              "\n",
              "    [theme=dark] .colab-df-convert:hover {\n",
              "      background-color: #434B5C;\n",
              "      box-shadow: 0px 1px 3px 1px rgba(0, 0, 0, 0.15);\n",
              "      filter: drop-shadow(0px 1px 2px rgba(0, 0, 0, 0.3));\n",
              "      fill: #FFFFFF;\n",
              "    }\n",
              "  </style>\n",
              "\n",
              "      <script>\n",
              "        const buttonEl =\n",
              "          document.querySelector('#df-052b2e9d-1dd3-4698-b1cf-47036fdbd125 button.colab-df-convert');\n",
              "        buttonEl.style.display =\n",
              "          google.colab.kernel.accessAllowed ? 'block' : 'none';\n",
              "\n",
              "        async function convertToInteractive(key) {\n",
              "          const element = document.querySelector('#df-052b2e9d-1dd3-4698-b1cf-47036fdbd125');\n",
              "          const dataTable =\n",
              "            await google.colab.kernel.invokeFunction('convertToInteractive',\n",
              "                                                     [key], {});\n",
              "          if (!dataTable) return;\n",
              "\n",
              "          const docLinkHtml = 'Like what you see? Visit the ' +\n",
              "            '<a target=\"_blank\" href=https://colab.research.google.com/notebooks/data_table.ipynb>data table notebook</a>'\n",
              "            + ' to learn more about interactive tables.';\n",
              "          element.innerHTML = '';\n",
              "          dataTable['output_type'] = 'display_data';\n",
              "          await google.colab.output.renderOutput(dataTable, element);\n",
              "          const docLink = document.createElement('div');\n",
              "          docLink.innerHTML = docLinkHtml;\n",
              "          element.appendChild(docLink);\n",
              "        }\n",
              "      </script>\n",
              "    </div>\n",
              "  </div>\n",
              "  "
            ]
          },
          "metadata": {},
          "execution_count": 889
        }
      ],
      "source": [
        "import pandas as pd\n",
        "import numpy as np\n",
        "import matplotlib.pyplot as plt\n",
        "import seaborn as sns\n",
        "\n",
        "%matplotlib inline\n",
        "plt.style.use(\"seaborn\")\n",
        "\n",
        "try:\n",
        "    df = pd.read_csv('car_prices.csv')\n",
        "except:\n",
        "    df = pd.read_csv('https://raw.githubusercontent.com/GUC-DM/W2022/main/data/car_prices.csv')\n",
        "\n",
        "df.head()"
      ]
    },
    {
      "cell_type": "markdown",
      "metadata": {
        "id": "kh39so4nutiZ"
      },
      "source": [
        "## Data Inspection\n",
        "\n",
        "Perform data inspection tasks here (recommended for data understanding)."
      ]
    },
    {
      "cell_type": "code",
      "execution_count": null,
      "metadata": {
        "id": "BKxQScJzutia",
        "colab": {
          "base_uri": "https://localhost:8080/"
        },
        "outputId": "3b8ed7e4-e7cd-40c4-f63d-fd2125b88721"
      },
      "outputs": [
        {
          "output_type": "stream",
          "name": "stdout",
          "text": [
            "<class 'pandas.core.frame.DataFrame'>\n",
            "RangeIndex: 46578 entries, 0 to 46577\n",
            "Data columns (total 16 columns):\n",
            " #   Column        Non-Null Count  Dtype  \n",
            "---  ------        --------------  -----  \n",
            " 0   year          46578 non-null  int64  \n",
            " 1   make          46578 non-null  object \n",
            " 2   model         46578 non-null  object \n",
            " 3   trim          46578 non-null  object \n",
            " 4   body          46578 non-null  object \n",
            " 5   transmission  46578 non-null  object \n",
            " 6   vin           46578 non-null  object \n",
            " 7   state         46578 non-null  object \n",
            " 8   condition     46578 non-null  float64\n",
            " 9   odometer      46578 non-null  object \n",
            " 10  color         46578 non-null  object \n",
            " 11  interior      46578 non-null  object \n",
            " 12  seller        46578 non-null  object \n",
            " 13  mmr           46578 non-null  object \n",
            " 14  sellingprice  46578 non-null  object \n",
            " 15  saledate      46578 non-null  object \n",
            "dtypes: float64(1), int64(1), object(14)\n",
            "memory usage: 5.7+ MB\n"
          ]
        }
      ],
      "source": [
        "df.info()"
      ]
    },
    {
      "cell_type": "code",
      "source": [
        "df.describe()"
      ],
      "metadata": {
        "id": "iUgAQr3oaEzm",
        "outputId": "1f8ca09e-c25a-419a-e59f-3e3a9fdb1a55",
        "colab": {
          "base_uri": "https://localhost:8080/",
          "height": 300
        }
      },
      "execution_count": null,
      "outputs": [
        {
          "output_type": "execute_result",
          "data": {
            "text/plain": [
              "               year     condition\n",
              "count  46578.000000  46578.000000\n",
              "mean    2010.203401      3.424265\n",
              "std        3.831316      0.944009\n",
              "min     1990.000000      1.000000\n",
              "25%     2008.000000      2.700000\n",
              "50%     2012.000000      3.600000\n",
              "75%     2013.000000      4.200000\n",
              "max     2015.000000      5.000000"
            ],
            "text/html": [
              "\n",
              "  <div id=\"df-d2c724bd-c8c5-4e59-af06-8edb63bca12e\">\n",
              "    <div class=\"colab-df-container\">\n",
              "      <div>\n",
              "<style scoped>\n",
              "    .dataframe tbody tr th:only-of-type {\n",
              "        vertical-align: middle;\n",
              "    }\n",
              "\n",
              "    .dataframe tbody tr th {\n",
              "        vertical-align: top;\n",
              "    }\n",
              "\n",
              "    .dataframe thead th {\n",
              "        text-align: right;\n",
              "    }\n",
              "</style>\n",
              "<table border=\"1\" class=\"dataframe\">\n",
              "  <thead>\n",
              "    <tr style=\"text-align: right;\">\n",
              "      <th></th>\n",
              "      <th>year</th>\n",
              "      <th>condition</th>\n",
              "    </tr>\n",
              "  </thead>\n",
              "  <tbody>\n",
              "    <tr>\n",
              "      <th>count</th>\n",
              "      <td>46578.000000</td>\n",
              "      <td>46578.000000</td>\n",
              "    </tr>\n",
              "    <tr>\n",
              "      <th>mean</th>\n",
              "      <td>2010.203401</td>\n",
              "      <td>3.424265</td>\n",
              "    </tr>\n",
              "    <tr>\n",
              "      <th>std</th>\n",
              "      <td>3.831316</td>\n",
              "      <td>0.944009</td>\n",
              "    </tr>\n",
              "    <tr>\n",
              "      <th>min</th>\n",
              "      <td>1990.000000</td>\n",
              "      <td>1.000000</td>\n",
              "    </tr>\n",
              "    <tr>\n",
              "      <th>25%</th>\n",
              "      <td>2008.000000</td>\n",
              "      <td>2.700000</td>\n",
              "    </tr>\n",
              "    <tr>\n",
              "      <th>50%</th>\n",
              "      <td>2012.000000</td>\n",
              "      <td>3.600000</td>\n",
              "    </tr>\n",
              "    <tr>\n",
              "      <th>75%</th>\n",
              "      <td>2013.000000</td>\n",
              "      <td>4.200000</td>\n",
              "    </tr>\n",
              "    <tr>\n",
              "      <th>max</th>\n",
              "      <td>2015.000000</td>\n",
              "      <td>5.000000</td>\n",
              "    </tr>\n",
              "  </tbody>\n",
              "</table>\n",
              "</div>\n",
              "      <button class=\"colab-df-convert\" onclick=\"convertToInteractive('df-d2c724bd-c8c5-4e59-af06-8edb63bca12e')\"\n",
              "              title=\"Convert this dataframe to an interactive table.\"\n",
              "              style=\"display:none;\">\n",
              "        \n",
              "  <svg xmlns=\"http://www.w3.org/2000/svg\" height=\"24px\"viewBox=\"0 0 24 24\"\n",
              "       width=\"24px\">\n",
              "    <path d=\"M0 0h24v24H0V0z\" fill=\"none\"/>\n",
              "    <path d=\"M18.56 5.44l.94 2.06.94-2.06 2.06-.94-2.06-.94-.94-2.06-.94 2.06-2.06.94zm-11 1L8.5 8.5l.94-2.06 2.06-.94-2.06-.94L8.5 2.5l-.94 2.06-2.06.94zm10 10l.94 2.06.94-2.06 2.06-.94-2.06-.94-.94-2.06-.94 2.06-2.06.94z\"/><path d=\"M17.41 7.96l-1.37-1.37c-.4-.4-.92-.59-1.43-.59-.52 0-1.04.2-1.43.59L10.3 9.45l-7.72 7.72c-.78.78-.78 2.05 0 2.83L4 21.41c.39.39.9.59 1.41.59.51 0 1.02-.2 1.41-.59l7.78-7.78 2.81-2.81c.8-.78.8-2.07 0-2.86zM5.41 20L4 18.59l7.72-7.72 1.47 1.35L5.41 20z\"/>\n",
              "  </svg>\n",
              "      </button>\n",
              "      \n",
              "  <style>\n",
              "    .colab-df-container {\n",
              "      display:flex;\n",
              "      flex-wrap:wrap;\n",
              "      gap: 12px;\n",
              "    }\n",
              "\n",
              "    .colab-df-convert {\n",
              "      background-color: #E8F0FE;\n",
              "      border: none;\n",
              "      border-radius: 50%;\n",
              "      cursor: pointer;\n",
              "      display: none;\n",
              "      fill: #1967D2;\n",
              "      height: 32px;\n",
              "      padding: 0 0 0 0;\n",
              "      width: 32px;\n",
              "    }\n",
              "\n",
              "    .colab-df-convert:hover {\n",
              "      background-color: #E2EBFA;\n",
              "      box-shadow: 0px 1px 2px rgba(60, 64, 67, 0.3), 0px 1px 3px 1px rgba(60, 64, 67, 0.15);\n",
              "      fill: #174EA6;\n",
              "    }\n",
              "\n",
              "    [theme=dark] .colab-df-convert {\n",
              "      background-color: #3B4455;\n",
              "      fill: #D2E3FC;\n",
              "    }\n",
              "\n",
              "    [theme=dark] .colab-df-convert:hover {\n",
              "      background-color: #434B5C;\n",
              "      box-shadow: 0px 1px 3px 1px rgba(0, 0, 0, 0.15);\n",
              "      filter: drop-shadow(0px 1px 2px rgba(0, 0, 0, 0.3));\n",
              "      fill: #FFFFFF;\n",
              "    }\n",
              "  </style>\n",
              "\n",
              "      <script>\n",
              "        const buttonEl =\n",
              "          document.querySelector('#df-d2c724bd-c8c5-4e59-af06-8edb63bca12e button.colab-df-convert');\n",
              "        buttonEl.style.display =\n",
              "          google.colab.kernel.accessAllowed ? 'block' : 'none';\n",
              "\n",
              "        async function convertToInteractive(key) {\n",
              "          const element = document.querySelector('#df-d2c724bd-c8c5-4e59-af06-8edb63bca12e');\n",
              "          const dataTable =\n",
              "            await google.colab.kernel.invokeFunction('convertToInteractive',\n",
              "                                                     [key], {});\n",
              "          if (!dataTable) return;\n",
              "\n",
              "          const docLinkHtml = 'Like what you see? Visit the ' +\n",
              "            '<a target=\"_blank\" href=https://colab.research.google.com/notebooks/data_table.ipynb>data table notebook</a>'\n",
              "            + ' to learn more about interactive tables.';\n",
              "          element.innerHTML = '';\n",
              "          dataTable['output_type'] = 'display_data';\n",
              "          await google.colab.output.renderOutput(dataTable, element);\n",
              "          const docLink = document.createElement('div');\n",
              "          docLink.innerHTML = docLinkHtml;\n",
              "          element.appendChild(docLink);\n",
              "        }\n",
              "      </script>\n",
              "    </div>\n",
              "  </div>\n",
              "  "
            ]
          },
          "metadata": {},
          "execution_count": 891
        }
      ]
    },
    {
      "cell_type": "code",
      "source": [
        "#to include categorical values in describe\n",
        "df.describe(include='all')"
      ],
      "metadata": {
        "id": "naE52BBbaPa7",
        "outputId": "caa8c905-9774-4ea6-98b4-026acf324832",
        "colab": {
          "base_uri": "https://localhost:8080/",
          "height": 456
        }
      },
      "execution_count": null,
      "outputs": [
        {
          "output_type": "execute_result",
          "data": {
            "text/plain": [
              "                year   make   model   trim   body transmission  \\\n",
              "count   46578.000000  46578   46578  46578  46578        46578   \n",
              "unique           NaN     48     648   1097     71            2   \n",
              "top              NaN   Ford  Altima   Base  Sedan    automatic   \n",
              "freq             NaN   7871    1610   4851  17171        44928   \n",
              "mean     2010.203401    NaN     NaN    NaN    NaN          NaN   \n",
              "std         3.831316    NaN     NaN    NaN    NaN          NaN   \n",
              "min      1990.000000    NaN     NaN    NaN    NaN          NaN   \n",
              "25%      2008.000000    NaN     NaN    NaN    NaN          NaN   \n",
              "50%      2012.000000    NaN     NaN    NaN    NaN          NaN   \n",
              "75%      2013.000000    NaN     NaN    NaN    NaN          NaN   \n",
              "max      2015.000000    NaN     NaN    NaN    NaN          NaN   \n",
              "\n",
              "                      vin  state     condition odometer  color interior  \\\n",
              "count               46578  46578  46578.000000    46578  46578    46578   \n",
              "unique              46578     34           NaN    39460     20       17   \n",
              "top     5npeb4acxdh702805     fl           NaN    1.0mi  black    black   \n",
              "freq                    1   7451           NaN       86   9156    20734   \n",
              "mean                  NaN    NaN      3.424265      NaN    NaN      NaN   \n",
              "std                   NaN    NaN      0.944009      NaN    NaN      NaN   \n",
              "min                   NaN    NaN      1.000000      NaN    NaN      NaN   \n",
              "25%                   NaN    NaN      2.700000      NaN    NaN      NaN   \n",
              "50%                   NaN    NaN      3.600000      NaN    NaN      NaN   \n",
              "75%                   NaN    NaN      4.200000      NaN    NaN      NaN   \n",
              "max                   NaN    NaN      5.000000      NaN    NaN      NaN   \n",
              "\n",
              "                               seller     mmr sellingprice  \\\n",
              "count                           46578   46578        46578   \n",
              "unique                           4686    1021          953   \n",
              "top     ford motor credit company,llc  $11300       $12000   \n",
              "freq                             1733     168          397   \n",
              "mean                              NaN     NaN          NaN   \n",
              "std                               NaN     NaN          NaN   \n",
              "min                               NaN     NaN          NaN   \n",
              "25%                               NaN     NaN          NaN   \n",
              "50%                               NaN     NaN          NaN   \n",
              "75%                               NaN     NaN          NaN   \n",
              "max                               NaN     NaN          NaN   \n",
              "\n",
              "                                       saledate  \n",
              "count                                     46578  \n",
              "unique                                     2286  \n",
              "top     Tue Feb 10 2015 01:30:00 GMT-0800 (PST)  \n",
              "freq                                        490  \n",
              "mean                                        NaN  \n",
              "std                                         NaN  \n",
              "min                                         NaN  \n",
              "25%                                         NaN  \n",
              "50%                                         NaN  \n",
              "75%                                         NaN  \n",
              "max                                         NaN  "
            ],
            "text/html": [
              "\n",
              "  <div id=\"df-98ca86a6-4019-4aa8-8532-8bc717273832\">\n",
              "    <div class=\"colab-df-container\">\n",
              "      <div>\n",
              "<style scoped>\n",
              "    .dataframe tbody tr th:only-of-type {\n",
              "        vertical-align: middle;\n",
              "    }\n",
              "\n",
              "    .dataframe tbody tr th {\n",
              "        vertical-align: top;\n",
              "    }\n",
              "\n",
              "    .dataframe thead th {\n",
              "        text-align: right;\n",
              "    }\n",
              "</style>\n",
              "<table border=\"1\" class=\"dataframe\">\n",
              "  <thead>\n",
              "    <tr style=\"text-align: right;\">\n",
              "      <th></th>\n",
              "      <th>year</th>\n",
              "      <th>make</th>\n",
              "      <th>model</th>\n",
              "      <th>trim</th>\n",
              "      <th>body</th>\n",
              "      <th>transmission</th>\n",
              "      <th>vin</th>\n",
              "      <th>state</th>\n",
              "      <th>condition</th>\n",
              "      <th>odometer</th>\n",
              "      <th>color</th>\n",
              "      <th>interior</th>\n",
              "      <th>seller</th>\n",
              "      <th>mmr</th>\n",
              "      <th>sellingprice</th>\n",
              "      <th>saledate</th>\n",
              "    </tr>\n",
              "  </thead>\n",
              "  <tbody>\n",
              "    <tr>\n",
              "      <th>count</th>\n",
              "      <td>46578.000000</td>\n",
              "      <td>46578</td>\n",
              "      <td>46578</td>\n",
              "      <td>46578</td>\n",
              "      <td>46578</td>\n",
              "      <td>46578</td>\n",
              "      <td>46578</td>\n",
              "      <td>46578</td>\n",
              "      <td>46578.000000</td>\n",
              "      <td>46578</td>\n",
              "      <td>46578</td>\n",
              "      <td>46578</td>\n",
              "      <td>46578</td>\n",
              "      <td>46578</td>\n",
              "      <td>46578</td>\n",
              "      <td>46578</td>\n",
              "    </tr>\n",
              "    <tr>\n",
              "      <th>unique</th>\n",
              "      <td>NaN</td>\n",
              "      <td>48</td>\n",
              "      <td>648</td>\n",
              "      <td>1097</td>\n",
              "      <td>71</td>\n",
              "      <td>2</td>\n",
              "      <td>46578</td>\n",
              "      <td>34</td>\n",
              "      <td>NaN</td>\n",
              "      <td>39460</td>\n",
              "      <td>20</td>\n",
              "      <td>17</td>\n",
              "      <td>4686</td>\n",
              "      <td>1021</td>\n",
              "      <td>953</td>\n",
              "      <td>2286</td>\n",
              "    </tr>\n",
              "    <tr>\n",
              "      <th>top</th>\n",
              "      <td>NaN</td>\n",
              "      <td>Ford</td>\n",
              "      <td>Altima</td>\n",
              "      <td>Base</td>\n",
              "      <td>Sedan</td>\n",
              "      <td>automatic</td>\n",
              "      <td>5npeb4acxdh702805</td>\n",
              "      <td>fl</td>\n",
              "      <td>NaN</td>\n",
              "      <td>1.0mi</td>\n",
              "      <td>black</td>\n",
              "      <td>black</td>\n",
              "      <td>ford motor credit company,llc</td>\n",
              "      <td>$11300</td>\n",
              "      <td>$12000</td>\n",
              "      <td>Tue Feb 10 2015 01:30:00 GMT-0800 (PST)</td>\n",
              "    </tr>\n",
              "    <tr>\n",
              "      <th>freq</th>\n",
              "      <td>NaN</td>\n",
              "      <td>7871</td>\n",
              "      <td>1610</td>\n",
              "      <td>4851</td>\n",
              "      <td>17171</td>\n",
              "      <td>44928</td>\n",
              "      <td>1</td>\n",
              "      <td>7451</td>\n",
              "      <td>NaN</td>\n",
              "      <td>86</td>\n",
              "      <td>9156</td>\n",
              "      <td>20734</td>\n",
              "      <td>1733</td>\n",
              "      <td>168</td>\n",
              "      <td>397</td>\n",
              "      <td>490</td>\n",
              "    </tr>\n",
              "    <tr>\n",
              "      <th>mean</th>\n",
              "      <td>2010.203401</td>\n",
              "      <td>NaN</td>\n",
              "      <td>NaN</td>\n",
              "      <td>NaN</td>\n",
              "      <td>NaN</td>\n",
              "      <td>NaN</td>\n",
              "      <td>NaN</td>\n",
              "      <td>NaN</td>\n",
              "      <td>3.424265</td>\n",
              "      <td>NaN</td>\n",
              "      <td>NaN</td>\n",
              "      <td>NaN</td>\n",
              "      <td>NaN</td>\n",
              "      <td>NaN</td>\n",
              "      <td>NaN</td>\n",
              "      <td>NaN</td>\n",
              "    </tr>\n",
              "    <tr>\n",
              "      <th>std</th>\n",
              "      <td>3.831316</td>\n",
              "      <td>NaN</td>\n",
              "      <td>NaN</td>\n",
              "      <td>NaN</td>\n",
              "      <td>NaN</td>\n",
              "      <td>NaN</td>\n",
              "      <td>NaN</td>\n",
              "      <td>NaN</td>\n",
              "      <td>0.944009</td>\n",
              "      <td>NaN</td>\n",
              "      <td>NaN</td>\n",
              "      <td>NaN</td>\n",
              "      <td>NaN</td>\n",
              "      <td>NaN</td>\n",
              "      <td>NaN</td>\n",
              "      <td>NaN</td>\n",
              "    </tr>\n",
              "    <tr>\n",
              "      <th>min</th>\n",
              "      <td>1990.000000</td>\n",
              "      <td>NaN</td>\n",
              "      <td>NaN</td>\n",
              "      <td>NaN</td>\n",
              "      <td>NaN</td>\n",
              "      <td>NaN</td>\n",
              "      <td>NaN</td>\n",
              "      <td>NaN</td>\n",
              "      <td>1.000000</td>\n",
              "      <td>NaN</td>\n",
              "      <td>NaN</td>\n",
              "      <td>NaN</td>\n",
              "      <td>NaN</td>\n",
              "      <td>NaN</td>\n",
              "      <td>NaN</td>\n",
              "      <td>NaN</td>\n",
              "    </tr>\n",
              "    <tr>\n",
              "      <th>25%</th>\n",
              "      <td>2008.000000</td>\n",
              "      <td>NaN</td>\n",
              "      <td>NaN</td>\n",
              "      <td>NaN</td>\n",
              "      <td>NaN</td>\n",
              "      <td>NaN</td>\n",
              "      <td>NaN</td>\n",
              "      <td>NaN</td>\n",
              "      <td>2.700000</td>\n",
              "      <td>NaN</td>\n",
              "      <td>NaN</td>\n",
              "      <td>NaN</td>\n",
              "      <td>NaN</td>\n",
              "      <td>NaN</td>\n",
              "      <td>NaN</td>\n",
              "      <td>NaN</td>\n",
              "    </tr>\n",
              "    <tr>\n",
              "      <th>50%</th>\n",
              "      <td>2012.000000</td>\n",
              "      <td>NaN</td>\n",
              "      <td>NaN</td>\n",
              "      <td>NaN</td>\n",
              "      <td>NaN</td>\n",
              "      <td>NaN</td>\n",
              "      <td>NaN</td>\n",
              "      <td>NaN</td>\n",
              "      <td>3.600000</td>\n",
              "      <td>NaN</td>\n",
              "      <td>NaN</td>\n",
              "      <td>NaN</td>\n",
              "      <td>NaN</td>\n",
              "      <td>NaN</td>\n",
              "      <td>NaN</td>\n",
              "      <td>NaN</td>\n",
              "    </tr>\n",
              "    <tr>\n",
              "      <th>75%</th>\n",
              "      <td>2013.000000</td>\n",
              "      <td>NaN</td>\n",
              "      <td>NaN</td>\n",
              "      <td>NaN</td>\n",
              "      <td>NaN</td>\n",
              "      <td>NaN</td>\n",
              "      <td>NaN</td>\n",
              "      <td>NaN</td>\n",
              "      <td>4.200000</td>\n",
              "      <td>NaN</td>\n",
              "      <td>NaN</td>\n",
              "      <td>NaN</td>\n",
              "      <td>NaN</td>\n",
              "      <td>NaN</td>\n",
              "      <td>NaN</td>\n",
              "      <td>NaN</td>\n",
              "    </tr>\n",
              "    <tr>\n",
              "      <th>max</th>\n",
              "      <td>2015.000000</td>\n",
              "      <td>NaN</td>\n",
              "      <td>NaN</td>\n",
              "      <td>NaN</td>\n",
              "      <td>NaN</td>\n",
              "      <td>NaN</td>\n",
              "      <td>NaN</td>\n",
              "      <td>NaN</td>\n",
              "      <td>5.000000</td>\n",
              "      <td>NaN</td>\n",
              "      <td>NaN</td>\n",
              "      <td>NaN</td>\n",
              "      <td>NaN</td>\n",
              "      <td>NaN</td>\n",
              "      <td>NaN</td>\n",
              "      <td>NaN</td>\n",
              "    </tr>\n",
              "  </tbody>\n",
              "</table>\n",
              "</div>\n",
              "      <button class=\"colab-df-convert\" onclick=\"convertToInteractive('df-98ca86a6-4019-4aa8-8532-8bc717273832')\"\n",
              "              title=\"Convert this dataframe to an interactive table.\"\n",
              "              style=\"display:none;\">\n",
              "        \n",
              "  <svg xmlns=\"http://www.w3.org/2000/svg\" height=\"24px\"viewBox=\"0 0 24 24\"\n",
              "       width=\"24px\">\n",
              "    <path d=\"M0 0h24v24H0V0z\" fill=\"none\"/>\n",
              "    <path d=\"M18.56 5.44l.94 2.06.94-2.06 2.06-.94-2.06-.94-.94-2.06-.94 2.06-2.06.94zm-11 1L8.5 8.5l.94-2.06 2.06-.94-2.06-.94L8.5 2.5l-.94 2.06-2.06.94zm10 10l.94 2.06.94-2.06 2.06-.94-2.06-.94-.94-2.06-.94 2.06-2.06.94z\"/><path d=\"M17.41 7.96l-1.37-1.37c-.4-.4-.92-.59-1.43-.59-.52 0-1.04.2-1.43.59L10.3 9.45l-7.72 7.72c-.78.78-.78 2.05 0 2.83L4 21.41c.39.39.9.59 1.41.59.51 0 1.02-.2 1.41-.59l7.78-7.78 2.81-2.81c.8-.78.8-2.07 0-2.86zM5.41 20L4 18.59l7.72-7.72 1.47 1.35L5.41 20z\"/>\n",
              "  </svg>\n",
              "      </button>\n",
              "      \n",
              "  <style>\n",
              "    .colab-df-container {\n",
              "      display:flex;\n",
              "      flex-wrap:wrap;\n",
              "      gap: 12px;\n",
              "    }\n",
              "\n",
              "    .colab-df-convert {\n",
              "      background-color: #E8F0FE;\n",
              "      border: none;\n",
              "      border-radius: 50%;\n",
              "      cursor: pointer;\n",
              "      display: none;\n",
              "      fill: #1967D2;\n",
              "      height: 32px;\n",
              "      padding: 0 0 0 0;\n",
              "      width: 32px;\n",
              "    }\n",
              "\n",
              "    .colab-df-convert:hover {\n",
              "      background-color: #E2EBFA;\n",
              "      box-shadow: 0px 1px 2px rgba(60, 64, 67, 0.3), 0px 1px 3px 1px rgba(60, 64, 67, 0.15);\n",
              "      fill: #174EA6;\n",
              "    }\n",
              "\n",
              "    [theme=dark] .colab-df-convert {\n",
              "      background-color: #3B4455;\n",
              "      fill: #D2E3FC;\n",
              "    }\n",
              "\n",
              "    [theme=dark] .colab-df-convert:hover {\n",
              "      background-color: #434B5C;\n",
              "      box-shadow: 0px 1px 3px 1px rgba(0, 0, 0, 0.15);\n",
              "      filter: drop-shadow(0px 1px 2px rgba(0, 0, 0, 0.3));\n",
              "      fill: #FFFFFF;\n",
              "    }\n",
              "  </style>\n",
              "\n",
              "      <script>\n",
              "        const buttonEl =\n",
              "          document.querySelector('#df-98ca86a6-4019-4aa8-8532-8bc717273832 button.colab-df-convert');\n",
              "        buttonEl.style.display =\n",
              "          google.colab.kernel.accessAllowed ? 'block' : 'none';\n",
              "\n",
              "        async function convertToInteractive(key) {\n",
              "          const element = document.querySelector('#df-98ca86a6-4019-4aa8-8532-8bc717273832');\n",
              "          const dataTable =\n",
              "            await google.colab.kernel.invokeFunction('convertToInteractive',\n",
              "                                                     [key], {});\n",
              "          if (!dataTable) return;\n",
              "\n",
              "          const docLinkHtml = 'Like what you see? Visit the ' +\n",
              "            '<a target=\"_blank\" href=https://colab.research.google.com/notebooks/data_table.ipynb>data table notebook</a>'\n",
              "            + ' to learn more about interactive tables.';\n",
              "          element.innerHTML = '';\n",
              "          dataTable['output_type'] = 'display_data';\n",
              "          await google.colab.output.renderOutput(dataTable, element);\n",
              "          const docLink = document.createElement('div');\n",
              "          docLink.innerHTML = docLinkHtml;\n",
              "          element.appendChild(docLink);\n",
              "        }\n",
              "      </script>\n",
              "    </div>\n",
              "  </div>\n",
              "  "
            ]
          },
          "metadata": {},
          "execution_count": 892
        }
      ]
    },
    {
      "cell_type": "code",
      "source": [
        "#to check if there are missing values\n",
        "df.isnull().sum()"
      ],
      "metadata": {
        "id": "hVHTalpUazkY",
        "outputId": "2752ac41-8a2d-4692-aea5-8d0af2411155",
        "colab": {
          "base_uri": "https://localhost:8080/"
        }
      },
      "execution_count": null,
      "outputs": [
        {
          "output_type": "execute_result",
          "data": {
            "text/plain": [
              "year            0\n",
              "make            0\n",
              "model           0\n",
              "trim            0\n",
              "body            0\n",
              "transmission    0\n",
              "vin             0\n",
              "state           0\n",
              "condition       0\n",
              "odometer        0\n",
              "color           0\n",
              "interior        0\n",
              "seller          0\n",
              "mmr             0\n",
              "sellingprice    0\n",
              "saledate        0\n",
              "dtype: int64"
            ]
          },
          "metadata": {},
          "execution_count": 893
        }
      ]
    },
    {
      "cell_type": "code",
      "source": [
        "#to check if there are duplicate rows/records\n",
        "sum(df.duplicated())"
      ],
      "metadata": {
        "id": "dCZOBGgIazy8",
        "outputId": "c415f2cd-7b6c-4ad6-c8a7-2fd676fbafac",
        "colab": {
          "base_uri": "https://localhost:8080/"
        }
      },
      "execution_count": null,
      "outputs": [
        {
          "output_type": "execute_result",
          "data": {
            "text/plain": [
              "0"
            ]
          },
          "metadata": {},
          "execution_count": 894
        }
      ]
    },
    {
      "cell_type": "markdown",
      "source": [
        "This indicates that the dataset has no duplicate rows"
      ],
      "metadata": {
        "id": "1Bk2YKF_boJH"
      }
    },
    {
      "cell_type": "code",
      "source": [
        "df.head()"
      ],
      "metadata": {
        "id": "OyzgfMDBesZc",
        "outputId": "996a4fa9-b249-47e3-d1cc-f1873a5faf8c",
        "colab": {
          "base_uri": "https://localhost:8080/",
          "height": 337
        }
      },
      "execution_count": null,
      "outputs": [
        {
          "output_type": "execute_result",
          "data": {
            "text/plain": [
              "   year     make         model   trim          body transmission  \\\n",
              "0  2013  Hyundai        Sonata    GLS         sedan    automatic   \n",
              "1  2014   Toyota       4Runner    SR5           SUV    automatic   \n",
              "2  2012    Lexus        IS 250   Base         Sedan    automatic   \n",
              "3  2002      BMW            X5   4.4i           SUV    automatic   \n",
              "4  2014     Ford  E-Series Van  E-250  E-Series Van    automatic   \n",
              "\n",
              "                 vin state  condition    odometer   color interior  \\\n",
              "0  5npeb4acxdh702805    ma        3.9   50404.0mi   black     gray   \n",
              "1  jtezu5jr2e5064567    fl        4.9   17846.0mi    gray        —   \n",
              "2  jthbf5c24c5168599    fl        4.1   21122.0mi  silver    black   \n",
              "3  5uxfb33562lh33864    fl        1.9  145303.0mi   black    black   \n",
              "4  1ftne2ew0eda31832    wa        4.9    6714.0mi   white     gray   \n",
              "\n",
              "                             seller     mmr sellingprice  \\\n",
              "0             the hertz corporation  $11000       $10900   \n",
              "1  award auto sales and leasing inc  $28700       $29900   \n",
              "2          lexus financial services  $22200       $24200   \n",
              "3                        peddle llc   $3675        $3200   \n",
              "4                            u-haul  $22500       $22100   \n",
              "\n",
              "                                  saledate  \n",
              "0  Tue Jun 02 2015 02:30:00 GMT-0700 (PDT)  \n",
              "1  Wed Feb 18 2015 07:15:00 GMT-0800 (PST)  \n",
              "2  Tue Jan 20 2015 01:30:00 GMT-0800 (PST)  \n",
              "3  Wed Mar 04 2015 07:10:00 GMT-0800 (PST)  \n",
              "4  Wed Feb 18 2015 06:45:00 GMT-0800 (PST)  "
            ],
            "text/html": [
              "\n",
              "  <div id=\"df-1f95e970-e8d5-42aa-a494-085cbc1c8172\">\n",
              "    <div class=\"colab-df-container\">\n",
              "      <div>\n",
              "<style scoped>\n",
              "    .dataframe tbody tr th:only-of-type {\n",
              "        vertical-align: middle;\n",
              "    }\n",
              "\n",
              "    .dataframe tbody tr th {\n",
              "        vertical-align: top;\n",
              "    }\n",
              "\n",
              "    .dataframe thead th {\n",
              "        text-align: right;\n",
              "    }\n",
              "</style>\n",
              "<table border=\"1\" class=\"dataframe\">\n",
              "  <thead>\n",
              "    <tr style=\"text-align: right;\">\n",
              "      <th></th>\n",
              "      <th>year</th>\n",
              "      <th>make</th>\n",
              "      <th>model</th>\n",
              "      <th>trim</th>\n",
              "      <th>body</th>\n",
              "      <th>transmission</th>\n",
              "      <th>vin</th>\n",
              "      <th>state</th>\n",
              "      <th>condition</th>\n",
              "      <th>odometer</th>\n",
              "      <th>color</th>\n",
              "      <th>interior</th>\n",
              "      <th>seller</th>\n",
              "      <th>mmr</th>\n",
              "      <th>sellingprice</th>\n",
              "      <th>saledate</th>\n",
              "    </tr>\n",
              "  </thead>\n",
              "  <tbody>\n",
              "    <tr>\n",
              "      <th>0</th>\n",
              "      <td>2013</td>\n",
              "      <td>Hyundai</td>\n",
              "      <td>Sonata</td>\n",
              "      <td>GLS</td>\n",
              "      <td>sedan</td>\n",
              "      <td>automatic</td>\n",
              "      <td>5npeb4acxdh702805</td>\n",
              "      <td>ma</td>\n",
              "      <td>3.9</td>\n",
              "      <td>50404.0mi</td>\n",
              "      <td>black</td>\n",
              "      <td>gray</td>\n",
              "      <td>the hertz corporation</td>\n",
              "      <td>$11000</td>\n",
              "      <td>$10900</td>\n",
              "      <td>Tue Jun 02 2015 02:30:00 GMT-0700 (PDT)</td>\n",
              "    </tr>\n",
              "    <tr>\n",
              "      <th>1</th>\n",
              "      <td>2014</td>\n",
              "      <td>Toyota</td>\n",
              "      <td>4Runner</td>\n",
              "      <td>SR5</td>\n",
              "      <td>SUV</td>\n",
              "      <td>automatic</td>\n",
              "      <td>jtezu5jr2e5064567</td>\n",
              "      <td>fl</td>\n",
              "      <td>4.9</td>\n",
              "      <td>17846.0mi</td>\n",
              "      <td>gray</td>\n",
              "      <td>—</td>\n",
              "      <td>award auto sales and leasing inc</td>\n",
              "      <td>$28700</td>\n",
              "      <td>$29900</td>\n",
              "      <td>Wed Feb 18 2015 07:15:00 GMT-0800 (PST)</td>\n",
              "    </tr>\n",
              "    <tr>\n",
              "      <th>2</th>\n",
              "      <td>2012</td>\n",
              "      <td>Lexus</td>\n",
              "      <td>IS 250</td>\n",
              "      <td>Base</td>\n",
              "      <td>Sedan</td>\n",
              "      <td>automatic</td>\n",
              "      <td>jthbf5c24c5168599</td>\n",
              "      <td>fl</td>\n",
              "      <td>4.1</td>\n",
              "      <td>21122.0mi</td>\n",
              "      <td>silver</td>\n",
              "      <td>black</td>\n",
              "      <td>lexus financial services</td>\n",
              "      <td>$22200</td>\n",
              "      <td>$24200</td>\n",
              "      <td>Tue Jan 20 2015 01:30:00 GMT-0800 (PST)</td>\n",
              "    </tr>\n",
              "    <tr>\n",
              "      <th>3</th>\n",
              "      <td>2002</td>\n",
              "      <td>BMW</td>\n",
              "      <td>X5</td>\n",
              "      <td>4.4i</td>\n",
              "      <td>SUV</td>\n",
              "      <td>automatic</td>\n",
              "      <td>5uxfb33562lh33864</td>\n",
              "      <td>fl</td>\n",
              "      <td>1.9</td>\n",
              "      <td>145303.0mi</td>\n",
              "      <td>black</td>\n",
              "      <td>black</td>\n",
              "      <td>peddle llc</td>\n",
              "      <td>$3675</td>\n",
              "      <td>$3200</td>\n",
              "      <td>Wed Mar 04 2015 07:10:00 GMT-0800 (PST)</td>\n",
              "    </tr>\n",
              "    <tr>\n",
              "      <th>4</th>\n",
              "      <td>2014</td>\n",
              "      <td>Ford</td>\n",
              "      <td>E-Series Van</td>\n",
              "      <td>E-250</td>\n",
              "      <td>E-Series Van</td>\n",
              "      <td>automatic</td>\n",
              "      <td>1ftne2ew0eda31832</td>\n",
              "      <td>wa</td>\n",
              "      <td>4.9</td>\n",
              "      <td>6714.0mi</td>\n",
              "      <td>white</td>\n",
              "      <td>gray</td>\n",
              "      <td>u-haul</td>\n",
              "      <td>$22500</td>\n",
              "      <td>$22100</td>\n",
              "      <td>Wed Feb 18 2015 06:45:00 GMT-0800 (PST)</td>\n",
              "    </tr>\n",
              "  </tbody>\n",
              "</table>\n",
              "</div>\n",
              "      <button class=\"colab-df-convert\" onclick=\"convertToInteractive('df-1f95e970-e8d5-42aa-a494-085cbc1c8172')\"\n",
              "              title=\"Convert this dataframe to an interactive table.\"\n",
              "              style=\"display:none;\">\n",
              "        \n",
              "  <svg xmlns=\"http://www.w3.org/2000/svg\" height=\"24px\"viewBox=\"0 0 24 24\"\n",
              "       width=\"24px\">\n",
              "    <path d=\"M0 0h24v24H0V0z\" fill=\"none\"/>\n",
              "    <path d=\"M18.56 5.44l.94 2.06.94-2.06 2.06-.94-2.06-.94-.94-2.06-.94 2.06-2.06.94zm-11 1L8.5 8.5l.94-2.06 2.06-.94-2.06-.94L8.5 2.5l-.94 2.06-2.06.94zm10 10l.94 2.06.94-2.06 2.06-.94-2.06-.94-.94-2.06-.94 2.06-2.06.94z\"/><path d=\"M17.41 7.96l-1.37-1.37c-.4-.4-.92-.59-1.43-.59-.52 0-1.04.2-1.43.59L10.3 9.45l-7.72 7.72c-.78.78-.78 2.05 0 2.83L4 21.41c.39.39.9.59 1.41.59.51 0 1.02-.2 1.41-.59l7.78-7.78 2.81-2.81c.8-.78.8-2.07 0-2.86zM5.41 20L4 18.59l7.72-7.72 1.47 1.35L5.41 20z\"/>\n",
              "  </svg>\n",
              "      </button>\n",
              "      \n",
              "  <style>\n",
              "    .colab-df-container {\n",
              "      display:flex;\n",
              "      flex-wrap:wrap;\n",
              "      gap: 12px;\n",
              "    }\n",
              "\n",
              "    .colab-df-convert {\n",
              "      background-color: #E8F0FE;\n",
              "      border: none;\n",
              "      border-radius: 50%;\n",
              "      cursor: pointer;\n",
              "      display: none;\n",
              "      fill: #1967D2;\n",
              "      height: 32px;\n",
              "      padding: 0 0 0 0;\n",
              "      width: 32px;\n",
              "    }\n",
              "\n",
              "    .colab-df-convert:hover {\n",
              "      background-color: #E2EBFA;\n",
              "      box-shadow: 0px 1px 2px rgba(60, 64, 67, 0.3), 0px 1px 3px 1px rgba(60, 64, 67, 0.15);\n",
              "      fill: #174EA6;\n",
              "    }\n",
              "\n",
              "    [theme=dark] .colab-df-convert {\n",
              "      background-color: #3B4455;\n",
              "      fill: #D2E3FC;\n",
              "    }\n",
              "\n",
              "    [theme=dark] .colab-df-convert:hover {\n",
              "      background-color: #434B5C;\n",
              "      box-shadow: 0px 1px 3px 1px rgba(0, 0, 0, 0.15);\n",
              "      filter: drop-shadow(0px 1px 2px rgba(0, 0, 0, 0.3));\n",
              "      fill: #FFFFFF;\n",
              "    }\n",
              "  </style>\n",
              "\n",
              "      <script>\n",
              "        const buttonEl =\n",
              "          document.querySelector('#df-1f95e970-e8d5-42aa-a494-085cbc1c8172 button.colab-df-convert');\n",
              "        buttonEl.style.display =\n",
              "          google.colab.kernel.accessAllowed ? 'block' : 'none';\n",
              "\n",
              "        async function convertToInteractive(key) {\n",
              "          const element = document.querySelector('#df-1f95e970-e8d5-42aa-a494-085cbc1c8172');\n",
              "          const dataTable =\n",
              "            await google.colab.kernel.invokeFunction('convertToInteractive',\n",
              "                                                     [key], {});\n",
              "          if (!dataTable) return;\n",
              "\n",
              "          const docLinkHtml = 'Like what you see? Visit the ' +\n",
              "            '<a target=\"_blank\" href=https://colab.research.google.com/notebooks/data_table.ipynb>data table notebook</a>'\n",
              "            + ' to learn more about interactive tables.';\n",
              "          element.innerHTML = '';\n",
              "          dataTable['output_type'] = 'display_data';\n",
              "          await google.colab.output.renderOutput(dataTable, element);\n",
              "          const docLink = document.createElement('div');\n",
              "          docLink.innerHTML = docLinkHtml;\n",
              "          element.appendChild(docLink);\n",
              "        }\n",
              "      </script>\n",
              "    </div>\n",
              "  </div>\n",
              "  "
            ]
          },
          "metadata": {},
          "execution_count": 895
        }
      ]
    },
    {
      "cell_type": "markdown",
      "source": [
        "interior column has one of its values as '--'"
      ],
      "metadata": {
        "id": "aeyS-UmKevWi"
      }
    },
    {
      "cell_type": "code",
      "source": [
        "#investigating the unique possible values of the column interior and their unique values\n",
        "df.value_counts(df['interior'])"
      ],
      "metadata": {
        "id": "NfsfvKHWesbf",
        "outputId": "c86f44c0-e1ef-4b06-aed2-da92f0ddf5b5",
        "colab": {
          "base_uri": "https://localhost:8080/"
        }
      },
      "execution_count": null,
      "outputs": [
        {
          "output_type": "execute_result",
          "data": {
            "text/plain": [
              "interior\n",
              "black        20734\n",
              "gray         15020\n",
              "beige         4917\n",
              "tan           3777\n",
              "—              988\n",
              "brown          694\n",
              "blue           101\n",
              "red             92\n",
              "silver          88\n",
              "off-white       39\n",
              "purple          31\n",
              "gold            26\n",
              "white           23\n",
              "burgundy        20\n",
              "green           16\n",
              "orange          11\n",
              "yellow           1\n",
              "dtype: int64"
            ]
          },
          "metadata": {},
          "execution_count": 896
        }
      ]
    },
    {
      "cell_type": "markdown",
      "source": [
        "interior column has one of its values as '-'"
      ],
      "metadata": {
        "id": "Uk9AI-5HfCmB"
      }
    },
    {
      "cell_type": "code",
      "source": [
        "df.tail()"
      ],
      "metadata": {
        "id": "pH8fGcMyb50a",
        "outputId": "e2990cf2-e8e9-4577-9819-223da158b1df",
        "colab": {
          "base_uri": "https://localhost:8080/",
          "height": 337
        }
      },
      "execution_count": null,
      "outputs": [
        {
          "output_type": "execute_result",
          "data": {
            "text/plain": [
              "       year      make     model         trim     body transmission  \\\n",
              "46573  2013      Ford      Edge           SE      SUV    automatic   \n",
              "46574  2012  Infiniti   G Sedan  G37 Journey  g sedan    automatic   \n",
              "46575  2013       BMW  3 Series         328i    Sedan    automatic   \n",
              "46576  2013    Toyota     Camry           LE    Sedan    automatic   \n",
              "46577  2013       Kia       Rio           LX    Sedan    automatic   \n",
              "\n",
              "                     vin state  condition   odometer   color interior  \\\n",
              "46573  2fmdk4gc2dbc03247    va        3.5  52844.0mi       —     gray   \n",
              "46574  jn1cv6ap9cm623162    ca        4.5  23185.0mi   black    black   \n",
              "46575  wba3a5c56df356614    tx        4.2  45357.0mi   white    beige   \n",
              "46576  4t1bf1fk8du254684    ca        3.5  43376.0mi   black    beige   \n",
              "46577  knadm4a32d6164825    ga        4.1  49953.0mi  silver    black   \n",
              "\n",
              "                         seller     mmr sellingprice  \\\n",
              "46573       wheels exchange llc  $15650       $17000   \n",
              "46574        nissan infiniti lt  $19350       $21500   \n",
              "46575  motorcars of south texas  $22200       $22000   \n",
              "46576      avis rac/san leandro  $13400       $13800   \n",
              "46577        kia motors finance   $9700        $9300   \n",
              "\n",
              "                                      saledate  \n",
              "46573  Wed Jan 07 2015 09:30:00 GMT-0800 (PST)  \n",
              "46574  Thu Jun 18 2015 05:30:00 GMT-0700 (PDT)  \n",
              "46575  Wed Feb 18 2015 02:00:00 GMT-0800 (PST)  \n",
              "46576  Wed Jan 14 2015 04:30:00 GMT-0800 (PST)  \n",
              "46577  Thu Dec 18 2014 10:00:00 GMT-0800 (PST)  "
            ],
            "text/html": [
              "\n",
              "  <div id=\"df-84dadfa6-157f-4c35-9831-9c11ab901b5e\">\n",
              "    <div class=\"colab-df-container\">\n",
              "      <div>\n",
              "<style scoped>\n",
              "    .dataframe tbody tr th:only-of-type {\n",
              "        vertical-align: middle;\n",
              "    }\n",
              "\n",
              "    .dataframe tbody tr th {\n",
              "        vertical-align: top;\n",
              "    }\n",
              "\n",
              "    .dataframe thead th {\n",
              "        text-align: right;\n",
              "    }\n",
              "</style>\n",
              "<table border=\"1\" class=\"dataframe\">\n",
              "  <thead>\n",
              "    <tr style=\"text-align: right;\">\n",
              "      <th></th>\n",
              "      <th>year</th>\n",
              "      <th>make</th>\n",
              "      <th>model</th>\n",
              "      <th>trim</th>\n",
              "      <th>body</th>\n",
              "      <th>transmission</th>\n",
              "      <th>vin</th>\n",
              "      <th>state</th>\n",
              "      <th>condition</th>\n",
              "      <th>odometer</th>\n",
              "      <th>color</th>\n",
              "      <th>interior</th>\n",
              "      <th>seller</th>\n",
              "      <th>mmr</th>\n",
              "      <th>sellingprice</th>\n",
              "      <th>saledate</th>\n",
              "    </tr>\n",
              "  </thead>\n",
              "  <tbody>\n",
              "    <tr>\n",
              "      <th>46573</th>\n",
              "      <td>2013</td>\n",
              "      <td>Ford</td>\n",
              "      <td>Edge</td>\n",
              "      <td>SE</td>\n",
              "      <td>SUV</td>\n",
              "      <td>automatic</td>\n",
              "      <td>2fmdk4gc2dbc03247</td>\n",
              "      <td>va</td>\n",
              "      <td>3.5</td>\n",
              "      <td>52844.0mi</td>\n",
              "      <td>—</td>\n",
              "      <td>gray</td>\n",
              "      <td>wheels exchange llc</td>\n",
              "      <td>$15650</td>\n",
              "      <td>$17000</td>\n",
              "      <td>Wed Jan 07 2015 09:30:00 GMT-0800 (PST)</td>\n",
              "    </tr>\n",
              "    <tr>\n",
              "      <th>46574</th>\n",
              "      <td>2012</td>\n",
              "      <td>Infiniti</td>\n",
              "      <td>G Sedan</td>\n",
              "      <td>G37 Journey</td>\n",
              "      <td>g sedan</td>\n",
              "      <td>automatic</td>\n",
              "      <td>jn1cv6ap9cm623162</td>\n",
              "      <td>ca</td>\n",
              "      <td>4.5</td>\n",
              "      <td>23185.0mi</td>\n",
              "      <td>black</td>\n",
              "      <td>black</td>\n",
              "      <td>nissan infiniti lt</td>\n",
              "      <td>$19350</td>\n",
              "      <td>$21500</td>\n",
              "      <td>Thu Jun 18 2015 05:30:00 GMT-0700 (PDT)</td>\n",
              "    </tr>\n",
              "    <tr>\n",
              "      <th>46575</th>\n",
              "      <td>2013</td>\n",
              "      <td>BMW</td>\n",
              "      <td>3 Series</td>\n",
              "      <td>328i</td>\n",
              "      <td>Sedan</td>\n",
              "      <td>automatic</td>\n",
              "      <td>wba3a5c56df356614</td>\n",
              "      <td>tx</td>\n",
              "      <td>4.2</td>\n",
              "      <td>45357.0mi</td>\n",
              "      <td>white</td>\n",
              "      <td>beige</td>\n",
              "      <td>motorcars of south texas</td>\n",
              "      <td>$22200</td>\n",
              "      <td>$22000</td>\n",
              "      <td>Wed Feb 18 2015 02:00:00 GMT-0800 (PST)</td>\n",
              "    </tr>\n",
              "    <tr>\n",
              "      <th>46576</th>\n",
              "      <td>2013</td>\n",
              "      <td>Toyota</td>\n",
              "      <td>Camry</td>\n",
              "      <td>LE</td>\n",
              "      <td>Sedan</td>\n",
              "      <td>automatic</td>\n",
              "      <td>4t1bf1fk8du254684</td>\n",
              "      <td>ca</td>\n",
              "      <td>3.5</td>\n",
              "      <td>43376.0mi</td>\n",
              "      <td>black</td>\n",
              "      <td>beige</td>\n",
              "      <td>avis rac/san leandro</td>\n",
              "      <td>$13400</td>\n",
              "      <td>$13800</td>\n",
              "      <td>Wed Jan 14 2015 04:30:00 GMT-0800 (PST)</td>\n",
              "    </tr>\n",
              "    <tr>\n",
              "      <th>46577</th>\n",
              "      <td>2013</td>\n",
              "      <td>Kia</td>\n",
              "      <td>Rio</td>\n",
              "      <td>LX</td>\n",
              "      <td>Sedan</td>\n",
              "      <td>automatic</td>\n",
              "      <td>knadm4a32d6164825</td>\n",
              "      <td>ga</td>\n",
              "      <td>4.1</td>\n",
              "      <td>49953.0mi</td>\n",
              "      <td>silver</td>\n",
              "      <td>black</td>\n",
              "      <td>kia motors finance</td>\n",
              "      <td>$9700</td>\n",
              "      <td>$9300</td>\n",
              "      <td>Thu Dec 18 2014 10:00:00 GMT-0800 (PST)</td>\n",
              "    </tr>\n",
              "  </tbody>\n",
              "</table>\n",
              "</div>\n",
              "      <button class=\"colab-df-convert\" onclick=\"convertToInteractive('df-84dadfa6-157f-4c35-9831-9c11ab901b5e')\"\n",
              "              title=\"Convert this dataframe to an interactive table.\"\n",
              "              style=\"display:none;\">\n",
              "        \n",
              "  <svg xmlns=\"http://www.w3.org/2000/svg\" height=\"24px\"viewBox=\"0 0 24 24\"\n",
              "       width=\"24px\">\n",
              "    <path d=\"M0 0h24v24H0V0z\" fill=\"none\"/>\n",
              "    <path d=\"M18.56 5.44l.94 2.06.94-2.06 2.06-.94-2.06-.94-.94-2.06-.94 2.06-2.06.94zm-11 1L8.5 8.5l.94-2.06 2.06-.94-2.06-.94L8.5 2.5l-.94 2.06-2.06.94zm10 10l.94 2.06.94-2.06 2.06-.94-2.06-.94-.94-2.06-.94 2.06-2.06.94z\"/><path d=\"M17.41 7.96l-1.37-1.37c-.4-.4-.92-.59-1.43-.59-.52 0-1.04.2-1.43.59L10.3 9.45l-7.72 7.72c-.78.78-.78 2.05 0 2.83L4 21.41c.39.39.9.59 1.41.59.51 0 1.02-.2 1.41-.59l7.78-7.78 2.81-2.81c.8-.78.8-2.07 0-2.86zM5.41 20L4 18.59l7.72-7.72 1.47 1.35L5.41 20z\"/>\n",
              "  </svg>\n",
              "      </button>\n",
              "      \n",
              "  <style>\n",
              "    .colab-df-container {\n",
              "      display:flex;\n",
              "      flex-wrap:wrap;\n",
              "      gap: 12px;\n",
              "    }\n",
              "\n",
              "    .colab-df-convert {\n",
              "      background-color: #E8F0FE;\n",
              "      border: none;\n",
              "      border-radius: 50%;\n",
              "      cursor: pointer;\n",
              "      display: none;\n",
              "      fill: #1967D2;\n",
              "      height: 32px;\n",
              "      padding: 0 0 0 0;\n",
              "      width: 32px;\n",
              "    }\n",
              "\n",
              "    .colab-df-convert:hover {\n",
              "      background-color: #E2EBFA;\n",
              "      box-shadow: 0px 1px 2px rgba(60, 64, 67, 0.3), 0px 1px 3px 1px rgba(60, 64, 67, 0.15);\n",
              "      fill: #174EA6;\n",
              "    }\n",
              "\n",
              "    [theme=dark] .colab-df-convert {\n",
              "      background-color: #3B4455;\n",
              "      fill: #D2E3FC;\n",
              "    }\n",
              "\n",
              "    [theme=dark] .colab-df-convert:hover {\n",
              "      background-color: #434B5C;\n",
              "      box-shadow: 0px 1px 3px 1px rgba(0, 0, 0, 0.15);\n",
              "      filter: drop-shadow(0px 1px 2px rgba(0, 0, 0, 0.3));\n",
              "      fill: #FFFFFF;\n",
              "    }\n",
              "  </style>\n",
              "\n",
              "      <script>\n",
              "        const buttonEl =\n",
              "          document.querySelector('#df-84dadfa6-157f-4c35-9831-9c11ab901b5e button.colab-df-convert');\n",
              "        buttonEl.style.display =\n",
              "          google.colab.kernel.accessAllowed ? 'block' : 'none';\n",
              "\n",
              "        async function convertToInteractive(key) {\n",
              "          const element = document.querySelector('#df-84dadfa6-157f-4c35-9831-9c11ab901b5e');\n",
              "          const dataTable =\n",
              "            await google.colab.kernel.invokeFunction('convertToInteractive',\n",
              "                                                     [key], {});\n",
              "          if (!dataTable) return;\n",
              "\n",
              "          const docLinkHtml = 'Like what you see? Visit the ' +\n",
              "            '<a target=\"_blank\" href=https://colab.research.google.com/notebooks/data_table.ipynb>data table notebook</a>'\n",
              "            + ' to learn more about interactive tables.';\n",
              "          element.innerHTML = '';\n",
              "          dataTable['output_type'] = 'display_data';\n",
              "          await google.colab.output.renderOutput(dataTable, element);\n",
              "          const docLink = document.createElement('div');\n",
              "          docLink.innerHTML = docLinkHtml;\n",
              "          element.appendChild(docLink);\n",
              "        }\n",
              "      </script>\n",
              "    </div>\n",
              "  </div>\n",
              "  "
            ]
          },
          "metadata": {},
          "execution_count": 897
        }
      ]
    },
    {
      "cell_type": "markdown",
      "source": [
        "Color has one of the color as '--'\n"
      ],
      "metadata": {
        "id": "s74ymXZydc2y"
      }
    },
    {
      "cell_type": "code",
      "source": [
        "#investigating the unique possible values of the column color and their unique values\n",
        "df.value_counts(df['color'])"
      ],
      "metadata": {
        "id": "3yO8Gw7Ndb8r",
        "outputId": "10999772-ec54-433e-d50d-7cf5913a8e2a",
        "colab": {
          "base_uri": "https://localhost:8080/"
        }
      },
      "execution_count": null,
      "outputs": [
        {
          "output_type": "execute_result",
          "data": {
            "text/plain": [
              "color\n",
              "black        9156\n",
              "white        8693\n",
              "gray         7046\n",
              "silver       6982\n",
              "blue         4244\n",
              "red          3685\n",
              "—            2246\n",
              "gold          948\n",
              "green         891\n",
              "burgundy      785\n",
              "beige         744\n",
              "brown         529\n",
              "orange        195\n",
              "purple        137\n",
              "off-white     129\n",
              "yellow         99\n",
              "charcoal       49\n",
              "turquoise      15\n",
              "pink            3\n",
              "lime            2\n",
              "dtype: int64"
            ]
          },
          "metadata": {},
          "execution_count": 898
        }
      ]
    },
    {
      "cell_type": "markdown",
      "source": [
        "One of the colors are '--'\n"
      ],
      "metadata": {
        "id": "JKDTcmg6dzr4"
      }
    },
    {
      "cell_type": "code",
      "source": [
        "df.corr()"
      ],
      "metadata": {
        "id": "PmPEmumaa0B0",
        "outputId": "b5e9f299-e3b4-4155-ecb2-1051415bb1ae",
        "colab": {
          "base_uri": "https://localhost:8080/",
          "height": 112
        }
      },
      "execution_count": null,
      "outputs": [
        {
          "output_type": "execute_result",
          "data": {
            "text/plain": [
              "               year  condition\n",
              "year       1.000000   0.549158\n",
              "condition  0.549158   1.000000"
            ],
            "text/html": [
              "\n",
              "  <div id=\"df-0c68210f-9814-4ffd-9ba7-e02d49a60d1e\">\n",
              "    <div class=\"colab-df-container\">\n",
              "      <div>\n",
              "<style scoped>\n",
              "    .dataframe tbody tr th:only-of-type {\n",
              "        vertical-align: middle;\n",
              "    }\n",
              "\n",
              "    .dataframe tbody tr th {\n",
              "        vertical-align: top;\n",
              "    }\n",
              "\n",
              "    .dataframe thead th {\n",
              "        text-align: right;\n",
              "    }\n",
              "</style>\n",
              "<table border=\"1\" class=\"dataframe\">\n",
              "  <thead>\n",
              "    <tr style=\"text-align: right;\">\n",
              "      <th></th>\n",
              "      <th>year</th>\n",
              "      <th>condition</th>\n",
              "    </tr>\n",
              "  </thead>\n",
              "  <tbody>\n",
              "    <tr>\n",
              "      <th>year</th>\n",
              "      <td>1.000000</td>\n",
              "      <td>0.549158</td>\n",
              "    </tr>\n",
              "    <tr>\n",
              "      <th>condition</th>\n",
              "      <td>0.549158</td>\n",
              "      <td>1.000000</td>\n",
              "    </tr>\n",
              "  </tbody>\n",
              "</table>\n",
              "</div>\n",
              "      <button class=\"colab-df-convert\" onclick=\"convertToInteractive('df-0c68210f-9814-4ffd-9ba7-e02d49a60d1e')\"\n",
              "              title=\"Convert this dataframe to an interactive table.\"\n",
              "              style=\"display:none;\">\n",
              "        \n",
              "  <svg xmlns=\"http://www.w3.org/2000/svg\" height=\"24px\"viewBox=\"0 0 24 24\"\n",
              "       width=\"24px\">\n",
              "    <path d=\"M0 0h24v24H0V0z\" fill=\"none\"/>\n",
              "    <path d=\"M18.56 5.44l.94 2.06.94-2.06 2.06-.94-2.06-.94-.94-2.06-.94 2.06-2.06.94zm-11 1L8.5 8.5l.94-2.06 2.06-.94-2.06-.94L8.5 2.5l-.94 2.06-2.06.94zm10 10l.94 2.06.94-2.06 2.06-.94-2.06-.94-.94-2.06-.94 2.06-2.06.94z\"/><path d=\"M17.41 7.96l-1.37-1.37c-.4-.4-.92-.59-1.43-.59-.52 0-1.04.2-1.43.59L10.3 9.45l-7.72 7.72c-.78.78-.78 2.05 0 2.83L4 21.41c.39.39.9.59 1.41.59.51 0 1.02-.2 1.41-.59l7.78-7.78 2.81-2.81c.8-.78.8-2.07 0-2.86zM5.41 20L4 18.59l7.72-7.72 1.47 1.35L5.41 20z\"/>\n",
              "  </svg>\n",
              "      </button>\n",
              "      \n",
              "  <style>\n",
              "    .colab-df-container {\n",
              "      display:flex;\n",
              "      flex-wrap:wrap;\n",
              "      gap: 12px;\n",
              "    }\n",
              "\n",
              "    .colab-df-convert {\n",
              "      background-color: #E8F0FE;\n",
              "      border: none;\n",
              "      border-radius: 50%;\n",
              "      cursor: pointer;\n",
              "      display: none;\n",
              "      fill: #1967D2;\n",
              "      height: 32px;\n",
              "      padding: 0 0 0 0;\n",
              "      width: 32px;\n",
              "    }\n",
              "\n",
              "    .colab-df-convert:hover {\n",
              "      background-color: #E2EBFA;\n",
              "      box-shadow: 0px 1px 2px rgba(60, 64, 67, 0.3), 0px 1px 3px 1px rgba(60, 64, 67, 0.15);\n",
              "      fill: #174EA6;\n",
              "    }\n",
              "\n",
              "    [theme=dark] .colab-df-convert {\n",
              "      background-color: #3B4455;\n",
              "      fill: #D2E3FC;\n",
              "    }\n",
              "\n",
              "    [theme=dark] .colab-df-convert:hover {\n",
              "      background-color: #434B5C;\n",
              "      box-shadow: 0px 1px 3px 1px rgba(0, 0, 0, 0.15);\n",
              "      filter: drop-shadow(0px 1px 2px rgba(0, 0, 0, 0.3));\n",
              "      fill: #FFFFFF;\n",
              "    }\n",
              "  </style>\n",
              "\n",
              "      <script>\n",
              "        const buttonEl =\n",
              "          document.querySelector('#df-0c68210f-9814-4ffd-9ba7-e02d49a60d1e button.colab-df-convert');\n",
              "        buttonEl.style.display =\n",
              "          google.colab.kernel.accessAllowed ? 'block' : 'none';\n",
              "\n",
              "        async function convertToInteractive(key) {\n",
              "          const element = document.querySelector('#df-0c68210f-9814-4ffd-9ba7-e02d49a60d1e');\n",
              "          const dataTable =\n",
              "            await google.colab.kernel.invokeFunction('convertToInteractive',\n",
              "                                                     [key], {});\n",
              "          if (!dataTable) return;\n",
              "\n",
              "          const docLinkHtml = 'Like what you see? Visit the ' +\n",
              "            '<a target=\"_blank\" href=https://colab.research.google.com/notebooks/data_table.ipynb>data table notebook</a>'\n",
              "            + ' to learn more about interactive tables.';\n",
              "          element.innerHTML = '';\n",
              "          dataTable['output_type'] = 'display_data';\n",
              "          await google.colab.output.renderOutput(dataTable, element);\n",
              "          const docLink = document.createElement('div');\n",
              "          docLink.innerHTML = docLinkHtml;\n",
              "          element.appendChild(docLink);\n",
              "        }\n",
              "      </script>\n",
              "    </div>\n",
              "  </div>\n",
              "  "
            ]
          },
          "metadata": {},
          "execution_count": 899
        }
      ]
    },
    {
      "cell_type": "code",
      "source": [
        "#checking the values of body \n",
        "df['body'].unique()"
      ],
      "metadata": {
        "id": "B0m6typZr0tR",
        "outputId": "f5d7c0fd-88c3-4279-f61a-5014d071f511",
        "colab": {
          "base_uri": "https://localhost:8080/"
        }
      },
      "execution_count": null,
      "outputs": [
        {
          "output_type": "execute_result",
          "data": {
            "text/plain": [
              "array(['sedan', 'SUV', 'Sedan', 'E-Series Van', 'Crew Cab', 'suv',\n",
              "       'G Sedan', 'Wagon', 'Regular Cab', 'Double Cab', 'wagon', 'Coupe',\n",
              "       'Minivan', 'SuperCrew', 'coupe', 'convertible', 'Extended Cab',\n",
              "       'Hatchback', 'van', 'hatchback', 'Van', 'Convertible', 'SuperCab',\n",
              "       'g sedan', 'king cab', 'G Convertible', 'King Cab', 'extended cab',\n",
              "       'quad cab', 'supercab', 'Beetle Convertible', 'minivan', 'G Coupe',\n",
              "       'Quad Cab', 'crew cab', 'supercrew', 'CrewMax Cab', 'double cab',\n",
              "       'g coupe', 'Club Cab', 'Access Cab', 'Genesis Coupe',\n",
              "       'e-series van', 'G37 Convertible', 'Cab Plus 4', 'crewmax cab',\n",
              "       'genesis coupe', 'promaster cargo van', 'access cab', 'Mega Cab',\n",
              "       'Koup', 'regular cab', 'mega cab', 'Elantra Coupe',\n",
              "       'Q60 Convertible', 'regular-cab', 'Promaster Cargo Van', 'Xtracab',\n",
              "       'CTS Coupe', 'CTS Wagon', 'GranTurismo Convertible',\n",
              "       'beetle convertible', 'TSX Sport Wagon', 'g convertible',\n",
              "       'tsx sport wagon', 'CTS-V Coupe', 'Q60 Coupe',\n",
              "       'granturismo convertible', 'cts coupe', 'Transit Van', 'xtracab'],\n",
              "      dtype=object)"
            ]
          },
          "metadata": {},
          "execution_count": 900
        }
      ]
    },
    {
      "cell_type": "markdown",
      "source": [
        "Several body types are repeated with different cases for example: sedan is repeated again as **S**edan"
      ],
      "metadata": {
        "id": "0F7HhIctsezi"
      }
    },
    {
      "cell_type": "markdown",
      "metadata": {
        "id": "l1t1p4zyutia"
      },
      "source": [
        "## Data Pre-Processing & Cleaning\n",
        "\n",
        "_Apply any data preprocessing and/or feature engineering below. Show/output the changes to the dataset._"
      ]
    },
    {
      "cell_type": "code",
      "execution_count": null,
      "metadata": {
        "id": "6-kN22iFutib"
      },
      "outputs": [],
      "source": [
        "#making a copy of the original dataframe\n",
        "df_copy=df.copy()\n"
      ]
    },
    {
      "cell_type": "code",
      "source": [
        "#removing the 'mi' from odometer\n",
        "df_copy['odometer']=df_copy['odometer'].str.replace('mi','')\n",
        "df_copy.head()"
      ],
      "metadata": {
        "id": "V8D8f3XKLMzL",
        "outputId": "b1c77d9c-a031-4e33-afa9-7b0110b14060",
        "colab": {
          "base_uri": "https://localhost:8080/"
        }
      },
      "execution_count": null,
      "outputs": [
        {
          "output_type": "execute_result",
          "data": {
            "text/plain": [
              "   year     make         model   trim          body transmission  \\\n",
              "0  2013  Hyundai        Sonata    GLS         sedan    automatic   \n",
              "1  2014   Toyota       4Runner    SR5           SUV    automatic   \n",
              "2  2012    Lexus        IS 250   Base         Sedan    automatic   \n",
              "3  2002      BMW            X5   4.4i           SUV    automatic   \n",
              "4  2014     Ford  E-Series Van  E-250  E-Series Van    automatic   \n",
              "\n",
              "                 vin state  condition  odometer   color interior  \\\n",
              "0  5npeb4acxdh702805    ma        3.9   50404.0   black     gray   \n",
              "1  jtezu5jr2e5064567    fl        4.9   17846.0    gray        —   \n",
              "2  jthbf5c24c5168599    fl        4.1   21122.0  silver    black   \n",
              "3  5uxfb33562lh33864    fl        1.9  145303.0   black    black   \n",
              "4  1ftne2ew0eda31832    wa        4.9    6714.0   white     gray   \n",
              "\n",
              "                             seller     mmr sellingprice  \\\n",
              "0             the hertz corporation  $11000       $10900   \n",
              "1  award auto sales and leasing inc  $28700       $29900   \n",
              "2          lexus financial services  $22200       $24200   \n",
              "3                        peddle llc   $3675        $3200   \n",
              "4                            u-haul  $22500       $22100   \n",
              "\n",
              "                                  saledate  \n",
              "0  Tue Jun 02 2015 02:30:00 GMT-0700 (PDT)  \n",
              "1  Wed Feb 18 2015 07:15:00 GMT-0800 (PST)  \n",
              "2  Tue Jan 20 2015 01:30:00 GMT-0800 (PST)  \n",
              "3  Wed Mar 04 2015 07:10:00 GMT-0800 (PST)  \n",
              "4  Wed Feb 18 2015 06:45:00 GMT-0800 (PST)  "
            ],
            "text/html": [
              "\n",
              "  <div id=\"df-739574bd-9937-41a8-b7cf-6cf2217bd949\">\n",
              "    <div class=\"colab-df-container\">\n",
              "      <div>\n",
              "<style scoped>\n",
              "    .dataframe tbody tr th:only-of-type {\n",
              "        vertical-align: middle;\n",
              "    }\n",
              "\n",
              "    .dataframe tbody tr th {\n",
              "        vertical-align: top;\n",
              "    }\n",
              "\n",
              "    .dataframe thead th {\n",
              "        text-align: right;\n",
              "    }\n",
              "</style>\n",
              "<table border=\"1\" class=\"dataframe\">\n",
              "  <thead>\n",
              "    <tr style=\"text-align: right;\">\n",
              "      <th></th>\n",
              "      <th>year</th>\n",
              "      <th>make</th>\n",
              "      <th>model</th>\n",
              "      <th>trim</th>\n",
              "      <th>body</th>\n",
              "      <th>transmission</th>\n",
              "      <th>vin</th>\n",
              "      <th>state</th>\n",
              "      <th>condition</th>\n",
              "      <th>odometer</th>\n",
              "      <th>color</th>\n",
              "      <th>interior</th>\n",
              "      <th>seller</th>\n",
              "      <th>mmr</th>\n",
              "      <th>sellingprice</th>\n",
              "      <th>saledate</th>\n",
              "    </tr>\n",
              "  </thead>\n",
              "  <tbody>\n",
              "    <tr>\n",
              "      <th>0</th>\n",
              "      <td>2013</td>\n",
              "      <td>Hyundai</td>\n",
              "      <td>Sonata</td>\n",
              "      <td>GLS</td>\n",
              "      <td>sedan</td>\n",
              "      <td>automatic</td>\n",
              "      <td>5npeb4acxdh702805</td>\n",
              "      <td>ma</td>\n",
              "      <td>3.9</td>\n",
              "      <td>50404.0</td>\n",
              "      <td>black</td>\n",
              "      <td>gray</td>\n",
              "      <td>the hertz corporation</td>\n",
              "      <td>$11000</td>\n",
              "      <td>$10900</td>\n",
              "      <td>Tue Jun 02 2015 02:30:00 GMT-0700 (PDT)</td>\n",
              "    </tr>\n",
              "    <tr>\n",
              "      <th>1</th>\n",
              "      <td>2014</td>\n",
              "      <td>Toyota</td>\n",
              "      <td>4Runner</td>\n",
              "      <td>SR5</td>\n",
              "      <td>SUV</td>\n",
              "      <td>automatic</td>\n",
              "      <td>jtezu5jr2e5064567</td>\n",
              "      <td>fl</td>\n",
              "      <td>4.9</td>\n",
              "      <td>17846.0</td>\n",
              "      <td>gray</td>\n",
              "      <td>—</td>\n",
              "      <td>award auto sales and leasing inc</td>\n",
              "      <td>$28700</td>\n",
              "      <td>$29900</td>\n",
              "      <td>Wed Feb 18 2015 07:15:00 GMT-0800 (PST)</td>\n",
              "    </tr>\n",
              "    <tr>\n",
              "      <th>2</th>\n",
              "      <td>2012</td>\n",
              "      <td>Lexus</td>\n",
              "      <td>IS 250</td>\n",
              "      <td>Base</td>\n",
              "      <td>Sedan</td>\n",
              "      <td>automatic</td>\n",
              "      <td>jthbf5c24c5168599</td>\n",
              "      <td>fl</td>\n",
              "      <td>4.1</td>\n",
              "      <td>21122.0</td>\n",
              "      <td>silver</td>\n",
              "      <td>black</td>\n",
              "      <td>lexus financial services</td>\n",
              "      <td>$22200</td>\n",
              "      <td>$24200</td>\n",
              "      <td>Tue Jan 20 2015 01:30:00 GMT-0800 (PST)</td>\n",
              "    </tr>\n",
              "    <tr>\n",
              "      <th>3</th>\n",
              "      <td>2002</td>\n",
              "      <td>BMW</td>\n",
              "      <td>X5</td>\n",
              "      <td>4.4i</td>\n",
              "      <td>SUV</td>\n",
              "      <td>automatic</td>\n",
              "      <td>5uxfb33562lh33864</td>\n",
              "      <td>fl</td>\n",
              "      <td>1.9</td>\n",
              "      <td>145303.0</td>\n",
              "      <td>black</td>\n",
              "      <td>black</td>\n",
              "      <td>peddle llc</td>\n",
              "      <td>$3675</td>\n",
              "      <td>$3200</td>\n",
              "      <td>Wed Mar 04 2015 07:10:00 GMT-0800 (PST)</td>\n",
              "    </tr>\n",
              "    <tr>\n",
              "      <th>4</th>\n",
              "      <td>2014</td>\n",
              "      <td>Ford</td>\n",
              "      <td>E-Series Van</td>\n",
              "      <td>E-250</td>\n",
              "      <td>E-Series Van</td>\n",
              "      <td>automatic</td>\n",
              "      <td>1ftne2ew0eda31832</td>\n",
              "      <td>wa</td>\n",
              "      <td>4.9</td>\n",
              "      <td>6714.0</td>\n",
              "      <td>white</td>\n",
              "      <td>gray</td>\n",
              "      <td>u-haul</td>\n",
              "      <td>$22500</td>\n",
              "      <td>$22100</td>\n",
              "      <td>Wed Feb 18 2015 06:45:00 GMT-0800 (PST)</td>\n",
              "    </tr>\n",
              "  </tbody>\n",
              "</table>\n",
              "</div>\n",
              "      <button class=\"colab-df-convert\" onclick=\"convertToInteractive('df-739574bd-9937-41a8-b7cf-6cf2217bd949')\"\n",
              "              title=\"Convert this dataframe to an interactive table.\"\n",
              "              style=\"display:none;\">\n",
              "        \n",
              "  <svg xmlns=\"http://www.w3.org/2000/svg\" height=\"24px\"viewBox=\"0 0 24 24\"\n",
              "       width=\"24px\">\n",
              "    <path d=\"M0 0h24v24H0V0z\" fill=\"none\"/>\n",
              "    <path d=\"M18.56 5.44l.94 2.06.94-2.06 2.06-.94-2.06-.94-.94-2.06-.94 2.06-2.06.94zm-11 1L8.5 8.5l.94-2.06 2.06-.94-2.06-.94L8.5 2.5l-.94 2.06-2.06.94zm10 10l.94 2.06.94-2.06 2.06-.94-2.06-.94-.94-2.06-.94 2.06-2.06.94z\"/><path d=\"M17.41 7.96l-1.37-1.37c-.4-.4-.92-.59-1.43-.59-.52 0-1.04.2-1.43.59L10.3 9.45l-7.72 7.72c-.78.78-.78 2.05 0 2.83L4 21.41c.39.39.9.59 1.41.59.51 0 1.02-.2 1.41-.59l7.78-7.78 2.81-2.81c.8-.78.8-2.07 0-2.86zM5.41 20L4 18.59l7.72-7.72 1.47 1.35L5.41 20z\"/>\n",
              "  </svg>\n",
              "      </button>\n",
              "      \n",
              "  <style>\n",
              "    .colab-df-container {\n",
              "      display:flex;\n",
              "      flex-wrap:wrap;\n",
              "      gap: 12px;\n",
              "    }\n",
              "\n",
              "    .colab-df-convert {\n",
              "      background-color: #E8F0FE;\n",
              "      border: none;\n",
              "      border-radius: 50%;\n",
              "      cursor: pointer;\n",
              "      display: none;\n",
              "      fill: #1967D2;\n",
              "      height: 32px;\n",
              "      padding: 0 0 0 0;\n",
              "      width: 32px;\n",
              "    }\n",
              "\n",
              "    .colab-df-convert:hover {\n",
              "      background-color: #E2EBFA;\n",
              "      box-shadow: 0px 1px 2px rgba(60, 64, 67, 0.3), 0px 1px 3px 1px rgba(60, 64, 67, 0.15);\n",
              "      fill: #174EA6;\n",
              "    }\n",
              "\n",
              "    [theme=dark] .colab-df-convert {\n",
              "      background-color: #3B4455;\n",
              "      fill: #D2E3FC;\n",
              "    }\n",
              "\n",
              "    [theme=dark] .colab-df-convert:hover {\n",
              "      background-color: #434B5C;\n",
              "      box-shadow: 0px 1px 3px 1px rgba(0, 0, 0, 0.15);\n",
              "      filter: drop-shadow(0px 1px 2px rgba(0, 0, 0, 0.3));\n",
              "      fill: #FFFFFF;\n",
              "    }\n",
              "  </style>\n",
              "\n",
              "      <script>\n",
              "        const buttonEl =\n",
              "          document.querySelector('#df-739574bd-9937-41a8-b7cf-6cf2217bd949 button.colab-df-convert');\n",
              "        buttonEl.style.display =\n",
              "          google.colab.kernel.accessAllowed ? 'block' : 'none';\n",
              "\n",
              "        async function convertToInteractive(key) {\n",
              "          const element = document.querySelector('#df-739574bd-9937-41a8-b7cf-6cf2217bd949');\n",
              "          const dataTable =\n",
              "            await google.colab.kernel.invokeFunction('convertToInteractive',\n",
              "                                                     [key], {});\n",
              "          if (!dataTable) return;\n",
              "\n",
              "          const docLinkHtml = 'Like what you see? Visit the ' +\n",
              "            '<a target=\"_blank\" href=https://colab.research.google.com/notebooks/data_table.ipynb>data table notebook</a>'\n",
              "            + ' to learn more about interactive tables.';\n",
              "          element.innerHTML = '';\n",
              "          dataTable['output_type'] = 'display_data';\n",
              "          await google.colab.output.renderOutput(dataTable, element);\n",
              "          const docLink = document.createElement('div');\n",
              "          docLink.innerHTML = docLinkHtml;\n",
              "          element.appendChild(docLink);\n",
              "        }\n",
              "      </script>\n",
              "    </div>\n",
              "  </div>\n",
              "  "
            ]
          },
          "metadata": {},
          "execution_count": 902
        }
      ]
    },
    {
      "cell_type": "code",
      "source": [
        "#changing the type of odometer from obj to float\n",
        "df_copy['odometer']=df_copy['odometer'].astype(float)"
      ],
      "metadata": {
        "id": "WkoBF7q5Q7TP"
      },
      "execution_count": null,
      "outputs": []
    },
    {
      "cell_type": "code",
      "source": [
        "#checking that the type of odometer is changed \n",
        "df_copy.info()"
      ],
      "metadata": {
        "id": "OZQysjshRcFP",
        "outputId": "bf210949-d5a9-40c2-8b99-392cd044273d",
        "colab": {
          "base_uri": "https://localhost:8080/"
        }
      },
      "execution_count": null,
      "outputs": [
        {
          "output_type": "stream",
          "name": "stdout",
          "text": [
            "<class 'pandas.core.frame.DataFrame'>\n",
            "RangeIndex: 46578 entries, 0 to 46577\n",
            "Data columns (total 16 columns):\n",
            " #   Column        Non-Null Count  Dtype  \n",
            "---  ------        --------------  -----  \n",
            " 0   year          46578 non-null  int64  \n",
            " 1   make          46578 non-null  object \n",
            " 2   model         46578 non-null  object \n",
            " 3   trim          46578 non-null  object \n",
            " 4   body          46578 non-null  object \n",
            " 5   transmission  46578 non-null  object \n",
            " 6   vin           46578 non-null  object \n",
            " 7   state         46578 non-null  object \n",
            " 8   condition     46578 non-null  float64\n",
            " 9   odometer      46578 non-null  float64\n",
            " 10  color         46578 non-null  object \n",
            " 11  interior      46578 non-null  object \n",
            " 12  seller        46578 non-null  object \n",
            " 13  mmr           46578 non-null  object \n",
            " 14  sellingprice  46578 non-null  object \n",
            " 15  saledate      46578 non-null  object \n",
            "dtypes: float64(2), int64(1), object(13)\n",
            "memory usage: 5.7+ MB\n"
          ]
        }
      ]
    },
    {
      "cell_type": "code",
      "source": [
        "#removing the $ sign of mmr\n",
        "df_copy['mmr']=df_copy['mmr'].str.replace('$','')\n",
        "df_copy.head()"
      ],
      "metadata": {
        "id": "biQGDyiVOhP_",
        "outputId": "7ee2662b-a171-4045-8c93-ed484eb48efe",
        "colab": {
          "base_uri": "https://localhost:8080/"
        }
      },
      "execution_count": null,
      "outputs": [
        {
          "output_type": "stream",
          "name": "stderr",
          "text": [
            "/usr/local/lib/python3.7/dist-packages/ipykernel_launcher.py:2: FutureWarning: The default value of regex will change from True to False in a future version. In addition, single character regular expressions will *not* be treated as literal strings when regex=True.\n",
            "  \n"
          ]
        },
        {
          "output_type": "execute_result",
          "data": {
            "text/plain": [
              "   year     make         model   trim          body transmission  \\\n",
              "0  2013  Hyundai        Sonata    GLS         sedan    automatic   \n",
              "1  2014   Toyota       4Runner    SR5           SUV    automatic   \n",
              "2  2012    Lexus        IS 250   Base         Sedan    automatic   \n",
              "3  2002      BMW            X5   4.4i           SUV    automatic   \n",
              "4  2014     Ford  E-Series Van  E-250  E-Series Van    automatic   \n",
              "\n",
              "                 vin state  condition  odometer   color interior  \\\n",
              "0  5npeb4acxdh702805    ma        3.9   50404.0   black     gray   \n",
              "1  jtezu5jr2e5064567    fl        4.9   17846.0    gray        —   \n",
              "2  jthbf5c24c5168599    fl        4.1   21122.0  silver    black   \n",
              "3  5uxfb33562lh33864    fl        1.9  145303.0   black    black   \n",
              "4  1ftne2ew0eda31832    wa        4.9    6714.0   white     gray   \n",
              "\n",
              "                             seller    mmr sellingprice  \\\n",
              "0             the hertz corporation  11000       $10900   \n",
              "1  award auto sales and leasing inc  28700       $29900   \n",
              "2          lexus financial services  22200       $24200   \n",
              "3                        peddle llc   3675        $3200   \n",
              "4                            u-haul  22500       $22100   \n",
              "\n",
              "                                  saledate  \n",
              "0  Tue Jun 02 2015 02:30:00 GMT-0700 (PDT)  \n",
              "1  Wed Feb 18 2015 07:15:00 GMT-0800 (PST)  \n",
              "2  Tue Jan 20 2015 01:30:00 GMT-0800 (PST)  \n",
              "3  Wed Mar 04 2015 07:10:00 GMT-0800 (PST)  \n",
              "4  Wed Feb 18 2015 06:45:00 GMT-0800 (PST)  "
            ],
            "text/html": [
              "\n",
              "  <div id=\"df-0ae87d42-54e6-40fc-9dc7-61d20f6135a3\">\n",
              "    <div class=\"colab-df-container\">\n",
              "      <div>\n",
              "<style scoped>\n",
              "    .dataframe tbody tr th:only-of-type {\n",
              "        vertical-align: middle;\n",
              "    }\n",
              "\n",
              "    .dataframe tbody tr th {\n",
              "        vertical-align: top;\n",
              "    }\n",
              "\n",
              "    .dataframe thead th {\n",
              "        text-align: right;\n",
              "    }\n",
              "</style>\n",
              "<table border=\"1\" class=\"dataframe\">\n",
              "  <thead>\n",
              "    <tr style=\"text-align: right;\">\n",
              "      <th></th>\n",
              "      <th>year</th>\n",
              "      <th>make</th>\n",
              "      <th>model</th>\n",
              "      <th>trim</th>\n",
              "      <th>body</th>\n",
              "      <th>transmission</th>\n",
              "      <th>vin</th>\n",
              "      <th>state</th>\n",
              "      <th>condition</th>\n",
              "      <th>odometer</th>\n",
              "      <th>color</th>\n",
              "      <th>interior</th>\n",
              "      <th>seller</th>\n",
              "      <th>mmr</th>\n",
              "      <th>sellingprice</th>\n",
              "      <th>saledate</th>\n",
              "    </tr>\n",
              "  </thead>\n",
              "  <tbody>\n",
              "    <tr>\n",
              "      <th>0</th>\n",
              "      <td>2013</td>\n",
              "      <td>Hyundai</td>\n",
              "      <td>Sonata</td>\n",
              "      <td>GLS</td>\n",
              "      <td>sedan</td>\n",
              "      <td>automatic</td>\n",
              "      <td>5npeb4acxdh702805</td>\n",
              "      <td>ma</td>\n",
              "      <td>3.9</td>\n",
              "      <td>50404.0</td>\n",
              "      <td>black</td>\n",
              "      <td>gray</td>\n",
              "      <td>the hertz corporation</td>\n",
              "      <td>11000</td>\n",
              "      <td>$10900</td>\n",
              "      <td>Tue Jun 02 2015 02:30:00 GMT-0700 (PDT)</td>\n",
              "    </tr>\n",
              "    <tr>\n",
              "      <th>1</th>\n",
              "      <td>2014</td>\n",
              "      <td>Toyota</td>\n",
              "      <td>4Runner</td>\n",
              "      <td>SR5</td>\n",
              "      <td>SUV</td>\n",
              "      <td>automatic</td>\n",
              "      <td>jtezu5jr2e5064567</td>\n",
              "      <td>fl</td>\n",
              "      <td>4.9</td>\n",
              "      <td>17846.0</td>\n",
              "      <td>gray</td>\n",
              "      <td>—</td>\n",
              "      <td>award auto sales and leasing inc</td>\n",
              "      <td>28700</td>\n",
              "      <td>$29900</td>\n",
              "      <td>Wed Feb 18 2015 07:15:00 GMT-0800 (PST)</td>\n",
              "    </tr>\n",
              "    <tr>\n",
              "      <th>2</th>\n",
              "      <td>2012</td>\n",
              "      <td>Lexus</td>\n",
              "      <td>IS 250</td>\n",
              "      <td>Base</td>\n",
              "      <td>Sedan</td>\n",
              "      <td>automatic</td>\n",
              "      <td>jthbf5c24c5168599</td>\n",
              "      <td>fl</td>\n",
              "      <td>4.1</td>\n",
              "      <td>21122.0</td>\n",
              "      <td>silver</td>\n",
              "      <td>black</td>\n",
              "      <td>lexus financial services</td>\n",
              "      <td>22200</td>\n",
              "      <td>$24200</td>\n",
              "      <td>Tue Jan 20 2015 01:30:00 GMT-0800 (PST)</td>\n",
              "    </tr>\n",
              "    <tr>\n",
              "      <th>3</th>\n",
              "      <td>2002</td>\n",
              "      <td>BMW</td>\n",
              "      <td>X5</td>\n",
              "      <td>4.4i</td>\n",
              "      <td>SUV</td>\n",
              "      <td>automatic</td>\n",
              "      <td>5uxfb33562lh33864</td>\n",
              "      <td>fl</td>\n",
              "      <td>1.9</td>\n",
              "      <td>145303.0</td>\n",
              "      <td>black</td>\n",
              "      <td>black</td>\n",
              "      <td>peddle llc</td>\n",
              "      <td>3675</td>\n",
              "      <td>$3200</td>\n",
              "      <td>Wed Mar 04 2015 07:10:00 GMT-0800 (PST)</td>\n",
              "    </tr>\n",
              "    <tr>\n",
              "      <th>4</th>\n",
              "      <td>2014</td>\n",
              "      <td>Ford</td>\n",
              "      <td>E-Series Van</td>\n",
              "      <td>E-250</td>\n",
              "      <td>E-Series Van</td>\n",
              "      <td>automatic</td>\n",
              "      <td>1ftne2ew0eda31832</td>\n",
              "      <td>wa</td>\n",
              "      <td>4.9</td>\n",
              "      <td>6714.0</td>\n",
              "      <td>white</td>\n",
              "      <td>gray</td>\n",
              "      <td>u-haul</td>\n",
              "      <td>22500</td>\n",
              "      <td>$22100</td>\n",
              "      <td>Wed Feb 18 2015 06:45:00 GMT-0800 (PST)</td>\n",
              "    </tr>\n",
              "  </tbody>\n",
              "</table>\n",
              "</div>\n",
              "      <button class=\"colab-df-convert\" onclick=\"convertToInteractive('df-0ae87d42-54e6-40fc-9dc7-61d20f6135a3')\"\n",
              "              title=\"Convert this dataframe to an interactive table.\"\n",
              "              style=\"display:none;\">\n",
              "        \n",
              "  <svg xmlns=\"http://www.w3.org/2000/svg\" height=\"24px\"viewBox=\"0 0 24 24\"\n",
              "       width=\"24px\">\n",
              "    <path d=\"M0 0h24v24H0V0z\" fill=\"none\"/>\n",
              "    <path d=\"M18.56 5.44l.94 2.06.94-2.06 2.06-.94-2.06-.94-.94-2.06-.94 2.06-2.06.94zm-11 1L8.5 8.5l.94-2.06 2.06-.94-2.06-.94L8.5 2.5l-.94 2.06-2.06.94zm10 10l.94 2.06.94-2.06 2.06-.94-2.06-.94-.94-2.06-.94 2.06-2.06.94z\"/><path d=\"M17.41 7.96l-1.37-1.37c-.4-.4-.92-.59-1.43-.59-.52 0-1.04.2-1.43.59L10.3 9.45l-7.72 7.72c-.78.78-.78 2.05 0 2.83L4 21.41c.39.39.9.59 1.41.59.51 0 1.02-.2 1.41-.59l7.78-7.78 2.81-2.81c.8-.78.8-2.07 0-2.86zM5.41 20L4 18.59l7.72-7.72 1.47 1.35L5.41 20z\"/>\n",
              "  </svg>\n",
              "      </button>\n",
              "      \n",
              "  <style>\n",
              "    .colab-df-container {\n",
              "      display:flex;\n",
              "      flex-wrap:wrap;\n",
              "      gap: 12px;\n",
              "    }\n",
              "\n",
              "    .colab-df-convert {\n",
              "      background-color: #E8F0FE;\n",
              "      border: none;\n",
              "      border-radius: 50%;\n",
              "      cursor: pointer;\n",
              "      display: none;\n",
              "      fill: #1967D2;\n",
              "      height: 32px;\n",
              "      padding: 0 0 0 0;\n",
              "      width: 32px;\n",
              "    }\n",
              "\n",
              "    .colab-df-convert:hover {\n",
              "      background-color: #E2EBFA;\n",
              "      box-shadow: 0px 1px 2px rgba(60, 64, 67, 0.3), 0px 1px 3px 1px rgba(60, 64, 67, 0.15);\n",
              "      fill: #174EA6;\n",
              "    }\n",
              "\n",
              "    [theme=dark] .colab-df-convert {\n",
              "      background-color: #3B4455;\n",
              "      fill: #D2E3FC;\n",
              "    }\n",
              "\n",
              "    [theme=dark] .colab-df-convert:hover {\n",
              "      background-color: #434B5C;\n",
              "      box-shadow: 0px 1px 3px 1px rgba(0, 0, 0, 0.15);\n",
              "      filter: drop-shadow(0px 1px 2px rgba(0, 0, 0, 0.3));\n",
              "      fill: #FFFFFF;\n",
              "    }\n",
              "  </style>\n",
              "\n",
              "      <script>\n",
              "        const buttonEl =\n",
              "          document.querySelector('#df-0ae87d42-54e6-40fc-9dc7-61d20f6135a3 button.colab-df-convert');\n",
              "        buttonEl.style.display =\n",
              "          google.colab.kernel.accessAllowed ? 'block' : 'none';\n",
              "\n",
              "        async function convertToInteractive(key) {\n",
              "          const element = document.querySelector('#df-0ae87d42-54e6-40fc-9dc7-61d20f6135a3');\n",
              "          const dataTable =\n",
              "            await google.colab.kernel.invokeFunction('convertToInteractive',\n",
              "                                                     [key], {});\n",
              "          if (!dataTable) return;\n",
              "\n",
              "          const docLinkHtml = 'Like what you see? Visit the ' +\n",
              "            '<a target=\"_blank\" href=https://colab.research.google.com/notebooks/data_table.ipynb>data table notebook</a>'\n",
              "            + ' to learn more about interactive tables.';\n",
              "          element.innerHTML = '';\n",
              "          dataTable['output_type'] = 'display_data';\n",
              "          await google.colab.output.renderOutput(dataTable, element);\n",
              "          const docLink = document.createElement('div');\n",
              "          docLink.innerHTML = docLinkHtml;\n",
              "          element.appendChild(docLink);\n",
              "        }\n",
              "      </script>\n",
              "    </div>\n",
              "  </div>\n",
              "  "
            ]
          },
          "metadata": {},
          "execution_count": 905
        }
      ]
    },
    {
      "cell_type": "code",
      "source": [
        "#changing the type of mmr from obj to int\n",
        "df_copy['mmr']=df_copy['mmr'].astype(int)"
      ],
      "metadata": {
        "id": "J_rViMnwTbXm"
      },
      "execution_count": null,
      "outputs": []
    },
    {
      "cell_type": "code",
      "source": [
        "#checking that the type of mmr is changed \n",
        "df_copy.info()"
      ],
      "metadata": {
        "id": "X2MM02_5LM4c",
        "outputId": "fbd29fe4-4017-4aba-d2bf-19d8747d5681",
        "colab": {
          "base_uri": "https://localhost:8080/"
        }
      },
      "execution_count": null,
      "outputs": [
        {
          "output_type": "stream",
          "name": "stdout",
          "text": [
            "<class 'pandas.core.frame.DataFrame'>\n",
            "RangeIndex: 46578 entries, 0 to 46577\n",
            "Data columns (total 16 columns):\n",
            " #   Column        Non-Null Count  Dtype  \n",
            "---  ------        --------------  -----  \n",
            " 0   year          46578 non-null  int64  \n",
            " 1   make          46578 non-null  object \n",
            " 2   model         46578 non-null  object \n",
            " 3   trim          46578 non-null  object \n",
            " 4   body          46578 non-null  object \n",
            " 5   transmission  46578 non-null  object \n",
            " 6   vin           46578 non-null  object \n",
            " 7   state         46578 non-null  object \n",
            " 8   condition     46578 non-null  float64\n",
            " 9   odometer      46578 non-null  float64\n",
            " 10  color         46578 non-null  object \n",
            " 11  interior      46578 non-null  object \n",
            " 12  seller        46578 non-null  object \n",
            " 13  mmr           46578 non-null  int64  \n",
            " 14  sellingprice  46578 non-null  object \n",
            " 15  saledate      46578 non-null  object \n",
            "dtypes: float64(2), int64(2), object(12)\n",
            "memory usage: 5.7+ MB\n"
          ]
        }
      ]
    },
    {
      "cell_type": "code",
      "source": [
        "#removing the $ sign of sellingprice\n",
        "df_copy['sellingprice']=df_copy['sellingprice'].str.replace('$','')\n",
        "df_copy.head()"
      ],
      "metadata": {
        "id": "U2ZlnjZCLM6q",
        "outputId": "61d35ff7-9863-4b2f-c227-b28e8bf26409",
        "colab": {
          "base_uri": "https://localhost:8080/"
        }
      },
      "execution_count": null,
      "outputs": [
        {
          "output_type": "stream",
          "name": "stderr",
          "text": [
            "/usr/local/lib/python3.7/dist-packages/ipykernel_launcher.py:2: FutureWarning: The default value of regex will change from True to False in a future version. In addition, single character regular expressions will *not* be treated as literal strings when regex=True.\n",
            "  \n"
          ]
        },
        {
          "output_type": "execute_result",
          "data": {
            "text/plain": [
              "   year     make         model   trim          body transmission  \\\n",
              "0  2013  Hyundai        Sonata    GLS         sedan    automatic   \n",
              "1  2014   Toyota       4Runner    SR5           SUV    automatic   \n",
              "2  2012    Lexus        IS 250   Base         Sedan    automatic   \n",
              "3  2002      BMW            X5   4.4i           SUV    automatic   \n",
              "4  2014     Ford  E-Series Van  E-250  E-Series Van    automatic   \n",
              "\n",
              "                 vin state  condition  odometer   color interior  \\\n",
              "0  5npeb4acxdh702805    ma        3.9   50404.0   black     gray   \n",
              "1  jtezu5jr2e5064567    fl        4.9   17846.0    gray        —   \n",
              "2  jthbf5c24c5168599    fl        4.1   21122.0  silver    black   \n",
              "3  5uxfb33562lh33864    fl        1.9  145303.0   black    black   \n",
              "4  1ftne2ew0eda31832    wa        4.9    6714.0   white     gray   \n",
              "\n",
              "                             seller    mmr sellingprice  \\\n",
              "0             the hertz corporation  11000        10900   \n",
              "1  award auto sales and leasing inc  28700        29900   \n",
              "2          lexus financial services  22200        24200   \n",
              "3                        peddle llc   3675         3200   \n",
              "4                            u-haul  22500        22100   \n",
              "\n",
              "                                  saledate  \n",
              "0  Tue Jun 02 2015 02:30:00 GMT-0700 (PDT)  \n",
              "1  Wed Feb 18 2015 07:15:00 GMT-0800 (PST)  \n",
              "2  Tue Jan 20 2015 01:30:00 GMT-0800 (PST)  \n",
              "3  Wed Mar 04 2015 07:10:00 GMT-0800 (PST)  \n",
              "4  Wed Feb 18 2015 06:45:00 GMT-0800 (PST)  "
            ],
            "text/html": [
              "\n",
              "  <div id=\"df-a5cdc192-2983-4bbb-b993-d22df04f4b18\">\n",
              "    <div class=\"colab-df-container\">\n",
              "      <div>\n",
              "<style scoped>\n",
              "    .dataframe tbody tr th:only-of-type {\n",
              "        vertical-align: middle;\n",
              "    }\n",
              "\n",
              "    .dataframe tbody tr th {\n",
              "        vertical-align: top;\n",
              "    }\n",
              "\n",
              "    .dataframe thead th {\n",
              "        text-align: right;\n",
              "    }\n",
              "</style>\n",
              "<table border=\"1\" class=\"dataframe\">\n",
              "  <thead>\n",
              "    <tr style=\"text-align: right;\">\n",
              "      <th></th>\n",
              "      <th>year</th>\n",
              "      <th>make</th>\n",
              "      <th>model</th>\n",
              "      <th>trim</th>\n",
              "      <th>body</th>\n",
              "      <th>transmission</th>\n",
              "      <th>vin</th>\n",
              "      <th>state</th>\n",
              "      <th>condition</th>\n",
              "      <th>odometer</th>\n",
              "      <th>color</th>\n",
              "      <th>interior</th>\n",
              "      <th>seller</th>\n",
              "      <th>mmr</th>\n",
              "      <th>sellingprice</th>\n",
              "      <th>saledate</th>\n",
              "    </tr>\n",
              "  </thead>\n",
              "  <tbody>\n",
              "    <tr>\n",
              "      <th>0</th>\n",
              "      <td>2013</td>\n",
              "      <td>Hyundai</td>\n",
              "      <td>Sonata</td>\n",
              "      <td>GLS</td>\n",
              "      <td>sedan</td>\n",
              "      <td>automatic</td>\n",
              "      <td>5npeb4acxdh702805</td>\n",
              "      <td>ma</td>\n",
              "      <td>3.9</td>\n",
              "      <td>50404.0</td>\n",
              "      <td>black</td>\n",
              "      <td>gray</td>\n",
              "      <td>the hertz corporation</td>\n",
              "      <td>11000</td>\n",
              "      <td>10900</td>\n",
              "      <td>Tue Jun 02 2015 02:30:00 GMT-0700 (PDT)</td>\n",
              "    </tr>\n",
              "    <tr>\n",
              "      <th>1</th>\n",
              "      <td>2014</td>\n",
              "      <td>Toyota</td>\n",
              "      <td>4Runner</td>\n",
              "      <td>SR5</td>\n",
              "      <td>SUV</td>\n",
              "      <td>automatic</td>\n",
              "      <td>jtezu5jr2e5064567</td>\n",
              "      <td>fl</td>\n",
              "      <td>4.9</td>\n",
              "      <td>17846.0</td>\n",
              "      <td>gray</td>\n",
              "      <td>—</td>\n",
              "      <td>award auto sales and leasing inc</td>\n",
              "      <td>28700</td>\n",
              "      <td>29900</td>\n",
              "      <td>Wed Feb 18 2015 07:15:00 GMT-0800 (PST)</td>\n",
              "    </tr>\n",
              "    <tr>\n",
              "      <th>2</th>\n",
              "      <td>2012</td>\n",
              "      <td>Lexus</td>\n",
              "      <td>IS 250</td>\n",
              "      <td>Base</td>\n",
              "      <td>Sedan</td>\n",
              "      <td>automatic</td>\n",
              "      <td>jthbf5c24c5168599</td>\n",
              "      <td>fl</td>\n",
              "      <td>4.1</td>\n",
              "      <td>21122.0</td>\n",
              "      <td>silver</td>\n",
              "      <td>black</td>\n",
              "      <td>lexus financial services</td>\n",
              "      <td>22200</td>\n",
              "      <td>24200</td>\n",
              "      <td>Tue Jan 20 2015 01:30:00 GMT-0800 (PST)</td>\n",
              "    </tr>\n",
              "    <tr>\n",
              "      <th>3</th>\n",
              "      <td>2002</td>\n",
              "      <td>BMW</td>\n",
              "      <td>X5</td>\n",
              "      <td>4.4i</td>\n",
              "      <td>SUV</td>\n",
              "      <td>automatic</td>\n",
              "      <td>5uxfb33562lh33864</td>\n",
              "      <td>fl</td>\n",
              "      <td>1.9</td>\n",
              "      <td>145303.0</td>\n",
              "      <td>black</td>\n",
              "      <td>black</td>\n",
              "      <td>peddle llc</td>\n",
              "      <td>3675</td>\n",
              "      <td>3200</td>\n",
              "      <td>Wed Mar 04 2015 07:10:00 GMT-0800 (PST)</td>\n",
              "    </tr>\n",
              "    <tr>\n",
              "      <th>4</th>\n",
              "      <td>2014</td>\n",
              "      <td>Ford</td>\n",
              "      <td>E-Series Van</td>\n",
              "      <td>E-250</td>\n",
              "      <td>E-Series Van</td>\n",
              "      <td>automatic</td>\n",
              "      <td>1ftne2ew0eda31832</td>\n",
              "      <td>wa</td>\n",
              "      <td>4.9</td>\n",
              "      <td>6714.0</td>\n",
              "      <td>white</td>\n",
              "      <td>gray</td>\n",
              "      <td>u-haul</td>\n",
              "      <td>22500</td>\n",
              "      <td>22100</td>\n",
              "      <td>Wed Feb 18 2015 06:45:00 GMT-0800 (PST)</td>\n",
              "    </tr>\n",
              "  </tbody>\n",
              "</table>\n",
              "</div>\n",
              "      <button class=\"colab-df-convert\" onclick=\"convertToInteractive('df-a5cdc192-2983-4bbb-b993-d22df04f4b18')\"\n",
              "              title=\"Convert this dataframe to an interactive table.\"\n",
              "              style=\"display:none;\">\n",
              "        \n",
              "  <svg xmlns=\"http://www.w3.org/2000/svg\" height=\"24px\"viewBox=\"0 0 24 24\"\n",
              "       width=\"24px\">\n",
              "    <path d=\"M0 0h24v24H0V0z\" fill=\"none\"/>\n",
              "    <path d=\"M18.56 5.44l.94 2.06.94-2.06 2.06-.94-2.06-.94-.94-2.06-.94 2.06-2.06.94zm-11 1L8.5 8.5l.94-2.06 2.06-.94-2.06-.94L8.5 2.5l-.94 2.06-2.06.94zm10 10l.94 2.06.94-2.06 2.06-.94-2.06-.94-.94-2.06-.94 2.06-2.06.94z\"/><path d=\"M17.41 7.96l-1.37-1.37c-.4-.4-.92-.59-1.43-.59-.52 0-1.04.2-1.43.59L10.3 9.45l-7.72 7.72c-.78.78-.78 2.05 0 2.83L4 21.41c.39.39.9.59 1.41.59.51 0 1.02-.2 1.41-.59l7.78-7.78 2.81-2.81c.8-.78.8-2.07 0-2.86zM5.41 20L4 18.59l7.72-7.72 1.47 1.35L5.41 20z\"/>\n",
              "  </svg>\n",
              "      </button>\n",
              "      \n",
              "  <style>\n",
              "    .colab-df-container {\n",
              "      display:flex;\n",
              "      flex-wrap:wrap;\n",
              "      gap: 12px;\n",
              "    }\n",
              "\n",
              "    .colab-df-convert {\n",
              "      background-color: #E8F0FE;\n",
              "      border: none;\n",
              "      border-radius: 50%;\n",
              "      cursor: pointer;\n",
              "      display: none;\n",
              "      fill: #1967D2;\n",
              "      height: 32px;\n",
              "      padding: 0 0 0 0;\n",
              "      width: 32px;\n",
              "    }\n",
              "\n",
              "    .colab-df-convert:hover {\n",
              "      background-color: #E2EBFA;\n",
              "      box-shadow: 0px 1px 2px rgba(60, 64, 67, 0.3), 0px 1px 3px 1px rgba(60, 64, 67, 0.15);\n",
              "      fill: #174EA6;\n",
              "    }\n",
              "\n",
              "    [theme=dark] .colab-df-convert {\n",
              "      background-color: #3B4455;\n",
              "      fill: #D2E3FC;\n",
              "    }\n",
              "\n",
              "    [theme=dark] .colab-df-convert:hover {\n",
              "      background-color: #434B5C;\n",
              "      box-shadow: 0px 1px 3px 1px rgba(0, 0, 0, 0.15);\n",
              "      filter: drop-shadow(0px 1px 2px rgba(0, 0, 0, 0.3));\n",
              "      fill: #FFFFFF;\n",
              "    }\n",
              "  </style>\n",
              "\n",
              "      <script>\n",
              "        const buttonEl =\n",
              "          document.querySelector('#df-a5cdc192-2983-4bbb-b993-d22df04f4b18 button.colab-df-convert');\n",
              "        buttonEl.style.display =\n",
              "          google.colab.kernel.accessAllowed ? 'block' : 'none';\n",
              "\n",
              "        async function convertToInteractive(key) {\n",
              "          const element = document.querySelector('#df-a5cdc192-2983-4bbb-b993-d22df04f4b18');\n",
              "          const dataTable =\n",
              "            await google.colab.kernel.invokeFunction('convertToInteractive',\n",
              "                                                     [key], {});\n",
              "          if (!dataTable) return;\n",
              "\n",
              "          const docLinkHtml = 'Like what you see? Visit the ' +\n",
              "            '<a target=\"_blank\" href=https://colab.research.google.com/notebooks/data_table.ipynb>data table notebook</a>'\n",
              "            + ' to learn more about interactive tables.';\n",
              "          element.innerHTML = '';\n",
              "          dataTable['output_type'] = 'display_data';\n",
              "          await google.colab.output.renderOutput(dataTable, element);\n",
              "          const docLink = document.createElement('div');\n",
              "          docLink.innerHTML = docLinkHtml;\n",
              "          element.appendChild(docLink);\n",
              "        }\n",
              "      </script>\n",
              "    </div>\n",
              "  </div>\n",
              "  "
            ]
          },
          "metadata": {},
          "execution_count": 908
        }
      ]
    },
    {
      "cell_type": "code",
      "source": [
        "#changing the type of sellingprice from object to int\n",
        "df_copy['sellingprice']=df_copy['sellingprice'].astype(int)"
      ],
      "metadata": {
        "id": "5m9bv_iWUJaS"
      },
      "execution_count": null,
      "outputs": []
    },
    {
      "cell_type": "code",
      "source": [
        "#checking that the type of sellingprice is changed \n",
        "df_copy.info()"
      ],
      "metadata": {
        "id": "XkY6HCdyLM9Q",
        "outputId": "782c22f2-1156-4e40-a80c-55e4283b0841",
        "colab": {
          "base_uri": "https://localhost:8080/"
        }
      },
      "execution_count": null,
      "outputs": [
        {
          "output_type": "stream",
          "name": "stdout",
          "text": [
            "<class 'pandas.core.frame.DataFrame'>\n",
            "RangeIndex: 46578 entries, 0 to 46577\n",
            "Data columns (total 16 columns):\n",
            " #   Column        Non-Null Count  Dtype  \n",
            "---  ------        --------------  -----  \n",
            " 0   year          46578 non-null  int64  \n",
            " 1   make          46578 non-null  object \n",
            " 2   model         46578 non-null  object \n",
            " 3   trim          46578 non-null  object \n",
            " 4   body          46578 non-null  object \n",
            " 5   transmission  46578 non-null  object \n",
            " 6   vin           46578 non-null  object \n",
            " 7   state         46578 non-null  object \n",
            " 8   condition     46578 non-null  float64\n",
            " 9   odometer      46578 non-null  float64\n",
            " 10  color         46578 non-null  object \n",
            " 11  interior      46578 non-null  object \n",
            " 12  seller        46578 non-null  object \n",
            " 13  mmr           46578 non-null  int64  \n",
            " 14  sellingprice  46578 non-null  int64  \n",
            " 15  saledate      46578 non-null  object \n",
            "dtypes: float64(2), int64(3), object(11)\n",
            "memory usage: 5.7+ MB\n"
          ]
        }
      ]
    },
    {
      "cell_type": "code",
      "source": [
        "#dealing with missing values in color \n",
        "df_copy['color']=df_copy['color'].str.replace('—','missing')"
      ],
      "metadata": {
        "id": "bhXsPJlsLNGX"
      },
      "execution_count": null,
      "outputs": []
    },
    {
      "cell_type": "code",
      "source": [
        "#checking that the missing value is handled\n",
        "df_copy.value_counts(df_copy['color'])"
      ],
      "metadata": {
        "id": "obkTmyPNVyGG",
        "outputId": "383a34a7-aa12-4de2-ad00-c6f8af756bda",
        "colab": {
          "base_uri": "https://localhost:8080/"
        }
      },
      "execution_count": null,
      "outputs": [
        {
          "output_type": "execute_result",
          "data": {
            "text/plain": [
              "color\n",
              "black        9156\n",
              "white        8693\n",
              "gray         7046\n",
              "silver       6982\n",
              "blue         4244\n",
              "red          3685\n",
              "missing      2246\n",
              "gold          948\n",
              "green         891\n",
              "burgundy      785\n",
              "beige         744\n",
              "brown         529\n",
              "orange        195\n",
              "purple        137\n",
              "off-white     129\n",
              "yellow         99\n",
              "charcoal       49\n",
              "turquoise      15\n",
              "pink            3\n",
              "lime            2\n",
              "dtype: int64"
            ]
          },
          "metadata": {},
          "execution_count": 912
        }
      ]
    },
    {
      "cell_type": "code",
      "source": [
        "#dealing with missing values in interior \n",
        "df_copy['interior']=df_copy['interior'].str.replace('—','missing')\n"
      ],
      "metadata": {
        "id": "1HJAIj0cW5TA"
      },
      "execution_count": null,
      "outputs": []
    },
    {
      "cell_type": "code",
      "source": [
        "#checking that the missing value is handled\n",
        "df_copy.value_counts(df_copy['interior'])"
      ],
      "metadata": {
        "id": "9ImXxeCJW5Zb",
        "outputId": "728ddb62-8d2d-4e4d-c0f0-9d7be3f609af",
        "colab": {
          "base_uri": "https://localhost:8080/"
        }
      },
      "execution_count": null,
      "outputs": [
        {
          "output_type": "execute_result",
          "data": {
            "text/plain": [
              "interior\n",
              "black        20734\n",
              "gray         15020\n",
              "beige         4917\n",
              "tan           3777\n",
              "missing        988\n",
              "brown          694\n",
              "blue           101\n",
              "red             92\n",
              "silver          88\n",
              "off-white       39\n",
              "purple          31\n",
              "gold            26\n",
              "white           23\n",
              "burgundy        20\n",
              "green           16\n",
              "orange          11\n",
              "yellow           1\n",
              "dtype: int64"
            ]
          },
          "metadata": {},
          "execution_count": 914
        }
      ]
    },
    {
      "cell_type": "code",
      "source": [
        "df_copy.head()"
      ],
      "metadata": {
        "id": "W_b9oh1nXqwg",
        "outputId": "cbd3ac8a-61c9-434b-d9a7-e38b0b3cc3e0",
        "colab": {
          "base_uri": "https://localhost:8080/"
        }
      },
      "execution_count": null,
      "outputs": [
        {
          "output_type": "execute_result",
          "data": {
            "text/plain": [
              "   year     make         model   trim          body transmission  \\\n",
              "0  2013  Hyundai        Sonata    GLS         sedan    automatic   \n",
              "1  2014   Toyota       4Runner    SR5           SUV    automatic   \n",
              "2  2012    Lexus        IS 250   Base         Sedan    automatic   \n",
              "3  2002      BMW            X5   4.4i           SUV    automatic   \n",
              "4  2014     Ford  E-Series Van  E-250  E-Series Van    automatic   \n",
              "\n",
              "                 vin state  condition  odometer   color interior  \\\n",
              "0  5npeb4acxdh702805    ma        3.9   50404.0   black     gray   \n",
              "1  jtezu5jr2e5064567    fl        4.9   17846.0    gray  missing   \n",
              "2  jthbf5c24c5168599    fl        4.1   21122.0  silver    black   \n",
              "3  5uxfb33562lh33864    fl        1.9  145303.0   black    black   \n",
              "4  1ftne2ew0eda31832    wa        4.9    6714.0   white     gray   \n",
              "\n",
              "                             seller    mmr  sellingprice  \\\n",
              "0             the hertz corporation  11000         10900   \n",
              "1  award auto sales and leasing inc  28700         29900   \n",
              "2          lexus financial services  22200         24200   \n",
              "3                        peddle llc   3675          3200   \n",
              "4                            u-haul  22500         22100   \n",
              "\n",
              "                                  saledate  \n",
              "0  Tue Jun 02 2015 02:30:00 GMT-0700 (PDT)  \n",
              "1  Wed Feb 18 2015 07:15:00 GMT-0800 (PST)  \n",
              "2  Tue Jan 20 2015 01:30:00 GMT-0800 (PST)  \n",
              "3  Wed Mar 04 2015 07:10:00 GMT-0800 (PST)  \n",
              "4  Wed Feb 18 2015 06:45:00 GMT-0800 (PST)  "
            ],
            "text/html": [
              "\n",
              "  <div id=\"df-133057af-68c2-49b7-bff2-faf8245ebf1e\">\n",
              "    <div class=\"colab-df-container\">\n",
              "      <div>\n",
              "<style scoped>\n",
              "    .dataframe tbody tr th:only-of-type {\n",
              "        vertical-align: middle;\n",
              "    }\n",
              "\n",
              "    .dataframe tbody tr th {\n",
              "        vertical-align: top;\n",
              "    }\n",
              "\n",
              "    .dataframe thead th {\n",
              "        text-align: right;\n",
              "    }\n",
              "</style>\n",
              "<table border=\"1\" class=\"dataframe\">\n",
              "  <thead>\n",
              "    <tr style=\"text-align: right;\">\n",
              "      <th></th>\n",
              "      <th>year</th>\n",
              "      <th>make</th>\n",
              "      <th>model</th>\n",
              "      <th>trim</th>\n",
              "      <th>body</th>\n",
              "      <th>transmission</th>\n",
              "      <th>vin</th>\n",
              "      <th>state</th>\n",
              "      <th>condition</th>\n",
              "      <th>odometer</th>\n",
              "      <th>color</th>\n",
              "      <th>interior</th>\n",
              "      <th>seller</th>\n",
              "      <th>mmr</th>\n",
              "      <th>sellingprice</th>\n",
              "      <th>saledate</th>\n",
              "    </tr>\n",
              "  </thead>\n",
              "  <tbody>\n",
              "    <tr>\n",
              "      <th>0</th>\n",
              "      <td>2013</td>\n",
              "      <td>Hyundai</td>\n",
              "      <td>Sonata</td>\n",
              "      <td>GLS</td>\n",
              "      <td>sedan</td>\n",
              "      <td>automatic</td>\n",
              "      <td>5npeb4acxdh702805</td>\n",
              "      <td>ma</td>\n",
              "      <td>3.9</td>\n",
              "      <td>50404.0</td>\n",
              "      <td>black</td>\n",
              "      <td>gray</td>\n",
              "      <td>the hertz corporation</td>\n",
              "      <td>11000</td>\n",
              "      <td>10900</td>\n",
              "      <td>Tue Jun 02 2015 02:30:00 GMT-0700 (PDT)</td>\n",
              "    </tr>\n",
              "    <tr>\n",
              "      <th>1</th>\n",
              "      <td>2014</td>\n",
              "      <td>Toyota</td>\n",
              "      <td>4Runner</td>\n",
              "      <td>SR5</td>\n",
              "      <td>SUV</td>\n",
              "      <td>automatic</td>\n",
              "      <td>jtezu5jr2e5064567</td>\n",
              "      <td>fl</td>\n",
              "      <td>4.9</td>\n",
              "      <td>17846.0</td>\n",
              "      <td>gray</td>\n",
              "      <td>missing</td>\n",
              "      <td>award auto sales and leasing inc</td>\n",
              "      <td>28700</td>\n",
              "      <td>29900</td>\n",
              "      <td>Wed Feb 18 2015 07:15:00 GMT-0800 (PST)</td>\n",
              "    </tr>\n",
              "    <tr>\n",
              "      <th>2</th>\n",
              "      <td>2012</td>\n",
              "      <td>Lexus</td>\n",
              "      <td>IS 250</td>\n",
              "      <td>Base</td>\n",
              "      <td>Sedan</td>\n",
              "      <td>automatic</td>\n",
              "      <td>jthbf5c24c5168599</td>\n",
              "      <td>fl</td>\n",
              "      <td>4.1</td>\n",
              "      <td>21122.0</td>\n",
              "      <td>silver</td>\n",
              "      <td>black</td>\n",
              "      <td>lexus financial services</td>\n",
              "      <td>22200</td>\n",
              "      <td>24200</td>\n",
              "      <td>Tue Jan 20 2015 01:30:00 GMT-0800 (PST)</td>\n",
              "    </tr>\n",
              "    <tr>\n",
              "      <th>3</th>\n",
              "      <td>2002</td>\n",
              "      <td>BMW</td>\n",
              "      <td>X5</td>\n",
              "      <td>4.4i</td>\n",
              "      <td>SUV</td>\n",
              "      <td>automatic</td>\n",
              "      <td>5uxfb33562lh33864</td>\n",
              "      <td>fl</td>\n",
              "      <td>1.9</td>\n",
              "      <td>145303.0</td>\n",
              "      <td>black</td>\n",
              "      <td>black</td>\n",
              "      <td>peddle llc</td>\n",
              "      <td>3675</td>\n",
              "      <td>3200</td>\n",
              "      <td>Wed Mar 04 2015 07:10:00 GMT-0800 (PST)</td>\n",
              "    </tr>\n",
              "    <tr>\n",
              "      <th>4</th>\n",
              "      <td>2014</td>\n",
              "      <td>Ford</td>\n",
              "      <td>E-Series Van</td>\n",
              "      <td>E-250</td>\n",
              "      <td>E-Series Van</td>\n",
              "      <td>automatic</td>\n",
              "      <td>1ftne2ew0eda31832</td>\n",
              "      <td>wa</td>\n",
              "      <td>4.9</td>\n",
              "      <td>6714.0</td>\n",
              "      <td>white</td>\n",
              "      <td>gray</td>\n",
              "      <td>u-haul</td>\n",
              "      <td>22500</td>\n",
              "      <td>22100</td>\n",
              "      <td>Wed Feb 18 2015 06:45:00 GMT-0800 (PST)</td>\n",
              "    </tr>\n",
              "  </tbody>\n",
              "</table>\n",
              "</div>\n",
              "      <button class=\"colab-df-convert\" onclick=\"convertToInteractive('df-133057af-68c2-49b7-bff2-faf8245ebf1e')\"\n",
              "              title=\"Convert this dataframe to an interactive table.\"\n",
              "              style=\"display:none;\">\n",
              "        \n",
              "  <svg xmlns=\"http://www.w3.org/2000/svg\" height=\"24px\"viewBox=\"0 0 24 24\"\n",
              "       width=\"24px\">\n",
              "    <path d=\"M0 0h24v24H0V0z\" fill=\"none\"/>\n",
              "    <path d=\"M18.56 5.44l.94 2.06.94-2.06 2.06-.94-2.06-.94-.94-2.06-.94 2.06-2.06.94zm-11 1L8.5 8.5l.94-2.06 2.06-.94-2.06-.94L8.5 2.5l-.94 2.06-2.06.94zm10 10l.94 2.06.94-2.06 2.06-.94-2.06-.94-.94-2.06-.94 2.06-2.06.94z\"/><path d=\"M17.41 7.96l-1.37-1.37c-.4-.4-.92-.59-1.43-.59-.52 0-1.04.2-1.43.59L10.3 9.45l-7.72 7.72c-.78.78-.78 2.05 0 2.83L4 21.41c.39.39.9.59 1.41.59.51 0 1.02-.2 1.41-.59l7.78-7.78 2.81-2.81c.8-.78.8-2.07 0-2.86zM5.41 20L4 18.59l7.72-7.72 1.47 1.35L5.41 20z\"/>\n",
              "  </svg>\n",
              "      </button>\n",
              "      \n",
              "  <style>\n",
              "    .colab-df-container {\n",
              "      display:flex;\n",
              "      flex-wrap:wrap;\n",
              "      gap: 12px;\n",
              "    }\n",
              "\n",
              "    .colab-df-convert {\n",
              "      background-color: #E8F0FE;\n",
              "      border: none;\n",
              "      border-radius: 50%;\n",
              "      cursor: pointer;\n",
              "      display: none;\n",
              "      fill: #1967D2;\n",
              "      height: 32px;\n",
              "      padding: 0 0 0 0;\n",
              "      width: 32px;\n",
              "    }\n",
              "\n",
              "    .colab-df-convert:hover {\n",
              "      background-color: #E2EBFA;\n",
              "      box-shadow: 0px 1px 2px rgba(60, 64, 67, 0.3), 0px 1px 3px 1px rgba(60, 64, 67, 0.15);\n",
              "      fill: #174EA6;\n",
              "    }\n",
              "\n",
              "    [theme=dark] .colab-df-convert {\n",
              "      background-color: #3B4455;\n",
              "      fill: #D2E3FC;\n",
              "    }\n",
              "\n",
              "    [theme=dark] .colab-df-convert:hover {\n",
              "      background-color: #434B5C;\n",
              "      box-shadow: 0px 1px 3px 1px rgba(0, 0, 0, 0.15);\n",
              "      filter: drop-shadow(0px 1px 2px rgba(0, 0, 0, 0.3));\n",
              "      fill: #FFFFFF;\n",
              "    }\n",
              "  </style>\n",
              "\n",
              "      <script>\n",
              "        const buttonEl =\n",
              "          document.querySelector('#df-133057af-68c2-49b7-bff2-faf8245ebf1e button.colab-df-convert');\n",
              "        buttonEl.style.display =\n",
              "          google.colab.kernel.accessAllowed ? 'block' : 'none';\n",
              "\n",
              "        async function convertToInteractive(key) {\n",
              "          const element = document.querySelector('#df-133057af-68c2-49b7-bff2-faf8245ebf1e');\n",
              "          const dataTable =\n",
              "            await google.colab.kernel.invokeFunction('convertToInteractive',\n",
              "                                                     [key], {});\n",
              "          if (!dataTable) return;\n",
              "\n",
              "          const docLinkHtml = 'Like what you see? Visit the ' +\n",
              "            '<a target=\"_blank\" href=https://colab.research.google.com/notebooks/data_table.ipynb>data table notebook</a>'\n",
              "            + ' to learn more about interactive tables.';\n",
              "          element.innerHTML = '';\n",
              "          dataTable['output_type'] = 'display_data';\n",
              "          await google.colab.output.renderOutput(dataTable, element);\n",
              "          const docLink = document.createElement('div');\n",
              "          docLink.innerHTML = docLinkHtml;\n",
              "          element.appendChild(docLink);\n",
              "        }\n",
              "      </script>\n",
              "    </div>\n",
              "  </div>\n",
              "  "
            ]
          },
          "metadata": {},
          "execution_count": 915
        }
      ]
    },
    {
      "cell_type": "code",
      "source": [
        "df_copy.info()"
      ],
      "metadata": {
        "id": "PJ60Q94bXniR",
        "outputId": "f1bda834-4635-40ac-e645-30ed4810c4f1",
        "colab": {
          "base_uri": "https://localhost:8080/"
        }
      },
      "execution_count": null,
      "outputs": [
        {
          "output_type": "stream",
          "name": "stdout",
          "text": [
            "<class 'pandas.core.frame.DataFrame'>\n",
            "RangeIndex: 46578 entries, 0 to 46577\n",
            "Data columns (total 16 columns):\n",
            " #   Column        Non-Null Count  Dtype  \n",
            "---  ------        --------------  -----  \n",
            " 0   year          46578 non-null  int64  \n",
            " 1   make          46578 non-null  object \n",
            " 2   model         46578 non-null  object \n",
            " 3   trim          46578 non-null  object \n",
            " 4   body          46578 non-null  object \n",
            " 5   transmission  46578 non-null  object \n",
            " 6   vin           46578 non-null  object \n",
            " 7   state         46578 non-null  object \n",
            " 8   condition     46578 non-null  float64\n",
            " 9   odometer      46578 non-null  float64\n",
            " 10  color         46578 non-null  object \n",
            " 11  interior      46578 non-null  object \n",
            " 12  seller        46578 non-null  object \n",
            " 13  mmr           46578 non-null  int64  \n",
            " 14  sellingprice  46578 non-null  int64  \n",
            " 15  saledate      46578 non-null  object \n",
            "dtypes: float64(2), int64(3), object(11)\n",
            "memory usage: 5.7+ MB\n"
          ]
        }
      ]
    },
    {
      "cell_type": "markdown",
      "source": [
        "This shows that mmr has the highest correlation with the sellingprice while year and odometer almost have the same medium correlation with sellingprice and conditon have medium correlation "
      ],
      "metadata": {
        "id": "HXRSfN2OZCOU"
      }
    },
    {
      "cell_type": "code",
      "source": [
        "#dropping feature vin as it does not affect the selling price in any way\n",
        "df_copy=df_copy.drop('vin',axis=1)\n",
        "df_copy.head()"
      ],
      "metadata": {
        "id": "Kx8CWeUvd0Zh",
        "outputId": "117b0d6a-faca-4ff3-ccfb-0e520230c94a",
        "colab": {
          "base_uri": "https://localhost:8080/"
        }
      },
      "execution_count": null,
      "outputs": [
        {
          "output_type": "execute_result",
          "data": {
            "text/plain": [
              "   year     make         model   trim          body transmission state  \\\n",
              "0  2013  Hyundai        Sonata    GLS         sedan    automatic    ma   \n",
              "1  2014   Toyota       4Runner    SR5           SUV    automatic    fl   \n",
              "2  2012    Lexus        IS 250   Base         Sedan    automatic    fl   \n",
              "3  2002      BMW            X5   4.4i           SUV    automatic    fl   \n",
              "4  2014     Ford  E-Series Van  E-250  E-Series Van    automatic    wa   \n",
              "\n",
              "   condition  odometer   color interior                            seller  \\\n",
              "0        3.9   50404.0   black     gray             the hertz corporation   \n",
              "1        4.9   17846.0    gray  missing  award auto sales and leasing inc   \n",
              "2        4.1   21122.0  silver    black          lexus financial services   \n",
              "3        1.9  145303.0   black    black                        peddle llc   \n",
              "4        4.9    6714.0   white     gray                            u-haul   \n",
              "\n",
              "     mmr  sellingprice                                 saledate  \n",
              "0  11000         10900  Tue Jun 02 2015 02:30:00 GMT-0700 (PDT)  \n",
              "1  28700         29900  Wed Feb 18 2015 07:15:00 GMT-0800 (PST)  \n",
              "2  22200         24200  Tue Jan 20 2015 01:30:00 GMT-0800 (PST)  \n",
              "3   3675          3200  Wed Mar 04 2015 07:10:00 GMT-0800 (PST)  \n",
              "4  22500         22100  Wed Feb 18 2015 06:45:00 GMT-0800 (PST)  "
            ],
            "text/html": [
              "\n",
              "  <div id=\"df-b4755426-81b3-49af-9782-c7bd03166605\">\n",
              "    <div class=\"colab-df-container\">\n",
              "      <div>\n",
              "<style scoped>\n",
              "    .dataframe tbody tr th:only-of-type {\n",
              "        vertical-align: middle;\n",
              "    }\n",
              "\n",
              "    .dataframe tbody tr th {\n",
              "        vertical-align: top;\n",
              "    }\n",
              "\n",
              "    .dataframe thead th {\n",
              "        text-align: right;\n",
              "    }\n",
              "</style>\n",
              "<table border=\"1\" class=\"dataframe\">\n",
              "  <thead>\n",
              "    <tr style=\"text-align: right;\">\n",
              "      <th></th>\n",
              "      <th>year</th>\n",
              "      <th>make</th>\n",
              "      <th>model</th>\n",
              "      <th>trim</th>\n",
              "      <th>body</th>\n",
              "      <th>transmission</th>\n",
              "      <th>state</th>\n",
              "      <th>condition</th>\n",
              "      <th>odometer</th>\n",
              "      <th>color</th>\n",
              "      <th>interior</th>\n",
              "      <th>seller</th>\n",
              "      <th>mmr</th>\n",
              "      <th>sellingprice</th>\n",
              "      <th>saledate</th>\n",
              "    </tr>\n",
              "  </thead>\n",
              "  <tbody>\n",
              "    <tr>\n",
              "      <th>0</th>\n",
              "      <td>2013</td>\n",
              "      <td>Hyundai</td>\n",
              "      <td>Sonata</td>\n",
              "      <td>GLS</td>\n",
              "      <td>sedan</td>\n",
              "      <td>automatic</td>\n",
              "      <td>ma</td>\n",
              "      <td>3.9</td>\n",
              "      <td>50404.0</td>\n",
              "      <td>black</td>\n",
              "      <td>gray</td>\n",
              "      <td>the hertz corporation</td>\n",
              "      <td>11000</td>\n",
              "      <td>10900</td>\n",
              "      <td>Tue Jun 02 2015 02:30:00 GMT-0700 (PDT)</td>\n",
              "    </tr>\n",
              "    <tr>\n",
              "      <th>1</th>\n",
              "      <td>2014</td>\n",
              "      <td>Toyota</td>\n",
              "      <td>4Runner</td>\n",
              "      <td>SR5</td>\n",
              "      <td>SUV</td>\n",
              "      <td>automatic</td>\n",
              "      <td>fl</td>\n",
              "      <td>4.9</td>\n",
              "      <td>17846.0</td>\n",
              "      <td>gray</td>\n",
              "      <td>missing</td>\n",
              "      <td>award auto sales and leasing inc</td>\n",
              "      <td>28700</td>\n",
              "      <td>29900</td>\n",
              "      <td>Wed Feb 18 2015 07:15:00 GMT-0800 (PST)</td>\n",
              "    </tr>\n",
              "    <tr>\n",
              "      <th>2</th>\n",
              "      <td>2012</td>\n",
              "      <td>Lexus</td>\n",
              "      <td>IS 250</td>\n",
              "      <td>Base</td>\n",
              "      <td>Sedan</td>\n",
              "      <td>automatic</td>\n",
              "      <td>fl</td>\n",
              "      <td>4.1</td>\n",
              "      <td>21122.0</td>\n",
              "      <td>silver</td>\n",
              "      <td>black</td>\n",
              "      <td>lexus financial services</td>\n",
              "      <td>22200</td>\n",
              "      <td>24200</td>\n",
              "      <td>Tue Jan 20 2015 01:30:00 GMT-0800 (PST)</td>\n",
              "    </tr>\n",
              "    <tr>\n",
              "      <th>3</th>\n",
              "      <td>2002</td>\n",
              "      <td>BMW</td>\n",
              "      <td>X5</td>\n",
              "      <td>4.4i</td>\n",
              "      <td>SUV</td>\n",
              "      <td>automatic</td>\n",
              "      <td>fl</td>\n",
              "      <td>1.9</td>\n",
              "      <td>145303.0</td>\n",
              "      <td>black</td>\n",
              "      <td>black</td>\n",
              "      <td>peddle llc</td>\n",
              "      <td>3675</td>\n",
              "      <td>3200</td>\n",
              "      <td>Wed Mar 04 2015 07:10:00 GMT-0800 (PST)</td>\n",
              "    </tr>\n",
              "    <tr>\n",
              "      <th>4</th>\n",
              "      <td>2014</td>\n",
              "      <td>Ford</td>\n",
              "      <td>E-Series Van</td>\n",
              "      <td>E-250</td>\n",
              "      <td>E-Series Van</td>\n",
              "      <td>automatic</td>\n",
              "      <td>wa</td>\n",
              "      <td>4.9</td>\n",
              "      <td>6714.0</td>\n",
              "      <td>white</td>\n",
              "      <td>gray</td>\n",
              "      <td>u-haul</td>\n",
              "      <td>22500</td>\n",
              "      <td>22100</td>\n",
              "      <td>Wed Feb 18 2015 06:45:00 GMT-0800 (PST)</td>\n",
              "    </tr>\n",
              "  </tbody>\n",
              "</table>\n",
              "</div>\n",
              "      <button class=\"colab-df-convert\" onclick=\"convertToInteractive('df-b4755426-81b3-49af-9782-c7bd03166605')\"\n",
              "              title=\"Convert this dataframe to an interactive table.\"\n",
              "              style=\"display:none;\">\n",
              "        \n",
              "  <svg xmlns=\"http://www.w3.org/2000/svg\" height=\"24px\"viewBox=\"0 0 24 24\"\n",
              "       width=\"24px\">\n",
              "    <path d=\"M0 0h24v24H0V0z\" fill=\"none\"/>\n",
              "    <path d=\"M18.56 5.44l.94 2.06.94-2.06 2.06-.94-2.06-.94-.94-2.06-.94 2.06-2.06.94zm-11 1L8.5 8.5l.94-2.06 2.06-.94-2.06-.94L8.5 2.5l-.94 2.06-2.06.94zm10 10l.94 2.06.94-2.06 2.06-.94-2.06-.94-.94-2.06-.94 2.06-2.06.94z\"/><path d=\"M17.41 7.96l-1.37-1.37c-.4-.4-.92-.59-1.43-.59-.52 0-1.04.2-1.43.59L10.3 9.45l-7.72 7.72c-.78.78-.78 2.05 0 2.83L4 21.41c.39.39.9.59 1.41.59.51 0 1.02-.2 1.41-.59l7.78-7.78 2.81-2.81c.8-.78.8-2.07 0-2.86zM5.41 20L4 18.59l7.72-7.72 1.47 1.35L5.41 20z\"/>\n",
              "  </svg>\n",
              "      </button>\n",
              "      \n",
              "  <style>\n",
              "    .colab-df-container {\n",
              "      display:flex;\n",
              "      flex-wrap:wrap;\n",
              "      gap: 12px;\n",
              "    }\n",
              "\n",
              "    .colab-df-convert {\n",
              "      background-color: #E8F0FE;\n",
              "      border: none;\n",
              "      border-radius: 50%;\n",
              "      cursor: pointer;\n",
              "      display: none;\n",
              "      fill: #1967D2;\n",
              "      height: 32px;\n",
              "      padding: 0 0 0 0;\n",
              "      width: 32px;\n",
              "    }\n",
              "\n",
              "    .colab-df-convert:hover {\n",
              "      background-color: #E2EBFA;\n",
              "      box-shadow: 0px 1px 2px rgba(60, 64, 67, 0.3), 0px 1px 3px 1px rgba(60, 64, 67, 0.15);\n",
              "      fill: #174EA6;\n",
              "    }\n",
              "\n",
              "    [theme=dark] .colab-df-convert {\n",
              "      background-color: #3B4455;\n",
              "      fill: #D2E3FC;\n",
              "    }\n",
              "\n",
              "    [theme=dark] .colab-df-convert:hover {\n",
              "      background-color: #434B5C;\n",
              "      box-shadow: 0px 1px 3px 1px rgba(0, 0, 0, 0.15);\n",
              "      filter: drop-shadow(0px 1px 2px rgba(0, 0, 0, 0.3));\n",
              "      fill: #FFFFFF;\n",
              "    }\n",
              "  </style>\n",
              "\n",
              "      <script>\n",
              "        const buttonEl =\n",
              "          document.querySelector('#df-b4755426-81b3-49af-9782-c7bd03166605 button.colab-df-convert');\n",
              "        buttonEl.style.display =\n",
              "          google.colab.kernel.accessAllowed ? 'block' : 'none';\n",
              "\n",
              "        async function convertToInteractive(key) {\n",
              "          const element = document.querySelector('#df-b4755426-81b3-49af-9782-c7bd03166605');\n",
              "          const dataTable =\n",
              "            await google.colab.kernel.invokeFunction('convertToInteractive',\n",
              "                                                     [key], {});\n",
              "          if (!dataTable) return;\n",
              "\n",
              "          const docLinkHtml = 'Like what you see? Visit the ' +\n",
              "            '<a target=\"_blank\" href=https://colab.research.google.com/notebooks/data_table.ipynb>data table notebook</a>'\n",
              "            + ' to learn more about interactive tables.';\n",
              "          element.innerHTML = '';\n",
              "          dataTable['output_type'] = 'display_data';\n",
              "          await google.colab.output.renderOutput(dataTable, element);\n",
              "          const docLink = document.createElement('div');\n",
              "          docLink.innerHTML = docLinkHtml;\n",
              "          element.appendChild(docLink);\n",
              "        }\n",
              "      </script>\n",
              "    </div>\n",
              "  </div>\n",
              "  "
            ]
          },
          "metadata": {},
          "execution_count": 917
        }
      ]
    },
    {
      "cell_type": "code",
      "source": [
        "#changing the first case of each body type to avoid duplication and inconsistencies \n",
        "df_copy['body']=df_copy['body'].str.upper()"
      ],
      "metadata": {
        "id": "8droe72SmcFO"
      },
      "execution_count": null,
      "outputs": []
    },
    {
      "cell_type": "code",
      "source": [
        "#checking that the body types are not repeated\n",
        "df_copy['body'].unique()"
      ],
      "metadata": {
        "id": "_OKub41AmcNr",
        "outputId": "2ed0d156-9718-42e5-a810-ddb7d4bdf06d",
        "colab": {
          "base_uri": "https://localhost:8080/"
        }
      },
      "execution_count": null,
      "outputs": [
        {
          "output_type": "execute_result",
          "data": {
            "text/plain": [
              "array(['SEDAN', 'SUV', 'E-SERIES VAN', 'CREW CAB', 'G SEDAN', 'WAGON',\n",
              "       'REGULAR CAB', 'DOUBLE CAB', 'COUPE', 'MINIVAN', 'SUPERCREW',\n",
              "       'CONVERTIBLE', 'EXTENDED CAB', 'HATCHBACK', 'VAN', 'SUPERCAB',\n",
              "       'KING CAB', 'G CONVERTIBLE', 'QUAD CAB', 'BEETLE CONVERTIBLE',\n",
              "       'G COUPE', 'CREWMAX CAB', 'CLUB CAB', 'ACCESS CAB',\n",
              "       'GENESIS COUPE', 'G37 CONVERTIBLE', 'CAB PLUS 4',\n",
              "       'PROMASTER CARGO VAN', 'MEGA CAB', 'KOUP', 'ELANTRA COUPE',\n",
              "       'Q60 CONVERTIBLE', 'REGULAR-CAB', 'XTRACAB', 'CTS COUPE',\n",
              "       'CTS WAGON', 'GRANTURISMO CONVERTIBLE', 'TSX SPORT WAGON',\n",
              "       'CTS-V COUPE', 'Q60 COUPE', 'TRANSIT VAN'], dtype=object)"
            ]
          },
          "metadata": {},
          "execution_count": 919
        }
      ]
    },
    {
      "cell_type": "markdown",
      "source": [
        "Checking the values in each type of body "
      ],
      "metadata": {
        "id": "NR7ma3XALWYU"
      }
    },
    {
      "cell_type": "code",
      "source": [
        "#checking the unique values of sedan\n",
        "sedan_values=df_copy[df_copy['body'].str.contains('SEDAN')==True]\n",
        "sedan_values['body'].value_counts()"
      ],
      "metadata": {
        "colab": {
          "base_uri": "https://localhost:8080/"
        },
        "id": "eIN8Kr9XEqR4",
        "outputId": "a311962b-a7e5-4406-bc4d-5edb4864973b"
      },
      "execution_count": null,
      "outputs": [
        {
          "output_type": "execute_result",
          "data": {
            "text/plain": [
              "SEDAN      20857\n",
              "G SEDAN      717\n",
              "Name: body, dtype: int64"
            ]
          },
          "metadata": {},
          "execution_count": 920
        }
      ]
    },
    {
      "cell_type": "markdown",
      "source": [
        "After knowing the different sedan values, we found that there are G SEDAN and SEDAN values so we will replace the G SEDAN with SEDAN"
      ],
      "metadata": {
        "id": "yWY-bAGzJa-w"
      }
    },
    {
      "cell_type": "code",
      "source": [
        "#replacing G SEDAN with SEDAN \n",
        "df_copy['body']=df_copy['body'].str.replace('G SEDAN','SEDAN')"
      ],
      "metadata": {
        "id": "0GKuwQv5IJm9"
      },
      "execution_count": null,
      "outputs": []
    },
    {
      "cell_type": "code",
      "source": [
        "#ensuring that G SEDAN is replaced by SEDAN\n",
        "df_copy[df_copy['body'].str.contains('G SEDAN')==True]"
      ],
      "metadata": {
        "colab": {
          "base_uri": "https://localhost:8080/"
        },
        "id": "wqwbdbhIIJpm",
        "outputId": "9a783809-2b3a-4df1-fdf6-185223e4c36a"
      },
      "execution_count": null,
      "outputs": [
        {
          "output_type": "execute_result",
          "data": {
            "text/plain": [
              "Empty DataFrame\n",
              "Columns: [year, make, model, trim, body, transmission, state, condition, odometer, color, interior, seller, mmr, sellingprice, saledate]\n",
              "Index: []"
            ],
            "text/html": [
              "\n",
              "  <div id=\"df-a5e3dfc7-8659-4369-a6a1-9c05960509c3\">\n",
              "    <div class=\"colab-df-container\">\n",
              "      <div>\n",
              "<style scoped>\n",
              "    .dataframe tbody tr th:only-of-type {\n",
              "        vertical-align: middle;\n",
              "    }\n",
              "\n",
              "    .dataframe tbody tr th {\n",
              "        vertical-align: top;\n",
              "    }\n",
              "\n",
              "    .dataframe thead th {\n",
              "        text-align: right;\n",
              "    }\n",
              "</style>\n",
              "<table border=\"1\" class=\"dataframe\">\n",
              "  <thead>\n",
              "    <tr style=\"text-align: right;\">\n",
              "      <th></th>\n",
              "      <th>year</th>\n",
              "      <th>make</th>\n",
              "      <th>model</th>\n",
              "      <th>trim</th>\n",
              "      <th>body</th>\n",
              "      <th>transmission</th>\n",
              "      <th>state</th>\n",
              "      <th>condition</th>\n",
              "      <th>odometer</th>\n",
              "      <th>color</th>\n",
              "      <th>interior</th>\n",
              "      <th>seller</th>\n",
              "      <th>mmr</th>\n",
              "      <th>sellingprice</th>\n",
              "      <th>saledate</th>\n",
              "    </tr>\n",
              "  </thead>\n",
              "  <tbody>\n",
              "  </tbody>\n",
              "</table>\n",
              "</div>\n",
              "      <button class=\"colab-df-convert\" onclick=\"convertToInteractive('df-a5e3dfc7-8659-4369-a6a1-9c05960509c3')\"\n",
              "              title=\"Convert this dataframe to an interactive table.\"\n",
              "              style=\"display:none;\">\n",
              "        \n",
              "  <svg xmlns=\"http://www.w3.org/2000/svg\" height=\"24px\"viewBox=\"0 0 24 24\"\n",
              "       width=\"24px\">\n",
              "    <path d=\"M0 0h24v24H0V0z\" fill=\"none\"/>\n",
              "    <path d=\"M18.56 5.44l.94 2.06.94-2.06 2.06-.94-2.06-.94-.94-2.06-.94 2.06-2.06.94zm-11 1L8.5 8.5l.94-2.06 2.06-.94-2.06-.94L8.5 2.5l-.94 2.06-2.06.94zm10 10l.94 2.06.94-2.06 2.06-.94-2.06-.94-.94-2.06-.94 2.06-2.06.94z\"/><path d=\"M17.41 7.96l-1.37-1.37c-.4-.4-.92-.59-1.43-.59-.52 0-1.04.2-1.43.59L10.3 9.45l-7.72 7.72c-.78.78-.78 2.05 0 2.83L4 21.41c.39.39.9.59 1.41.59.51 0 1.02-.2 1.41-.59l7.78-7.78 2.81-2.81c.8-.78.8-2.07 0-2.86zM5.41 20L4 18.59l7.72-7.72 1.47 1.35L5.41 20z\"/>\n",
              "  </svg>\n",
              "      </button>\n",
              "      \n",
              "  <style>\n",
              "    .colab-df-container {\n",
              "      display:flex;\n",
              "      flex-wrap:wrap;\n",
              "      gap: 12px;\n",
              "    }\n",
              "\n",
              "    .colab-df-convert {\n",
              "      background-color: #E8F0FE;\n",
              "      border: none;\n",
              "      border-radius: 50%;\n",
              "      cursor: pointer;\n",
              "      display: none;\n",
              "      fill: #1967D2;\n",
              "      height: 32px;\n",
              "      padding: 0 0 0 0;\n",
              "      width: 32px;\n",
              "    }\n",
              "\n",
              "    .colab-df-convert:hover {\n",
              "      background-color: #E2EBFA;\n",
              "      box-shadow: 0px 1px 2px rgba(60, 64, 67, 0.3), 0px 1px 3px 1px rgba(60, 64, 67, 0.15);\n",
              "      fill: #174EA6;\n",
              "    }\n",
              "\n",
              "    [theme=dark] .colab-df-convert {\n",
              "      background-color: #3B4455;\n",
              "      fill: #D2E3FC;\n",
              "    }\n",
              "\n",
              "    [theme=dark] .colab-df-convert:hover {\n",
              "      background-color: #434B5C;\n",
              "      box-shadow: 0px 1px 3px 1px rgba(0, 0, 0, 0.15);\n",
              "      filter: drop-shadow(0px 1px 2px rgba(0, 0, 0, 0.3));\n",
              "      fill: #FFFFFF;\n",
              "    }\n",
              "  </style>\n",
              "\n",
              "      <script>\n",
              "        const buttonEl =\n",
              "          document.querySelector('#df-a5e3dfc7-8659-4369-a6a1-9c05960509c3 button.colab-df-convert');\n",
              "        buttonEl.style.display =\n",
              "          google.colab.kernel.accessAllowed ? 'block' : 'none';\n",
              "\n",
              "        async function convertToInteractive(key) {\n",
              "          const element = document.querySelector('#df-a5e3dfc7-8659-4369-a6a1-9c05960509c3');\n",
              "          const dataTable =\n",
              "            await google.colab.kernel.invokeFunction('convertToInteractive',\n",
              "                                                     [key], {});\n",
              "          if (!dataTable) return;\n",
              "\n",
              "          const docLinkHtml = 'Like what you see? Visit the ' +\n",
              "            '<a target=\"_blank\" href=https://colab.research.google.com/notebooks/data_table.ipynb>data table notebook</a>'\n",
              "            + ' to learn more about interactive tables.';\n",
              "          element.innerHTML = '';\n",
              "          dataTable['output_type'] = 'display_data';\n",
              "          await google.colab.output.renderOutput(dataTable, element);\n",
              "          const docLink = document.createElement('div');\n",
              "          docLink.innerHTML = docLinkHtml;\n",
              "          element.appendChild(docLink);\n",
              "        }\n",
              "      </script>\n",
              "    </div>\n",
              "  </div>\n",
              "  "
            ]
          },
          "metadata": {},
          "execution_count": 922
        }
      ]
    },
    {
      "cell_type": "markdown",
      "source": [
        "This shows that G SEDAN is no longer in the data and is replaced by SEDAN"
      ],
      "metadata": {
        "id": "L9q3yv-GMg3d"
      }
    },
    {
      "cell_type": "markdown",
      "source": [
        "Repeating the same process for all other values of body"
      ],
      "metadata": {
        "id": "9Qjh6HaMMrLm"
      }
    },
    {
      "cell_type": "markdown",
      "source": [
        "For coupe"
      ],
      "metadata": {
        "id": "1FgLxY24QZgQ"
      }
    },
    {
      "cell_type": "code",
      "source": [
        "#checking values of coupe\n",
        "coupe_values=df_copy[df_copy['body'].str.contains('COUPE')==True]\n",
        "coupe_values['body'].value_counts()"
      ],
      "metadata": {
        "colab": {
          "base_uri": "https://localhost:8080/"
        },
        "id": "eZ2c8CL7IJsD",
        "outputId": "4b9bcbc9-97d0-410e-c99d-a8b56ae2dac0"
      },
      "execution_count": null,
      "outputs": [
        {
          "output_type": "execute_result",
          "data": {
            "text/plain": [
              "COUPE            1563\n",
              "G COUPE           170\n",
              "GENESIS COUPE      22\n",
              "CTS COUPE          10\n",
              "ELANTRA COUPE       6\n",
              "CTS-V COUPE         2\n",
              "Q60 COUPE           2\n",
              "Name: body, dtype: int64"
            ]
          },
          "metadata": {},
          "execution_count": 923
        }
      ]
    },
    {
      "cell_type": "code",
      "source": [
        "#replace different coupe values with coupe only\n",
        "df_copy['body']=df_copy['body'].str.replace('G COUPE','COUPE')\n",
        "df_copy['body']=df_copy['body'].str.replace('GENESIS COUPE','COUPE')\n",
        "df_copy['body']=df_copy['body'].str.replace('CTS COUPE','COUPE')\n",
        "df_copy['body']=df_copy['body'].str.replace('ELANTRA COUPE','COUPE')\n",
        "df_copy['body']=df_copy['body'].str.replace('CTS-V COUPE','COUPE')\n",
        "df_copy['body']=df_copy['body'].str.replace('Q60 COUPE','COUPE')"
      ],
      "metadata": {
        "id": "t8ESvi58IJur"
      },
      "execution_count": null,
      "outputs": []
    },
    {
      "cell_type": "code",
      "source": [
        "#replacing koup with coupe\n",
        "df_copy['body']=df_copy['body'].str.replace('KOUP','COUPE')"
      ],
      "metadata": {
        "id": "ch7E90iKI2pY"
      },
      "execution_count": null,
      "outputs": []
    },
    {
      "cell_type": "code",
      "source": [
        "#ensuring the other COUPE values are replaced by COUPE only\n",
        "df_copy[df_copy['body'].str.contains('G COUPE')==True]\n",
        "df_copy[df_copy['body'].str.contains('GENSIS COUPE')==True]\n",
        "df_copy[df_copy['body'].str.contains('CTS COUPE')==True]\n",
        "df_copy[df_copy['body'].str.contains('ELANTRA COUPE')==True]\n",
        "df_copy[df_copy['body'].str.contains('CTS-V COUPE')==True]\n",
        "df_copy[df_copy['body'].str.contains('Q60 COUPE')==True]\n",
        "df_copy[df_copy['body'].str.contains('koup')==True]"
      ],
      "metadata": {
        "colab": {
          "base_uri": "https://localhost:8080/"
        },
        "id": "YVP70s1tIJxL",
        "outputId": "148c8ff9-d457-43f1-a8ba-f2fc671f0887"
      },
      "execution_count": null,
      "outputs": [
        {
          "output_type": "execute_result",
          "data": {
            "text/plain": [
              "Empty DataFrame\n",
              "Columns: [year, make, model, trim, body, transmission, state, condition, odometer, color, interior, seller, mmr, sellingprice, saledate]\n",
              "Index: []"
            ],
            "text/html": [
              "\n",
              "  <div id=\"df-ba73978f-31cb-4fd8-99c5-d17f032680e8\">\n",
              "    <div class=\"colab-df-container\">\n",
              "      <div>\n",
              "<style scoped>\n",
              "    .dataframe tbody tr th:only-of-type {\n",
              "        vertical-align: middle;\n",
              "    }\n",
              "\n",
              "    .dataframe tbody tr th {\n",
              "        vertical-align: top;\n",
              "    }\n",
              "\n",
              "    .dataframe thead th {\n",
              "        text-align: right;\n",
              "    }\n",
              "</style>\n",
              "<table border=\"1\" class=\"dataframe\">\n",
              "  <thead>\n",
              "    <tr style=\"text-align: right;\">\n",
              "      <th></th>\n",
              "      <th>year</th>\n",
              "      <th>make</th>\n",
              "      <th>model</th>\n",
              "      <th>trim</th>\n",
              "      <th>body</th>\n",
              "      <th>transmission</th>\n",
              "      <th>state</th>\n",
              "      <th>condition</th>\n",
              "      <th>odometer</th>\n",
              "      <th>color</th>\n",
              "      <th>interior</th>\n",
              "      <th>seller</th>\n",
              "      <th>mmr</th>\n",
              "      <th>sellingprice</th>\n",
              "      <th>saledate</th>\n",
              "    </tr>\n",
              "  </thead>\n",
              "  <tbody>\n",
              "  </tbody>\n",
              "</table>\n",
              "</div>\n",
              "      <button class=\"colab-df-convert\" onclick=\"convertToInteractive('df-ba73978f-31cb-4fd8-99c5-d17f032680e8')\"\n",
              "              title=\"Convert this dataframe to an interactive table.\"\n",
              "              style=\"display:none;\">\n",
              "        \n",
              "  <svg xmlns=\"http://www.w3.org/2000/svg\" height=\"24px\"viewBox=\"0 0 24 24\"\n",
              "       width=\"24px\">\n",
              "    <path d=\"M0 0h24v24H0V0z\" fill=\"none\"/>\n",
              "    <path d=\"M18.56 5.44l.94 2.06.94-2.06 2.06-.94-2.06-.94-.94-2.06-.94 2.06-2.06.94zm-11 1L8.5 8.5l.94-2.06 2.06-.94-2.06-.94L8.5 2.5l-.94 2.06-2.06.94zm10 10l.94 2.06.94-2.06 2.06-.94-2.06-.94-.94-2.06-.94 2.06-2.06.94z\"/><path d=\"M17.41 7.96l-1.37-1.37c-.4-.4-.92-.59-1.43-.59-.52 0-1.04.2-1.43.59L10.3 9.45l-7.72 7.72c-.78.78-.78 2.05 0 2.83L4 21.41c.39.39.9.59 1.41.59.51 0 1.02-.2 1.41-.59l7.78-7.78 2.81-2.81c.8-.78.8-2.07 0-2.86zM5.41 20L4 18.59l7.72-7.72 1.47 1.35L5.41 20z\"/>\n",
              "  </svg>\n",
              "      </button>\n",
              "      \n",
              "  <style>\n",
              "    .colab-df-container {\n",
              "      display:flex;\n",
              "      flex-wrap:wrap;\n",
              "      gap: 12px;\n",
              "    }\n",
              "\n",
              "    .colab-df-convert {\n",
              "      background-color: #E8F0FE;\n",
              "      border: none;\n",
              "      border-radius: 50%;\n",
              "      cursor: pointer;\n",
              "      display: none;\n",
              "      fill: #1967D2;\n",
              "      height: 32px;\n",
              "      padding: 0 0 0 0;\n",
              "      width: 32px;\n",
              "    }\n",
              "\n",
              "    .colab-df-convert:hover {\n",
              "      background-color: #E2EBFA;\n",
              "      box-shadow: 0px 1px 2px rgba(60, 64, 67, 0.3), 0px 1px 3px 1px rgba(60, 64, 67, 0.15);\n",
              "      fill: #174EA6;\n",
              "    }\n",
              "\n",
              "    [theme=dark] .colab-df-convert {\n",
              "      background-color: #3B4455;\n",
              "      fill: #D2E3FC;\n",
              "    }\n",
              "\n",
              "    [theme=dark] .colab-df-convert:hover {\n",
              "      background-color: #434B5C;\n",
              "      box-shadow: 0px 1px 3px 1px rgba(0, 0, 0, 0.15);\n",
              "      filter: drop-shadow(0px 1px 2px rgba(0, 0, 0, 0.3));\n",
              "      fill: #FFFFFF;\n",
              "    }\n",
              "  </style>\n",
              "\n",
              "      <script>\n",
              "        const buttonEl =\n",
              "          document.querySelector('#df-ba73978f-31cb-4fd8-99c5-d17f032680e8 button.colab-df-convert');\n",
              "        buttonEl.style.display =\n",
              "          google.colab.kernel.accessAllowed ? 'block' : 'none';\n",
              "\n",
              "        async function convertToInteractive(key) {\n",
              "          const element = document.querySelector('#df-ba73978f-31cb-4fd8-99c5-d17f032680e8');\n",
              "          const dataTable =\n",
              "            await google.colab.kernel.invokeFunction('convertToInteractive',\n",
              "                                                     [key], {});\n",
              "          if (!dataTable) return;\n",
              "\n",
              "          const docLinkHtml = 'Like what you see? Visit the ' +\n",
              "            '<a target=\"_blank\" href=https://colab.research.google.com/notebooks/data_table.ipynb>data table notebook</a>'\n",
              "            + ' to learn more about interactive tables.';\n",
              "          element.innerHTML = '';\n",
              "          dataTable['output_type'] = 'display_data';\n",
              "          await google.colab.output.renderOutput(dataTable, element);\n",
              "          const docLink = document.createElement('div');\n",
              "          docLink.innerHTML = docLinkHtml;\n",
              "          element.appendChild(docLink);\n",
              "        }\n",
              "      </script>\n",
              "    </div>\n",
              "  </div>\n",
              "  "
            ]
          },
          "metadata": {},
          "execution_count": 926
        }
      ]
    },
    {
      "cell_type": "markdown",
      "source": [
        "Convertible"
      ],
      "metadata": {
        "id": "NU7xbMvtZfMU"
      }
    },
    {
      "cell_type": "code",
      "source": [
        "convertible_values=df_copy[df_copy['body'].str.contains('CONVERTIBLE')==True]\n",
        "convertible_values['body'].value_counts()"
      ],
      "metadata": {
        "colab": {
          "base_uri": "https://localhost:8080/"
        },
        "id": "XjqE3A-QZH2E",
        "outputId": "ae0866c0-4c88-4def-dfd3-15ad169d7373"
      },
      "execution_count": null,
      "outputs": [
        {
          "output_type": "execute_result",
          "data": {
            "text/plain": [
              "CONVERTIBLE                919\n",
              "G CONVERTIBLE               30\n",
              "BEETLE CONVERTIBLE           9\n",
              "G37 CONVERTIBLE              2\n",
              "Q60 CONVERTIBLE              2\n",
              "GRANTURISMO CONVERTIBLE      2\n",
              "Name: body, dtype: int64"
            ]
          },
          "metadata": {},
          "execution_count": 927
        }
      ]
    },
    {
      "cell_type": "code",
      "source": [
        "#replace different convertible values with convertible only\n",
        "df_copy['body']=df_copy['body'].str.replace('G CONVERTIBLE','CONVERTIBLE')\n",
        "df_copy['body']=df_copy['body'].str.replace('BEETLE CONVERTIBLE','CONVERTIBLE')\n",
        "df_copy['body']=df_copy['body'].str.replace('G37 CONVERTIBLE','CONVERTIBLE')\n",
        "df_copy['body']=df_copy['body'].str.replace('Q60 CONVERTIBLE','CONVERTIBLE')\n",
        "df_copy['body']=df_copy['body'].str.replace('GRANTURISMO CONVERTIBLE','CONVERTIBLE')"
      ],
      "metadata": {
        "id": "mpA5FLJAZMrL"
      },
      "execution_count": null,
      "outputs": []
    },
    {
      "cell_type": "markdown",
      "source": [
        "Hatchback\n"
      ],
      "metadata": {
        "id": "J0xHSCoHbl-u"
      }
    },
    {
      "cell_type": "code",
      "source": [
        "hatchback_values=df_copy[df_copy['body'].str.contains('HATCHBACK')==True]\n",
        "hatchback_values['body'].value_counts()"
      ],
      "metadata": {
        "colab": {
          "base_uri": "https://localhost:8080/"
        },
        "id": "-_u0yozJbywF",
        "outputId": "6eab2a82-6e05-45e1-9e8d-07cc0a45ce33"
      },
      "execution_count": null,
      "outputs": [
        {
          "output_type": "execute_result",
          "data": {
            "text/plain": [
              "HATCHBACK    2270\n",
              "Name: body, dtype: int64"
            ]
          },
          "metadata": {},
          "execution_count": 929
        }
      ]
    },
    {
      "cell_type": "markdown",
      "source": [
        "Hatchback has no other different values"
      ],
      "metadata": {
        "id": "04WzcvCmdiFb"
      }
    },
    {
      "cell_type": "markdown",
      "source": [
        "SUV"
      ],
      "metadata": {
        "id": "TWdgicL_ciSd"
      }
    },
    {
      "cell_type": "code",
      "source": [
        "suv_values=df_copy[df_copy['body'].str.contains('SUV')==True]\n",
        "suv_values['body'].value_counts()"
      ],
      "metadata": {
        "colab": {
          "base_uri": "https://localhost:8080/"
        },
        "id": "VQLboEnHbyy0",
        "outputId": "ff7bf966-c5c2-4dbe-abc3-8347c08c1dcf"
      },
      "execution_count": null,
      "outputs": [
        {
          "output_type": "execute_result",
          "data": {
            "text/plain": [
              "SUV    11936\n",
              "Name: body, dtype: int64"
            ]
          },
          "metadata": {},
          "execution_count": 930
        }
      ]
    },
    {
      "cell_type": "markdown",
      "source": [
        "SUV has no other different values"
      ],
      "metadata": {
        "id": "oLWms1yqdwzB"
      }
    },
    {
      "cell_type": "markdown",
      "source": [
        "VAN"
      ],
      "metadata": {
        "id": "fkMsJu3fd5Jp"
      }
    },
    {
      "cell_type": "code",
      "source": [
        "van_values=df_copy[df_copy['body'].str.contains('VAN')==True]\n",
        "van_values['body'].value_counts()"
      ],
      "metadata": {
        "colab": {
          "base_uri": "https://localhost:8080/"
        },
        "id": "CJ5cW_WIby31",
        "outputId": "8b618d68-cc35-49c8-ae85-0be38014c937"
      },
      "execution_count": null,
      "outputs": [
        {
          "output_type": "execute_result",
          "data": {
            "text/plain": [
              "MINIVAN                2189\n",
              "VAN                     332\n",
              "E-SERIES VAN            100\n",
              "PROMASTER CARGO VAN      10\n",
              "TRANSIT VAN               1\n",
              "Name: body, dtype: int64"
            ]
          },
          "metadata": {},
          "execution_count": 931
        }
      ]
    },
    {
      "cell_type": "code",
      "source": [
        "#replace different van values with minivan only\n",
        "df_copy['body']=df_copy['body'].str.replace('E-SERIES VAN','MINIVAN')\n",
        "df_copy['body']=df_copy['body'].str.replace('VAN','MINIVAN')\n",
        "df_copy['body']=df_copy['body'].str.replace('PROMASTER CARGO VAN','MINIVAN')\n",
        "df_copy['body']=df_copy['body'].str.replace('TRANSIT VAN','MINIVAN')"
      ],
      "metadata": {
        "id": "cDX9ylYUBkhH"
      },
      "execution_count": null,
      "outputs": []
    },
    {
      "cell_type": "code",
      "source": [
        "minivan_values=df_copy[df_copy['body'].str.contains('MINIVAN')==True]\n",
        "minivan_values['body'].unique()"
      ],
      "metadata": {
        "colab": {
          "base_uri": "https://localhost:8080/"
        },
        "id": "AfIPhez8CNnv",
        "outputId": "907b2b7b-6995-4282-cfcf-372c9c8d1826"
      },
      "execution_count": null,
      "outputs": [
        {
          "output_type": "execute_result",
          "data": {
            "text/plain": [
              "array(['MINIMINIVAN', 'MINIVAN', 'PROMASTER CARGO MINIVAN',\n",
              "       'TRANSIT MINIVAN'], dtype=object)"
            ]
          },
          "metadata": {},
          "execution_count": 933
        }
      ]
    },
    {
      "cell_type": "code",
      "source": [
        "#replace different minivan values with minivan only\n",
        "df_copy['body']=df_copy['body'].str.replace('MINIMINIVAN','MINIVAN')\n",
        "df_copy['body']=df_copy['body'].str.replace('PROMASTER CARGO MINIVAN','MINIVAN')\n",
        "df_copy['body']=df_copy['body'].str.replace('TRANSIT MINIVAN','MINIVAN')"
      ],
      "metadata": {
        "id": "E8q9UDZNGBhd"
      },
      "execution_count": null,
      "outputs": []
    },
    {
      "cell_type": "code",
      "source": [
        "#checking that only it is only minivan\n",
        "df_copy['body'].unique()"
      ],
      "metadata": {
        "colab": {
          "base_uri": "https://localhost:8080/"
        },
        "id": "holBM-KWGW2n",
        "outputId": "672a9065-75ad-43e5-9e6a-e8ffc304891a"
      },
      "execution_count": null,
      "outputs": [
        {
          "output_type": "execute_result",
          "data": {
            "text/plain": [
              "array(['SEDAN', 'SUV', 'MINIVAN', 'CREW CAB', 'WAGON', 'REGULAR CAB',\n",
              "       'DOUBLE CAB', 'COUPE', 'SUPERCREW', 'CONVERTIBLE', 'EXTENDED CAB',\n",
              "       'HATCHBACK', 'SUPERCAB', 'KING CAB', 'QUAD CAB', 'CREWMAX CAB',\n",
              "       'CLUB CAB', 'ACCESS CAB', 'CAB PLUS 4', 'MEGA CAB', 'REGULAR-CAB',\n",
              "       'XTRACAB', 'CTS WAGON', 'TSX SPORT WAGON'], dtype=object)"
            ]
          },
          "metadata": {},
          "execution_count": 935
        }
      ]
    },
    {
      "cell_type": "markdown",
      "source": [
        "WAGON"
      ],
      "metadata": {
        "id": "wvNYptwPeXl8"
      }
    },
    {
      "cell_type": "code",
      "source": [
        "wagon_values=df_copy[df_copy['body'].str.contains('WAGON')==True]\n",
        "wagon_values['body'].value_counts()"
      ],
      "metadata": {
        "colab": {
          "base_uri": "https://localhost:8080/"
        },
        "id": "7-Hq4HpWby6b",
        "outputId": "0def4494-e7ae-4068-e3ba-e7835da44234"
      },
      "execution_count": null,
      "outputs": [
        {
          "output_type": "execute_result",
          "data": {
            "text/plain": [
              "WAGON              1434\n",
              "TSX SPORT WAGON       3\n",
              "CTS WAGON             1\n",
              "Name: body, dtype: int64"
            ]
          },
          "metadata": {},
          "execution_count": 936
        }
      ]
    },
    {
      "cell_type": "code",
      "source": [
        "#replace different wagon values with wagon only\n",
        "df_copy['body']=df_copy['body'].str.replace('TSX SPORT WAGON','WAGON')\n",
        "df_copy['body']=df_copy['body'].str.replace('CTS WAGON','WAGON')"
      ],
      "metadata": {
        "id": "yGNcBJIWby9d"
      },
      "execution_count": null,
      "outputs": []
    },
    {
      "cell_type": "markdown",
      "source": [
        "PICKUP TRUCKS (INDICATED BY CAP)"
      ],
      "metadata": {
        "id": "j3ENLTpWf-E_"
      }
    },
    {
      "cell_type": "code",
      "source": [
        "pickup_values=df_copy[df_copy['body'].str.contains('CAB')==True]\n",
        "pickup_values['body'].value_counts()"
      ],
      "metadata": {
        "colab": {
          "base_uri": "https://localhost:8080/"
        },
        "id": "I9tCzh4Vf51y",
        "outputId": "96205a50-90ff-4495-cdbb-ba96b3b99871"
      },
      "execution_count": null,
      "outputs": [
        {
          "output_type": "execute_result",
          "data": {
            "text/plain": [
              "CREW CAB        1409\n",
              "SUPERCAB         433\n",
              "REGULAR CAB      399\n",
              "EXTENDED CAB     397\n",
              "QUAD CAB         318\n",
              "DOUBLE CAB       137\n",
              "CREWMAX CAB       52\n",
              "KING CAB          40\n",
              "ACCESS CAB        19\n",
              "CLUB CAB          17\n",
              "MEGA CAB           8\n",
              "XTRACAB            5\n",
              "CAB PLUS 4         2\n",
              "REGULAR-CAB        1\n",
              "Name: body, dtype: int64"
            ]
          },
          "metadata": {},
          "execution_count": 938
        }
      ]
    },
    {
      "cell_type": "code",
      "source": [
        "#replace different wagon values with wagon only\n",
        "df_copy['body']=df_copy['body'].str.replace('CREW CAB','PICKUP TRUCK')\n",
        "df_copy['body']=df_copy['body'].str.replace('SUPERCAB','PICKUP TRUCK')\n",
        "df_copy['body']=df_copy['body'].str.replace('REGULAR CAB','PICKUP TRUCK')\n",
        "df_copy['body']=df_copy['body'].str.replace('EXTENDED CAB','PICKUP TRUCK')\n",
        "df_copy['body']=df_copy['body'].str.replace('QUAD CAB','PICKUP TRUCK')\n",
        "df_copy['body']=df_copy['body'].str.replace('DOUBLE CAB','PICKUP TRUCK')\n",
        "df_copy['body']=df_copy['body'].str.replace('CREWMAX CAB','PICKUP TRUCK')\n",
        "df_copy['body']=df_copy['body'].str.replace('KING CAB','PICKUP TRUCK')\n",
        "df_copy['body']=df_copy['body'].str.replace('ACCESS CAB','PICKUP TRUCK')\n",
        "df_copy['body']=df_copy['body'].str.replace('CLUB CAB','PICKUP TRUCK')\n",
        "df_copy['body']=df_copy['body'].str.replace('MEGA CAB','PICKUP TRUCK')\n",
        "df_copy['body']=df_copy['body'].str.replace('XTRACAB','PICKUP TRUCK')\n",
        "df_copy['body']=df_copy['body'].str.replace('CAB PLUS 4','PICKUP TRUCK')\n",
        "df_copy['body']=df_copy['body'].str.replace('REGULAR-CAB','PICKUP TRUCK')"
      ],
      "metadata": {
        "id": "ehBn50aog2h9"
      },
      "execution_count": null,
      "outputs": []
    },
    {
      "cell_type": "code",
      "source": [
        "#we will replace supercrew as well to be pickup truck\n",
        "df_copy['body']=df_copy['body'].str.replace('SUPERCREW','PICKUP TRUCK')"
      ],
      "metadata": {
        "id": "emCj4jAjHJXs"
      },
      "execution_count": null,
      "outputs": []
    },
    {
      "cell_type": "code",
      "source": [
        "#checking that body types are reduced to certain types like Sedan, Coupe, Convertible, Hatchback, SUV, Minivan, Wagon, and Pickup Truck (cab)\n",
        "df_copy['body'].unique()"
      ],
      "metadata": {
        "colab": {
          "base_uri": "https://localhost:8080/"
        },
        "id": "7ZDdYT1hiotN",
        "outputId": "173d4f13-8738-41a8-ded7-cdf9fafdec61"
      },
      "execution_count": null,
      "outputs": [
        {
          "output_type": "execute_result",
          "data": {
            "text/plain": [
              "array(['SEDAN', 'SUV', 'MINIVAN', 'PICKUP TRUCK', 'WAGON', 'COUPE',\n",
              "       'CONVERTIBLE', 'HATCHBACK'], dtype=object)"
            ]
          },
          "metadata": {},
          "execution_count": 941
        }
      ]
    },
    {
      "cell_type": "code",
      "source": [
        "#capitalizing body values\n",
        "df_copy['body']=df_copy['body'].str.capitalize()"
      ],
      "metadata": {
        "id": "q4cs8tqJopr7"
      },
      "execution_count": null,
      "outputs": []
    },
    {
      "cell_type": "code",
      "source": [
        "#upper case to Suv\n",
        "df_copy['body']=df_copy['body'].str.replace('Suv','SUV')"
      ],
      "metadata": {
        "id": "Rof7Eb75uAHq"
      },
      "execution_count": null,
      "outputs": []
    },
    {
      "cell_type": "markdown",
      "metadata": {
        "id": "n7Fxvryfutib"
      },
      "source": [
        "## Exploratory Data Analysis\n"
      ]
    },
    {
      "cell_type": "markdown",
      "metadata": {
        "id": "ywwtbROjutib"
      },
      "source": [
        "**Q0 (example): What is the most popular car exterior color?**\n"
      ]
    },
    {
      "cell_type": "markdown",
      "metadata": {
        "id": "ExFhkg6Vutic"
      },
      "source": [
        "**Visualization**"
      ]
    },
    {
      "cell_type": "code",
      "execution_count": null,
      "metadata": {
        "id": "P1-IGBsPutic",
        "outputId": "5f874ddf-0fe0-4ab2-b2ec-9ee48851d607",
        "colab": {
          "base_uri": "https://localhost:8080/",
          "height": 379
        }
      },
      "outputs": [
        {
          "output_type": "execute_result",
          "data": {
            "text/plain": [
              "<matplotlib.axes._subplots.AxesSubplot at 0x7f703e01ee50>"
            ]
          },
          "metadata": {},
          "execution_count": 944
        },
        {
          "output_type": "display_data",
          "data": {
            "text/plain": [
              "<Figure size 576x396 with 1 Axes>"
            ],
            "image/png": "[encoded data removed]"
          },
          "metadata": {}
        }
      ],
      "source": [
        "# Basic, minimal plot example\n",
        "sns.countplot(x='color', data=df)"
      ]
    },
    {
      "cell_type": "code",
      "execution_count": null,
      "metadata": {
        "id": "7P4CtqgEutic",
        "outputId": "ea03c58c-f3e6-416a-9863-962492e46003",
        "colab": {
          "base_uri": "https://localhost:8080/",
          "height": 405
        }
      },
      "outputs": [
        {
          "output_type": "display_data",
          "data": {
            "text/plain": [
              "<Figure size 576x396 with 1 Axes>"
            ],
            "image/png": "[encoded data removed]"
          },
          "metadata": {}
        }
      ],
      "source": [
        "# Much better plot, with sorting in descending order, rotated x-axis labels for clarity, and a plot title\n",
        "# Your visualizations should be neatly presented like the example below.\n",
        "large_to_small = df_copy.groupby('color').size().sort_values(ascending=False)\n",
        "sns.countplot(x='color', data=df_copy, order=large_to_small.index).set(title='Most popular colors sold on the used car auction market')\n",
        "plt.xticks(rotation=90)\n",
        "plt.tight_layout()"
      ]
    },
    {
      "cell_type": "markdown",
      "source": [
        "Black"
      ],
      "metadata": {
        "id": "e-KqDe-WhnIY"
      }
    },
    {
      "cell_type": "markdown",
      "metadata": {
        "id": "OZcZ7Oiqutid"
      },
      "source": [
        "**Example note:** _you need to answer using a visualization (above) and a written/text answer (below)._\n",
        "\n",
        "**Answer for Q0**: Black is the most popular exterior color of used cars sold in auctions, followed very closely by white."
      ]
    },
    {
      "cell_type": "markdown",
      "metadata": {
        "id": "LSQq_lgQutid"
      },
      "source": [
        "**Q1: What are the most popular car brands? (mention at least 3)**\n"
      ]
    },
    {
      "cell_type": "markdown",
      "metadata": {
        "id": "xECo_xa7utid"
      },
      "source": [
        "**Visualization**"
      ]
    },
    {
      "cell_type": "code",
      "execution_count": null,
      "metadata": {
        "id": "6PoKwfXTutid",
        "colab": {
          "base_uri": "https://localhost:8080/",
          "height": 405
        },
        "outputId": "da41d5a2-7aa1-4be6-aa3d-5ef66b11f192"
      },
      "outputs": [
        {
          "output_type": "display_data",
          "data": {
            "text/plain": [
              "<Figure size 576x396 with 1 Axes>"
            ],
            "image/png": "[encoded data removed]"
          },
          "metadata": {}
        }
      ],
      "source": [
        "large_to_small = df_copy.groupby('make').size().sort_values(ascending=False)\n",
        "sns.countplot(x='make', data=df_copy, order=large_to_small.index).set(title='Most popular brands sold on the used car auction market')\n",
        "plt.xticks(rotation=90)\n",
        "plt.tight_layout()"
      ]
    },
    {
      "cell_type": "markdown",
      "metadata": {
        "id": "82s4jMo9utie"
      },
      "source": [
        "**Answer for Q1**: Ford, Chevrolet and Nissan"
      ]
    },
    {
      "cell_type": "markdown",
      "metadata": {
        "id": "nT74AtzLutie"
      },
      "source": [
        "**Q2: Do automatic cars, on average, sell for a higher price than manual cars?**\n"
      ]
    },
    {
      "cell_type": "markdown",
      "metadata": {
        "id": "VJwSImqkutie"
      },
      "source": [
        "**Visualization**"
      ]
    },
    {
      "cell_type": "code",
      "execution_count": null,
      "metadata": {
        "id": "d8N0LiSLutie",
        "colab": {
          "base_uri": "https://localhost:8080/",
          "height": 379
        },
        "outputId": "d2fbc0b8-849d-4cdf-c97a-10d86dac9dcf"
      },
      "outputs": [
        {
          "output_type": "execute_result",
          "data": {
            "text/plain": [
              "<matplotlib.axes._subplots.AxesSubplot at 0x7f703cdb0c90>"
            ]
          },
          "metadata": {},
          "execution_count": 947
        },
        {
          "output_type": "display_data",
          "data": {
            "text/plain": [
              "<Figure size 576x396 with 1 Axes>"
            ],
            "image/png": "[encoded data removed]"
          },
          "metadata": {}
        }
      ],
      "source": [
        "sns.barplot(data=df_copy, x='transmission', y='sellingprice')"
      ]
    },
    {
      "cell_type": "markdown",
      "metadata": {
        "id": "e5Ofs5riutie"
      },
      "source": [
        "**Answer for Q2**: Yes, on average, automatic has a better selling price than manual"
      ]
    },
    {
      "cell_type": "markdown",
      "metadata": {
        "id": "jDimS9Axutie"
      },
      "source": [
        "**Q3: Draw a box plot showing the distribution of the selling prices of each car make. Which car makes have the widest distribution of selling price (name two)? Which are the most expensive (name two)?**\n"
      ]
    },
    {
      "cell_type": "markdown",
      "metadata": {
        "id": "632VHj3dutif"
      },
      "source": [
        "**Visualization**"
      ]
    },
    {
      "cell_type": "code",
      "source": [
        "sns.boxplot(data=df_copy, x='make',y='sellingprice')\n",
        "plt.xticks(rotation=90)\n",
        "plt.tight_layout"
      ],
      "metadata": {
        "colab": {
          "base_uri": "https://localhost:8080/",
          "height": 439
        },
        "id": "ApmfEu-LUrtR",
        "outputId": "96a64722-4ff5-4ef1-8059-4b7eb3498863"
      },
      "execution_count": null,
      "outputs": [
        {
          "output_type": "execute_result",
          "data": {
            "text/plain": [
              "<function matplotlib.pyplot.tight_layout(pad=1.08, h_pad=None, w_pad=None, rect=None)>"
            ]
          },
          "metadata": {},
          "execution_count": 948
        },
        {
          "output_type": "display_data",
          "data": {
            "text/plain": [
              "<Figure size 576x396 with 1 Axes>"
            ],
            "image/png": "[encoded data removed]"
          },
          "metadata": {}
        }
      ]
    },
    {
      "cell_type": "markdown",
      "metadata": {
        "id": "ifV2QLrwutif"
      },
      "source": [
        "**Answer for Q3**: Cars that have wider distrubition are Porsche and Maserati, while the most expensive are Bentely and Porsche"
      ]
    },
    {
      "cell_type": "markdown",
      "metadata": {
        "id": "6tv9zegeutif"
      },
      "source": [
        "**Q4: How correlated is the odometer reading or mileage with the car's sale price? (Hint: plot a line of best fit.)**"
      ]
    },
    {
      "cell_type": "markdown",
      "metadata": {
        "id": "OMUsDz28utif"
      },
      "source": [
        "**Visualization**"
      ]
    },
    {
      "cell_type": "code",
      "execution_count": null,
      "metadata": {
        "id": "BVH_Wb1cutif",
        "colab": {
          "base_uri": "https://localhost:8080/",
          "height": 585
        },
        "outputId": "1653b430-d87b-4342-e70b-a0c3fd60b60d"
      },
      "outputs": [
        {
          "output_type": "display_data",
          "data": {
            "text/plain": [
              "<Figure size 576x576 with 1 Axes>"
            ],
            "image/png": "[encoded data removed]"
          },
          "metadata": {}
        }
      ],
      "source": [
        "sns.lmplot(x='odometer', y='sellingprice', data=df_copy, palette='magma', height=8);"
      ]
    },
    {
      "cell_type": "markdown",
      "metadata": {
        "id": "qEU9D6biutig"
      },
      "source": [
        "**Answer for Q4**: Odometer is negatively correlated with selling price"
      ]
    },
    {
      "cell_type": "markdown",
      "metadata": {
        "id": "XxiobOESutih"
      },
      "source": [
        "**Q5: Likewise, how correlated is the car's condition with its sale price? (Hint: plot a line of best fit.)**"
      ]
    },
    {
      "cell_type": "markdown",
      "metadata": {
        "id": "CruJCHyxutih"
      },
      "source": [
        "**Visualization**"
      ]
    },
    {
      "cell_type": "code",
      "execution_count": null,
      "metadata": {
        "id": "wtA4nN-nutih",
        "outputId": "2edddf85-6b5e-4023-bd77-4bf22e135081",
        "colab": {
          "base_uri": "https://localhost:8080/",
          "height": 585
        }
      },
      "outputs": [
        {
          "output_type": "display_data",
          "data": {
            "text/plain": [
              "<Figure size 576x576 with 1 Axes>"
            ],
            "image/png": "[encoded data removed]"
          },
          "metadata": {}
        }
      ],
      "source": [
        "sns.lmplot(x='condition', y='sellingprice', data=df_copy, palette='magma', height=8);"
      ]
    },
    {
      "cell_type": "markdown",
      "metadata": {
        "id": "_ARfrD-sutih"
      },
      "source": [
        "**Answer for Q5**: There is a slight positive correlation between condition and the selling price"
      ]
    },
    {
      "cell_type": "markdown",
      "metadata": {
        "id": "MDllbChhutih"
      },
      "source": [
        "**Q6: Are there differences in the average car price due to the car's body type? If so, rank their order and state the most expensive and least expensive car body type.**"
      ]
    },
    {
      "cell_type": "markdown",
      "metadata": {
        "id": "aIgYut18utih"
      },
      "source": [
        "**Visualization**"
      ]
    },
    {
      "cell_type": "code",
      "execution_count": null,
      "metadata": {
        "id": "l-a98Jg_utii",
        "colab": {
          "base_uri": "https://localhost:8080/",
          "height": 379
        },
        "outputId": "8dfd79db-0942-4eed-b6bc-bd9ae5c63297"
      },
      "outputs": [
        {
          "output_type": "execute_result",
          "data": {
            "text/plain": [
              "<matplotlib.axes._subplots.AxesSubplot at 0x7f703af87950>"
            ]
          },
          "metadata": {},
          "execution_count": 951
        },
        {
          "output_type": "display_data",
          "data": {
            "text/plain": [
              "<Figure size 576x396 with 1 Axes>"
            ],
            "image/png": "[encoded data removed]"
          },
          "metadata": {}
        }
      ],
      "source": [
        "large_to_small=df_copy[['sellingprice','body']].groupby('body').mean().sort_values('sellingprice',ascending=False).index\n",
        "sns.barplot(x='body',y='sellingprice',data=df_copy,order=large_to_small)"
      ]
    },
    {
      "cell_type": "markdown",
      "metadata": {
        "id": "EFViBP-autii"
      },
      "source": [
        "**Answer for Q6**: Yes, there are differences in the average price, with Pickup Truck being the expensive, followed by Convertible, then Coupe, then SUV, then Minivan, followed by Sedan, then Hatchback, and Wagon the least expensive."
      ]
    },
    {
      "cell_type": "markdown",
      "metadata": {
        "id": "WYGoYfUxutii"
      },
      "source": [
        "## Data Preparation for Modelling\n",
        "\n",
        "_Apply any additional data preparation steps needed before modelling below. Show/output the changes to the dataset._"
      ]
    },
    {
      "cell_type": "code",
      "source": [
        "df_copy.head()"
      ],
      "metadata": {
        "colab": {
          "base_uri": "https://localhost:8080/",
          "height": 206
        },
        "id": "AXhDxA6dse0Y",
        "outputId": "62557daa-cd8a-4759-dfd4-a2b59af67e4a"
      },
      "execution_count": null,
      "outputs": [
        {
          "output_type": "execute_result",
          "data": {
            "text/plain": [
              "   year     make         model   trim     body transmission state  condition  \\\n",
              "0  2013  Hyundai        Sonata    GLS    Sedan    automatic    ma        3.9   \n",
              "1  2014   Toyota       4Runner    SR5      SUV    automatic    fl        4.9   \n",
              "2  2012    Lexus        IS 250   Base    Sedan    automatic    fl        4.1   \n",
              "3  2002      BMW            X5   4.4i      SUV    automatic    fl        1.9   \n",
              "4  2014     Ford  E-Series Van  E-250  Minivan    automatic    wa        4.9   \n",
              "\n",
              "   odometer   color interior                            seller    mmr  \\\n",
              "0   50404.0   black     gray             the hertz corporation  11000   \n",
              "1   17846.0    gray  missing  award auto sales and leasing inc  28700   \n",
              "2   21122.0  silver    black          lexus financial services  22200   \n",
              "3  145303.0   black    black                        peddle llc   3675   \n",
              "4    6714.0   white     gray                            u-haul  22500   \n",
              "\n",
              "   sellingprice                                 saledate  \n",
              "0         10900  Tue Jun 02 2015 02:30:00 GMT-0700 (PDT)  \n",
              "1         29900  Wed Feb 18 2015 07:15:00 GMT-0800 (PST)  \n",
              "2         24200  Tue Jan 20 2015 01:30:00 GMT-0800 (PST)  \n",
              "3          3200  Wed Mar 04 2015 07:10:00 GMT-0800 (PST)  \n",
              "4         22100  Wed Feb 18 2015 06:45:00 GMT-0800 (PST)  "
            ],
            "text/html": [
              "\n",
              "  <div id=\"df-3e429fc2-e15d-4850-9679-db5b8d04750c\">\n",
              "    <div class=\"colab-df-container\">\n",
              "      <div>\n",
              "<style scoped>\n",
              "    .dataframe tbody tr th:only-of-type {\n",
              "        vertical-align: middle;\n",
              "    }\n",
              "\n",
              "    .dataframe tbody tr th {\n",
              "        vertical-align: top;\n",
              "    }\n",
              "\n",
              "    .dataframe thead th {\n",
              "        text-align: right;\n",
              "    }\n",
              "</style>\n",
              "<table border=\"1\" class=\"dataframe\">\n",
              "  <thead>\n",
              "    <tr style=\"text-align: right;\">\n",
              "      <th></th>\n",
              "      <th>year</th>\n",
              "      <th>make</th>\n",
              "      <th>model</th>\n",
              "      <th>trim</th>\n",
              "      <th>body</th>\n",
              "      <th>transmission</th>\n",
              "      <th>state</th>\n",
              "      <th>condition</th>\n",
              "      <th>odometer</th>\n",
              "      <th>color</th>\n",
              "      <th>interior</th>\n",
              "      <th>seller</th>\n",
              "      <th>mmr</th>\n",
              "      <th>sellingprice</th>\n",
              "      <th>saledate</th>\n",
              "    </tr>\n",
              "  </thead>\n",
              "  <tbody>\n",
              "    <tr>\n",
              "      <th>0</th>\n",
              "      <td>2013</td>\n",
              "      <td>Hyundai</td>\n",
              "      <td>Sonata</td>\n",
              "      <td>GLS</td>\n",
              "      <td>Sedan</td>\n",
              "      <td>automatic</td>\n",
              "      <td>ma</td>\n",
              "      <td>3.9</td>\n",
              "      <td>50404.0</td>\n",
              "      <td>black</td>\n",
              "      <td>gray</td>\n",
              "      <td>the hertz corporation</td>\n",
              "      <td>11000</td>\n",
              "      <td>10900</td>\n",
              "      <td>Tue Jun 02 2015 02:30:00 GMT-0700 (PDT)</td>\n",
              "    </tr>\n",
              "    <tr>\n",
              "      <th>1</th>\n",
              "      <td>2014</td>\n",
              "      <td>Toyota</td>\n",
              "      <td>4Runner</td>\n",
              "      <td>SR5</td>\n",
              "      <td>SUV</td>\n",
              "      <td>automatic</td>\n",
              "      <td>fl</td>\n",
              "      <td>4.9</td>\n",
              "      <td>17846.0</td>\n",
              "      <td>gray</td>\n",
              "      <td>missing</td>\n",
              "      <td>award auto sales and leasing inc</td>\n",
              "      <td>28700</td>\n",
              "      <td>29900</td>\n",
              "      <td>Wed Feb 18 2015 07:15:00 GMT-0800 (PST)</td>\n",
              "    </tr>\n",
              "    <tr>\n",
              "      <th>2</th>\n",
              "      <td>2012</td>\n",
              "      <td>Lexus</td>\n",
              "      <td>IS 250</td>\n",
              "      <td>Base</td>\n",
              "      <td>Sedan</td>\n",
              "      <td>automatic</td>\n",
              "      <td>fl</td>\n",
              "      <td>4.1</td>\n",
              "      <td>21122.0</td>\n",
              "      <td>silver</td>\n",
              "      <td>black</td>\n",
              "      <td>lexus financial services</td>\n",
              "      <td>22200</td>\n",
              "      <td>24200</td>\n",
              "      <td>Tue Jan 20 2015 01:30:00 GMT-0800 (PST)</td>\n",
              "    </tr>\n",
              "    <tr>\n",
              "      <th>3</th>\n",
              "      <td>2002</td>\n",
              "      <td>BMW</td>\n",
              "      <td>X5</td>\n",
              "      <td>4.4i</td>\n",
              "      <td>SUV</td>\n",
              "      <td>automatic</td>\n",
              "      <td>fl</td>\n",
              "      <td>1.9</td>\n",
              "      <td>145303.0</td>\n",
              "      <td>black</td>\n",
              "      <td>black</td>\n",
              "      <td>peddle llc</td>\n",
              "      <td>3675</td>\n",
              "      <td>3200</td>\n",
              "      <td>Wed Mar 04 2015 07:10:00 GMT-0800 (PST)</td>\n",
              "    </tr>\n",
              "    <tr>\n",
              "      <th>4</th>\n",
              "      <td>2014</td>\n",
              "      <td>Ford</td>\n",
              "      <td>E-Series Van</td>\n",
              "      <td>E-250</td>\n",
              "      <td>Minivan</td>\n",
              "      <td>automatic</td>\n",
              "      <td>wa</td>\n",
              "      <td>4.9</td>\n",
              "      <td>6714.0</td>\n",
              "      <td>white</td>\n",
              "      <td>gray</td>\n",
              "      <td>u-haul</td>\n",
              "      <td>22500</td>\n",
              "      <td>22100</td>\n",
              "      <td>Wed Feb 18 2015 06:45:00 GMT-0800 (PST)</td>\n",
              "    </tr>\n",
              "  </tbody>\n",
              "</table>\n",
              "</div>\n",
              "      <button class=\"colab-df-convert\" onclick=\"convertToInteractive('df-3e429fc2-e15d-4850-9679-db5b8d04750c')\"\n",
              "              title=\"Convert this dataframe to an interactive table.\"\n",
              "              style=\"display:none;\">\n",
              "        \n",
              "  <svg xmlns=\"http://www.w3.org/2000/svg\" height=\"24px\"viewBox=\"0 0 24 24\"\n",
              "       width=\"24px\">\n",
              "    <path d=\"M0 0h24v24H0V0z\" fill=\"none\"/>\n",
              "    <path d=\"M18.56 5.44l.94 2.06.94-2.06 2.06-.94-2.06-.94-.94-2.06-.94 2.06-2.06.94zm-11 1L8.5 8.5l.94-2.06 2.06-.94-2.06-.94L8.5 2.5l-.94 2.06-2.06.94zm10 10l.94 2.06.94-2.06 2.06-.94-2.06-.94-.94-2.06-.94 2.06-2.06.94z\"/><path d=\"M17.41 7.96l-1.37-1.37c-.4-.4-.92-.59-1.43-.59-.52 0-1.04.2-1.43.59L10.3 9.45l-7.72 7.72c-.78.78-.78 2.05 0 2.83L4 21.41c.39.39.9.59 1.41.59.51 0 1.02-.2 1.41-.59l7.78-7.78 2.81-2.81c.8-.78.8-2.07 0-2.86zM5.41 20L4 18.59l7.72-7.72 1.47 1.35L5.41 20z\"/>\n",
              "  </svg>\n",
              "      </button>\n",
              "      \n",
              "  <style>\n",
              "    .colab-df-container {\n",
              "      display:flex;\n",
              "      flex-wrap:wrap;\n",
              "      gap: 12px;\n",
              "    }\n",
              "\n",
              "    .colab-df-convert {\n",
              "      background-color: #E8F0FE;\n",
              "      border: none;\n",
              "      border-radius: 50%;\n",
              "      cursor: pointer;\n",
              "      display: none;\n",
              "      fill: #1967D2;\n",
              "      height: 32px;\n",
              "      padding: 0 0 0 0;\n",
              "      width: 32px;\n",
              "    }\n",
              "\n",
              "    .colab-df-convert:hover {\n",
              "      background-color: #E2EBFA;\n",
              "      box-shadow: 0px 1px 2px rgba(60, 64, 67, 0.3), 0px 1px 3px 1px rgba(60, 64, 67, 0.15);\n",
              "      fill: #174EA6;\n",
              "    }\n",
              "\n",
              "    [theme=dark] .colab-df-convert {\n",
              "      background-color: #3B4455;\n",
              "      fill: #D2E3FC;\n",
              "    }\n",
              "\n",
              "    [theme=dark] .colab-df-convert:hover {\n",
              "      background-color: #434B5C;\n",
              "      box-shadow: 0px 1px 3px 1px rgba(0, 0, 0, 0.15);\n",
              "      filter: drop-shadow(0px 1px 2px rgba(0, 0, 0, 0.3));\n",
              "      fill: #FFFFFF;\n",
              "    }\n",
              "  </style>\n",
              "\n",
              "      <script>\n",
              "        const buttonEl =\n",
              "          document.querySelector('#df-3e429fc2-e15d-4850-9679-db5b8d04750c button.colab-df-convert');\n",
              "        buttonEl.style.display =\n",
              "          google.colab.kernel.accessAllowed ? 'block' : 'none';\n",
              "\n",
              "        async function convertToInteractive(key) {\n",
              "          const element = document.querySelector('#df-3e429fc2-e15d-4850-9679-db5b8d04750c');\n",
              "          const dataTable =\n",
              "            await google.colab.kernel.invokeFunction('convertToInteractive',\n",
              "                                                     [key], {});\n",
              "          if (!dataTable) return;\n",
              "\n",
              "          const docLinkHtml = 'Like what you see? Visit the ' +\n",
              "            '<a target=\"_blank\" href=https://colab.research.google.com/notebooks/data_table.ipynb>data table notebook</a>'\n",
              "            + ' to learn more about interactive tables.';\n",
              "          element.innerHTML = '';\n",
              "          dataTable['output_type'] = 'display_data';\n",
              "          await google.colab.output.renderOutput(dataTable, element);\n",
              "          const docLink = document.createElement('div');\n",
              "          docLink.innerHTML = docLinkHtml;\n",
              "          element.appendChild(docLink);\n",
              "        }\n",
              "      </script>\n",
              "    </div>\n",
              "  </div>\n",
              "  "
            ]
          },
          "metadata": {},
          "execution_count": 952
        }
      ]
    },
    {
      "cell_type": "code",
      "source": [
        "y=df_copy.corr()\n",
        "y['sellingprice'].sort_values(ascending=False, key=lambda x: x.abs())"
      ],
      "metadata": {
        "id": "VuIRumA4EWd7",
        "outputId": "555ee23a-ce82-4d3e-8908-20a46a86ff22",
        "colab": {
          "base_uri": "https://localhost:8080/"
        }
      },
      "execution_count": null,
      "outputs": [
        {
          "output_type": "execute_result",
          "data": {
            "text/plain": [
              "sellingprice    1.000000\n",
              "mmr             0.979783\n",
              "year            0.581164\n",
              "odometer       -0.580900\n",
              "condition       0.529141\n",
              "Name: sellingprice, dtype: float64"
            ]
          },
          "metadata": {},
          "execution_count": 953
        }
      ]
    },
    {
      "cell_type": "code",
      "source": [
        "#dropping saledate, seller, mmr, state\n",
        "df_copy=df_copy.drop(['saledate','mmr','color','seller','state','trim','model'], axis=1)"
      ],
      "metadata": {
        "id": "MqdfWiv2stCz"
      },
      "execution_count": null,
      "outputs": []
    },
    {
      "cell_type": "code",
      "source": [
        "x=df_copy.corr()\n",
        "x['sellingprice'].sort_values(ascending=False, key=lambda x: x.abs())"
      ],
      "metadata": {
        "id": "-isOI_-A6cGn",
        "outputId": "b434d5c7-8b40-4783-8dbc-7ff938456078",
        "colab": {
          "base_uri": "https://localhost:8080/"
        }
      },
      "execution_count": null,
      "outputs": [
        {
          "output_type": "execute_result",
          "data": {
            "text/plain": [
              "sellingprice    1.000000\n",
              "year            0.581164\n",
              "odometer       -0.580900\n",
              "condition       0.529141\n",
              "Name: sellingprice, dtype: float64"
            ]
          },
          "metadata": {},
          "execution_count": 955
        }
      ]
    },
    {
      "cell_type": "markdown",
      "source": [
        "We will remove saledate as based on domain knowledge, the date of selling will not affect the selling price, moreover, we will remove mmr as it had high correlation with selling price which will affect the model, moreover, we removed vin as the vehicle identification number will not affect the selling price as it is an identification for the car. In addition we remove the color as it is not one of the main factors that customers look for when buying a car, but rather they focus on performance. The seller was removed as due to domain knowledge, it can be a car agency or a wholesaler that sells cars and this does not contribute to car prices. The state was removed as it does not contribute to the performance of the car and will not be a good determinant of the car's selling price. Finally, the model was removed as models are subjective and based on people's prefences therefore, it would not be a good indicator of the car's selling price."
      ],
      "metadata": {
        "id": "g6TeXg5247XS"
      }
    },
    {
      "cell_type": "markdown",
      "source": [
        "We have kept the make, transmission, body and interior columns.\n",
        "\n",
        "**Transmission manual**\n",
        "\n",
        "This feature is about transmitting engine power to the wheels, which enables your car to move. It is crucial to be aware of the transmission manual as it is responsible for ensuring that the right amount of power is transmitted to the wheels so that it can run at a certain pace.\n",
        "\n",
        "**Year** \n",
        "\n",
        "We chose the attribute year because it's necessary to know the year a car was made in order to compare its features and standards to the current date, and knowing how long this car had the certain features and standars. \n",
        "\n",
        "**Body** \n",
        "\n",
        "The body is regarded as the most essential component in terms of functionality.Since it has a significant impact on the car's pricing, it is crucial to take it into account. This is as shape of the body of the car ultimately determines what you can accomplish with it. As a result, it may be the most crucial component in terms of utility.\n",
        "\n",
        "**Odometer**\n",
        "\n",
        "We decided to keep it because the odometer is the first thing you look at when purchasing a used car. A car with a high mileage will undoubtedly be in worse shape than one with a lesser mileage. The number of kilometers on the odometer has a substantial impact on how much a car is valued on the secondhand market. A car that loses value due to high mileage will most probably also lose value as it ages and experiences normal wear and tear.\n",
        "\n",
        "**Condition**\n",
        "\n",
        "We also choose to keep the condition because a vehicle's overall condition can significantly affect its pricing depending on whether there is obvious or significant damage to the interior (such as a board, seat, or covering) or exterior (such as a crash or shoddy paint job). As a result, it was clear that the price of the car would be impacted by its condition.\n",
        "\n",
        "**Interior** \n",
        "\n",
        "Features of the car's interior include the steering wheel, seats, carpets, radios, and air vents, which they all tend to contribute to the comfort and safety of the driver and the passengers and leads to happy customer, which is why we chose to keep the interior of the car."
      ],
      "metadata": {
        "id": "WWK-tLoM-rKS"
      }
    },
    {
      "cell_type": "code",
      "source": [
        "#will do one-hot encoding for the remaining undropped columns as it is better and will not result in ranking as in label encoding, thus, not affecting the model\n",
        "categorical_columns = ['make','transmission','body','interior']\n",
        "df_copy = pd.get_dummies(data=df_copy,\n",
        "                           columns=categorical_columns,\n",
        "                           drop_first=True,\n",
        "                           dtype='int8')\n",
        "\n",
        "# Let's have a look at the difference in data before/after encoding\n",
        "print('Columns in original data frame:\\n',df.columns.values)\n",
        "print('\\nNumber of rows and columns in the dataset:',df.shape)\n",
        "print('\\nColumns in data frame after encoding dummy variable:\\n',df_copy.columns.values)\n",
        "print('\\nNumber of rows and columns in the dataset:',df_copy.shape)"
      ],
      "metadata": {
        "id": "2XnPPelwRRY1",
        "colab": {
          "base_uri": "https://localhost:8080/"
        },
        "outputId": "8888d0a0-7c12-43aa-c435-8707a5c8f3b6"
      },
      "execution_count": null,
      "outputs": [
        {
          "output_type": "stream",
          "name": "stdout",
          "text": [
            "Columns in original data frame:\n",
            " ['year' 'make' 'model' 'trim' 'body' 'transmission' 'vin' 'state'\n",
            " 'condition' 'odometer' 'color' 'interior' 'seller' 'mmr' 'sellingprice'\n",
            " 'saledate']\n",
            "\n",
            "Number of rows and columns in the dataset: (46578, 16)\n",
            "\n",
            "Columns in data frame after encoding dummy variable:\n",
            " ['year' 'condition' 'odometer' 'sellingprice' 'make_Aston Martin'\n",
            " 'make_Audi' 'make_BMW' 'make_Bentley' 'make_Buick' 'make_Cadillac'\n",
            " 'make_Chevrolet' 'make_Chrysler' 'make_Dodge' 'make_FIAT' 'make_Ferrari'\n",
            " 'make_Fisker' 'make_Ford' 'make_GMC' 'make_Geo' 'make_HUMMER'\n",
            " 'make_Honda' 'make_Hyundai' 'make_Infiniti' 'make_Isuzu' 'make_Jaguar'\n",
            " 'make_Jeep' 'make_Kia' 'make_Land Rover' 'make_Lexus' 'make_Lincoln'\n",
            " 'make_MINI' 'make_Maserati' 'make_Mazda' 'make_Mercedes-Benz'\n",
            " 'make_Mercury' 'make_Mitsubishi' 'make_Nissan' 'make_Oldsmobile'\n",
            " 'make_Plymouth' 'make_Pontiac' 'make_Porsche' 'make_Ram' 'make_Saab'\n",
            " 'make_Saturn' 'make_Scion' 'make_Subaru' 'make_Suzuki' 'make_Toyota'\n",
            " 'make_Volkswagen' 'make_Volvo' 'make_smart' 'transmission_manual'\n",
            " 'body_Coupe' 'body_Hatchback' 'body_Minivan' 'body_Pickup truck'\n",
            " 'body_SUV' 'body_Sedan' 'body_Wagon' 'interior_black' 'interior_blue'\n",
            " 'interior_brown' 'interior_burgundy' 'interior_gold' 'interior_gray'\n",
            " 'interior_green' 'interior_missing' 'interior_off-white'\n",
            " 'interior_orange' 'interior_purple' 'interior_red' 'interior_silver'\n",
            " 'interior_tan' 'interior_white' 'interior_yellow']\n",
            "\n",
            "Number of rows and columns in the dataset: (46578, 75)\n"
          ]
        }
      ]
    },
    {
      "cell_type": "code",
      "source": [
        "df_copy.head()"
      ],
      "metadata": {
        "colab": {
          "base_uri": "https://localhost:8080/",
          "height": 317
        },
        "id": "k2SdQ9Wqz-_P",
        "outputId": "388e2f9e-fe23-4194-f928-4484ab2477e1"
      },
      "execution_count": null,
      "outputs": [
        {
          "output_type": "execute_result",
          "data": {
            "text/plain": [
              "   year  condition  odometer  sellingprice  make_Aston Martin  make_Audi  \\\n",
              "0  2013        3.9   50404.0         10900                  0          0   \n",
              "1  2014        4.9   17846.0         29900                  0          0   \n",
              "2  2012        4.1   21122.0         24200                  0          0   \n",
              "3  2002        1.9  145303.0          3200                  0          0   \n",
              "4  2014        4.9    6714.0         22100                  0          0   \n",
              "\n",
              "   make_BMW  make_Bentley  make_Buick  make_Cadillac  ...  interior_green  \\\n",
              "0         0             0           0              0  ...               0   \n",
              "1         0             0           0              0  ...               0   \n",
              "2         0             0           0              0  ...               0   \n",
              "3         1             0           0              0  ...               0   \n",
              "4         0             0           0              0  ...               0   \n",
              "\n",
              "   interior_missing  interior_off-white  interior_orange  interior_purple  \\\n",
              "0                 0                   0                0                0   \n",
              "1                 1                   0                0                0   \n",
              "2                 0                   0                0                0   \n",
              "3                 0                   0                0                0   \n",
              "4                 0                   0                0                0   \n",
              "\n",
              "   interior_red  interior_silver  interior_tan  interior_white  \\\n",
              "0             0                0             0               0   \n",
              "1             0                0             0               0   \n",
              "2             0                0             0               0   \n",
              "3             0                0             0               0   \n",
              "4             0                0             0               0   \n",
              "\n",
              "   interior_yellow  \n",
              "0                0  \n",
              "1                0  \n",
              "2                0  \n",
              "3                0  \n",
              "4                0  \n",
              "\n",
              "[5 rows x 75 columns]"
            ],
            "text/html": [
              "\n",
              "  <div id=\"df-5fa95933-c658-4a03-a196-c3362da54eac\">\n",
              "    <div class=\"colab-df-container\">\n",
              "      <div>\n",
              "<style scoped>\n",
              "    .dataframe tbody tr th:only-of-type {\n",
              "        vertical-align: middle;\n",
              "    }\n",
              "\n",
              "    .dataframe tbody tr th {\n",
              "        vertical-align: top;\n",
              "    }\n",
              "\n",
              "    .dataframe thead th {\n",
              "        text-align: right;\n",
              "    }\n",
              "</style>\n",
              "<table border=\"1\" class=\"dataframe\">\n",
              "  <thead>\n",
              "    <tr style=\"text-align: right;\">\n",
              "      <th></th>\n",
              "      <th>year</th>\n",
              "      <th>condition</th>\n",
              "      <th>odometer</th>\n",
              "      <th>sellingprice</th>\n",
              "      <th>make_Aston Martin</th>\n",
              "      <th>make_Audi</th>\n",
              "      <th>make_BMW</th>\n",
              "      <th>make_Bentley</th>\n",
              "      <th>make_Buick</th>\n",
              "      <th>make_Cadillac</th>\n",
              "      <th>...</th>\n",
              "      <th>interior_green</th>\n",
              "      <th>interior_missing</th>\n",
              "      <th>interior_off-white</th>\n",
              "      <th>interior_orange</th>\n",
              "      <th>interior_purple</th>\n",
              "      <th>interior_red</th>\n",
              "      <th>interior_silver</th>\n",
              "      <th>interior_tan</th>\n",
              "      <th>interior_white</th>\n",
              "      <th>interior_yellow</th>\n",
              "    </tr>\n",
              "  </thead>\n",
              "  <tbody>\n",
              "    <tr>\n",
              "      <th>0</th>\n",
              "      <td>2013</td>\n",
              "      <td>3.9</td>\n",
              "      <td>50404.0</td>\n",
              "      <td>10900</td>\n",
              "      <td>0</td>\n",
              "      <td>0</td>\n",
              "      <td>0</td>\n",
              "      <td>0</td>\n",
              "      <td>0</td>\n",
              "      <td>0</td>\n",
              "      <td>...</td>\n",
              "      <td>0</td>\n",
              "      <td>0</td>\n",
              "      <td>0</td>\n",
              "      <td>0</td>\n",
              "      <td>0</td>\n",
              "      <td>0</td>\n",
              "      <td>0</td>\n",
              "      <td>0</td>\n",
              "      <td>0</td>\n",
              "      <td>0</td>\n",
              "    </tr>\n",
              "    <tr>\n",
              "      <th>1</th>\n",
              "      <td>2014</td>\n",
              "      <td>4.9</td>\n",
              "      <td>17846.0</td>\n",
              "      <td>29900</td>\n",
              "      <td>0</td>\n",
              "      <td>0</td>\n",
              "      <td>0</td>\n",
              "      <td>0</td>\n",
              "      <td>0</td>\n",
              "      <td>0</td>\n",
              "      <td>...</td>\n",
              "      <td>0</td>\n",
              "      <td>1</td>\n",
              "      <td>0</td>\n",
              "      <td>0</td>\n",
              "      <td>0</td>\n",
              "      <td>0</td>\n",
              "      <td>0</td>\n",
              "      <td>0</td>\n",
              "      <td>0</td>\n",
              "      <td>0</td>\n",
              "    </tr>\n",
              "    <tr>\n",
              "      <th>2</th>\n",
              "      <td>2012</td>\n",
              "      <td>4.1</td>\n",
              "      <td>21122.0</td>\n",
              "      <td>24200</td>\n",
              "      <td>0</td>\n",
              "      <td>0</td>\n",
              "      <td>0</td>\n",
              "      <td>0</td>\n",
              "      <td>0</td>\n",
              "      <td>0</td>\n",
              "      <td>...</td>\n",
              "      <td>0</td>\n",
              "      <td>0</td>\n",
              "      <td>0</td>\n",
              "      <td>0</td>\n",
              "      <td>0</td>\n",
              "      <td>0</td>\n",
              "      <td>0</td>\n",
              "      <td>0</td>\n",
              "      <td>0</td>\n",
              "      <td>0</td>\n",
              "    </tr>\n",
              "    <tr>\n",
              "      <th>3</th>\n",
              "      <td>2002</td>\n",
              "      <td>1.9</td>\n",
              "      <td>145303.0</td>\n",
              "      <td>3200</td>\n",
              "      <td>0</td>\n",
              "      <td>0</td>\n",
              "      <td>1</td>\n",
              "      <td>0</td>\n",
              "      <td>0</td>\n",
              "      <td>0</td>\n",
              "      <td>...</td>\n",
              "      <td>0</td>\n",
              "      <td>0</td>\n",
              "      <td>0</td>\n",
              "      <td>0</td>\n",
              "      <td>0</td>\n",
              "      <td>0</td>\n",
              "      <td>0</td>\n",
              "      <td>0</td>\n",
              "      <td>0</td>\n",
              "      <td>0</td>\n",
              "    </tr>\n",
              "    <tr>\n",
              "      <th>4</th>\n",
              "      <td>2014</td>\n",
              "      <td>4.9</td>\n",
              "      <td>6714.0</td>\n",
              "      <td>22100</td>\n",
              "      <td>0</td>\n",
              "      <td>0</td>\n",
              "      <td>0</td>\n",
              "      <td>0</td>\n",
              "      <td>0</td>\n",
              "      <td>0</td>\n",
              "      <td>...</td>\n",
              "      <td>0</td>\n",
              "      <td>0</td>\n",
              "      <td>0</td>\n",
              "      <td>0</td>\n",
              "      <td>0</td>\n",
              "      <td>0</td>\n",
              "      <td>0</td>\n",
              "      <td>0</td>\n",
              "      <td>0</td>\n",
              "      <td>0</td>\n",
              "    </tr>\n",
              "  </tbody>\n",
              "</table>\n",
              "<p>5 rows × 75 columns</p>\n",
              "</div>\n",
              "      <button class=\"colab-df-convert\" onclick=\"convertToInteractive('df-5fa95933-c658-4a03-a196-c3362da54eac')\"\n",
              "              title=\"Convert this dataframe to an interactive table.\"\n",
              "              style=\"display:none;\">\n",
              "        \n",
              "  <svg xmlns=\"http://www.w3.org/2000/svg\" height=\"24px\"viewBox=\"0 0 24 24\"\n",
              "       width=\"24px\">\n",
              "    <path d=\"M0 0h24v24H0V0z\" fill=\"none\"/>\n",
              "    <path d=\"M18.56 5.44l.94 2.06.94-2.06 2.06-.94-2.06-.94-.94-2.06-.94 2.06-2.06.94zm-11 1L8.5 8.5l.94-2.06 2.06-.94-2.06-.94L8.5 2.5l-.94 2.06-2.06.94zm10 10l.94 2.06.94-2.06 2.06-.94-2.06-.94-.94-2.06-.94 2.06-2.06.94z\"/><path d=\"M17.41 7.96l-1.37-1.37c-.4-.4-.92-.59-1.43-.59-.52 0-1.04.2-1.43.59L10.3 9.45l-7.72 7.72c-.78.78-.78 2.05 0 2.83L4 21.41c.39.39.9.59 1.41.59.51 0 1.02-.2 1.41-.59l7.78-7.78 2.81-2.81c.8-.78.8-2.07 0-2.86zM5.41 20L4 18.59l7.72-7.72 1.47 1.35L5.41 20z\"/>\n",
              "  </svg>\n",
              "      </button>\n",
              "      \n",
              "  <style>\n",
              "    .colab-df-container {\n",
              "      display:flex;\n",
              "      flex-wrap:wrap;\n",
              "      gap: 12px;\n",
              "    }\n",
              "\n",
              "    .colab-df-convert {\n",
              "      background-color: #E8F0FE;\n",
              "      border: none;\n",
              "      border-radius: 50%;\n",
              "      cursor: pointer;\n",
              "      display: none;\n",
              "      fill: #1967D2;\n",
              "      height: 32px;\n",
              "      padding: 0 0 0 0;\n",
              "      width: 32px;\n",
              "    }\n",
              "\n",
              "    .colab-df-convert:hover {\n",
              "      background-color: #E2EBFA;\n",
              "      box-shadow: 0px 1px 2px rgba(60, 64, 67, 0.3), 0px 1px 3px 1px rgba(60, 64, 67, 0.15);\n",
              "      fill: #174EA6;\n",
              "    }\n",
              "\n",
              "    [theme=dark] .colab-df-convert {\n",
              "      background-color: #3B4455;\n",
              "      fill: #D2E3FC;\n",
              "    }\n",
              "\n",
              "    [theme=dark] .colab-df-convert:hover {\n",
              "      background-color: #434B5C;\n",
              "      box-shadow: 0px 1px 3px 1px rgba(0, 0, 0, 0.15);\n",
              "      filter: drop-shadow(0px 1px 2px rgba(0, 0, 0, 0.3));\n",
              "      fill: #FFFFFF;\n",
              "    }\n",
              "  </style>\n",
              "\n",
              "      <script>\n",
              "        const buttonEl =\n",
              "          document.querySelector('#df-5fa95933-c658-4a03-a196-c3362da54eac button.colab-df-convert');\n",
              "        buttonEl.style.display =\n",
              "          google.colab.kernel.accessAllowed ? 'block' : 'none';\n",
              "\n",
              "        async function convertToInteractive(key) {\n",
              "          const element = document.querySelector('#df-5fa95933-c658-4a03-a196-c3362da54eac');\n",
              "          const dataTable =\n",
              "            await google.colab.kernel.invokeFunction('convertToInteractive',\n",
              "                                                     [key], {});\n",
              "          if (!dataTable) return;\n",
              "\n",
              "          const docLinkHtml = 'Like what you see? Visit the ' +\n",
              "            '<a target=\"_blank\" href=https://colab.research.google.com/notebooks/data_table.ipynb>data table notebook</a>'\n",
              "            + ' to learn more about interactive tables.';\n",
              "          element.innerHTML = '';\n",
              "          dataTable['output_type'] = 'display_data';\n",
              "          await google.colab.output.renderOutput(dataTable, element);\n",
              "          const docLink = document.createElement('div');\n",
              "          docLink.innerHTML = docLinkHtml;\n",
              "          element.appendChild(docLink);\n",
              "        }\n",
              "      </script>\n",
              "    </div>\n",
              "  </div>\n",
              "  "
            ]
          },
          "metadata": {},
          "execution_count": 957
        }
      ]
    },
    {
      "cell_type": "markdown",
      "metadata": {
        "id": "NoXC0__putii"
      },
      "source": [
        "## Modelling\n",
        "\n",
        "_Apply the linear regression model below._"
      ]
    },
    {
      "cell_type": "code",
      "source": [
        "#changing the df_copy to df\n",
        "df=df_copy"
      ],
      "metadata": {
        "id": "LCKxjysIhl44"
      },
      "execution_count": null,
      "outputs": []
    },
    {
      "cell_type": "markdown",
      "source": [
        "Train-test split"
      ],
      "metadata": {
        "id": "g7XImeq-bcR6"
      }
    },
    {
      "cell_type": "code",
      "execution_count": null,
      "metadata": {
        "id": "UXSWUOd6utii",
        "colab": {
          "base_uri": "https://localhost:8080/"
        },
        "outputId": "8cee252c-118b-43c1-98bc-c27423472d65"
      },
      "outputs": [
        {
          "output_type": "stream",
          "name": "stdout",
          "text": [
            "Training dataset size: 37262\n",
            "Testing dataset size: 9316\n"
          ]
        }
      ],
      "source": [
        "from sklearn.model_selection import train_test_split\n",
        "\n",
        "x = df.drop('sellingprice',axis=1) # Independent variable\n",
        "y = df['sellingprice'] # Dependent variable\n",
        "\n",
        "x_train, x_test, y_train, y_test = train_test_split(x,y,test_size=0.2,random_state=23)\n",
        "\n",
        "print('Training dataset size:', x_train.shape[0])\n",
        "print('Testing dataset size:', x_test.shape[0])"
      ]
    },
    {
      "cell_type": "code",
      "source": [
        "from sklearn.linear_model import LinearRegression\n",
        "lin_reg = LinearRegression()\n",
        "lin_reg.fit(x_train, y_train);"
      ],
      "metadata": {
        "id": "T1IaetB4fYeY"
      },
      "execution_count": null,
      "outputs": []
    },
    {
      "cell_type": "code",
      "source": [
        "df.head()"
      ],
      "metadata": {
        "colab": {
          "base_uri": "https://localhost:8080/",
          "height": 317
        },
        "id": "kqWkV7TVitnJ",
        "outputId": "c08009fe-12d3-47d5-dce9-3cc376ba877e"
      },
      "execution_count": null,
      "outputs": [
        {
          "output_type": "execute_result",
          "data": {
            "text/plain": [
              "   year  condition  odometer  sellingprice  make_Aston Martin  make_Audi  \\\n",
              "0  2013        3.9   50404.0         10900                  0          0   \n",
              "1  2014        4.9   17846.0         29900                  0          0   \n",
              "2  2012        4.1   21122.0         24200                  0          0   \n",
              "3  2002        1.9  145303.0          3200                  0          0   \n",
              "4  2014        4.9    6714.0         22100                  0          0   \n",
              "\n",
              "   make_BMW  make_Bentley  make_Buick  make_Cadillac  ...  interior_green  \\\n",
              "0         0             0           0              0  ...               0   \n",
              "1         0             0           0              0  ...               0   \n",
              "2         0             0           0              0  ...               0   \n",
              "3         1             0           0              0  ...               0   \n",
              "4         0             0           0              0  ...               0   \n",
              "\n",
              "   interior_missing  interior_off-white  interior_orange  interior_purple  \\\n",
              "0                 0                   0                0                0   \n",
              "1                 1                   0                0                0   \n",
              "2                 0                   0                0                0   \n",
              "3                 0                   0                0                0   \n",
              "4                 0                   0                0                0   \n",
              "\n",
              "   interior_red  interior_silver  interior_tan  interior_white  \\\n",
              "0             0                0             0               0   \n",
              "1             0                0             0               0   \n",
              "2             0                0             0               0   \n",
              "3             0                0             0               0   \n",
              "4             0                0             0               0   \n",
              "\n",
              "   interior_yellow  \n",
              "0                0  \n",
              "1                0  \n",
              "2                0  \n",
              "3                0  \n",
              "4                0  \n",
              "\n",
              "[5 rows x 75 columns]"
            ],
            "text/html": [
              "\n",
              "  <div id=\"df-1462664a-c26d-4131-bd53-ee6f04c5f8dd\">\n",
              "    <div class=\"colab-df-container\">\n",
              "      <div>\n",
              "<style scoped>\n",
              "    .dataframe tbody tr th:only-of-type {\n",
              "        vertical-align: middle;\n",
              "    }\n",
              "\n",
              "    .dataframe tbody tr th {\n",
              "        vertical-align: top;\n",
              "    }\n",
              "\n",
              "    .dataframe thead th {\n",
              "        text-align: right;\n",
              "    }\n",
              "</style>\n",
              "<table border=\"1\" class=\"dataframe\">\n",
              "  <thead>\n",
              "    <tr style=\"text-align: right;\">\n",
              "      <th></th>\n",
              "      <th>year</th>\n",
              "      <th>condition</th>\n",
              "      <th>odometer</th>\n",
              "      <th>sellingprice</th>\n",
              "      <th>make_Aston Martin</th>\n",
              "      <th>make_Audi</th>\n",
              "      <th>make_BMW</th>\n",
              "      <th>make_Bentley</th>\n",
              "      <th>make_Buick</th>\n",
              "      <th>make_Cadillac</th>\n",
              "      <th>...</th>\n",
              "      <th>interior_green</th>\n",
              "      <th>interior_missing</th>\n",
              "      <th>interior_off-white</th>\n",
              "      <th>interior_orange</th>\n",
              "      <th>interior_purple</th>\n",
              "      <th>interior_red</th>\n",
              "      <th>interior_silver</th>\n",
              "      <th>interior_tan</th>\n",
              "      <th>interior_white</th>\n",
              "      <th>interior_yellow</th>\n",
              "    </tr>\n",
              "  </thead>\n",
              "  <tbody>\n",
              "    <tr>\n",
              "      <th>0</th>\n",
              "      <td>2013</td>\n",
              "      <td>3.9</td>\n",
              "      <td>50404.0</td>\n",
              "      <td>10900</td>\n",
              "      <td>0</td>\n",
              "      <td>0</td>\n",
              "      <td>0</td>\n",
              "      <td>0</td>\n",
              "      <td>0</td>\n",
              "      <td>0</td>\n",
              "      <td>...</td>\n",
              "      <td>0</td>\n",
              "      <td>0</td>\n",
              "      <td>0</td>\n",
              "      <td>0</td>\n",
              "      <td>0</td>\n",
              "      <td>0</td>\n",
              "      <td>0</td>\n",
              "      <td>0</td>\n",
              "      <td>0</td>\n",
              "      <td>0</td>\n",
              "    </tr>\n",
              "    <tr>\n",
              "      <th>1</th>\n",
              "      <td>2014</td>\n",
              "      <td>4.9</td>\n",
              "      <td>17846.0</td>\n",
              "      <td>29900</td>\n",
              "      <td>0</td>\n",
              "      <td>0</td>\n",
              "      <td>0</td>\n",
              "      <td>0</td>\n",
              "      <td>0</td>\n",
              "      <td>0</td>\n",
              "      <td>...</td>\n",
              "      <td>0</td>\n",
              "      <td>1</td>\n",
              "      <td>0</td>\n",
              "      <td>0</td>\n",
              "      <td>0</td>\n",
              "      <td>0</td>\n",
              "      <td>0</td>\n",
              "      <td>0</td>\n",
              "      <td>0</td>\n",
              "      <td>0</td>\n",
              "    </tr>\n",
              "    <tr>\n",
              "      <th>2</th>\n",
              "      <td>2012</td>\n",
              "      <td>4.1</td>\n",
              "      <td>21122.0</td>\n",
              "      <td>24200</td>\n",
              "      <td>0</td>\n",
              "      <td>0</td>\n",
              "      <td>0</td>\n",
              "      <td>0</td>\n",
              "      <td>0</td>\n",
              "      <td>0</td>\n",
              "      <td>...</td>\n",
              "      <td>0</td>\n",
              "      <td>0</td>\n",
              "      <td>0</td>\n",
              "      <td>0</td>\n",
              "      <td>0</td>\n",
              "      <td>0</td>\n",
              "      <td>0</td>\n",
              "      <td>0</td>\n",
              "      <td>0</td>\n",
              "      <td>0</td>\n",
              "    </tr>\n",
              "    <tr>\n",
              "      <th>3</th>\n",
              "      <td>2002</td>\n",
              "      <td>1.9</td>\n",
              "      <td>145303.0</td>\n",
              "      <td>3200</td>\n",
              "      <td>0</td>\n",
              "      <td>0</td>\n",
              "      <td>1</td>\n",
              "      <td>0</td>\n",
              "      <td>0</td>\n",
              "      <td>0</td>\n",
              "      <td>...</td>\n",
              "      <td>0</td>\n",
              "      <td>0</td>\n",
              "      <td>0</td>\n",
              "      <td>0</td>\n",
              "      <td>0</td>\n",
              "      <td>0</td>\n",
              "      <td>0</td>\n",
              "      <td>0</td>\n",
              "      <td>0</td>\n",
              "      <td>0</td>\n",
              "    </tr>\n",
              "    <tr>\n",
              "      <th>4</th>\n",
              "      <td>2014</td>\n",
              "      <td>4.9</td>\n",
              "      <td>6714.0</td>\n",
              "      <td>22100</td>\n",
              "      <td>0</td>\n",
              "      <td>0</td>\n",
              "      <td>0</td>\n",
              "      <td>0</td>\n",
              "      <td>0</td>\n",
              "      <td>0</td>\n",
              "      <td>...</td>\n",
              "      <td>0</td>\n",
              "      <td>0</td>\n",
              "      <td>0</td>\n",
              "      <td>0</td>\n",
              "      <td>0</td>\n",
              "      <td>0</td>\n",
              "      <td>0</td>\n",
              "      <td>0</td>\n",
              "      <td>0</td>\n",
              "      <td>0</td>\n",
              "    </tr>\n",
              "  </tbody>\n",
              "</table>\n",
              "<p>5 rows × 75 columns</p>\n",
              "</div>\n",
              "      <button class=\"colab-df-convert\" onclick=\"convertToInteractive('df-1462664a-c26d-4131-bd53-ee6f04c5f8dd')\"\n",
              "              title=\"Convert this dataframe to an interactive table.\"\n",
              "              style=\"display:none;\">\n",
              "        \n",
              "  <svg xmlns=\"http://www.w3.org/2000/svg\" height=\"24px\"viewBox=\"0 0 24 24\"\n",
              "       width=\"24px\">\n",
              "    <path d=\"M0 0h24v24H0V0z\" fill=\"none\"/>\n",
              "    <path d=\"M18.56 5.44l.94 2.06.94-2.06 2.06-.94-2.06-.94-.94-2.06-.94 2.06-2.06.94zm-11 1L8.5 8.5l.94-2.06 2.06-.94-2.06-.94L8.5 2.5l-.94 2.06-2.06.94zm10 10l.94 2.06.94-2.06 2.06-.94-2.06-.94-.94-2.06-.94 2.06-2.06.94z\"/><path d=\"M17.41 7.96l-1.37-1.37c-.4-.4-.92-.59-1.43-.59-.52 0-1.04.2-1.43.59L10.3 9.45l-7.72 7.72c-.78.78-.78 2.05 0 2.83L4 21.41c.39.39.9.59 1.41.59.51 0 1.02-.2 1.41-.59l7.78-7.78 2.81-2.81c.8-.78.8-2.07 0-2.86zM5.41 20L4 18.59l7.72-7.72 1.47 1.35L5.41 20z\"/>\n",
              "  </svg>\n",
              "      </button>\n",
              "      \n",
              "  <style>\n",
              "    .colab-df-container {\n",
              "      display:flex;\n",
              "      flex-wrap:wrap;\n",
              "      gap: 12px;\n",
              "    }\n",
              "\n",
              "    .colab-df-convert {\n",
              "      background-color: #E8F0FE;\n",
              "      border: none;\n",
              "      border-radius: 50%;\n",
              "      cursor: pointer;\n",
              "      display: none;\n",
              "      fill: #1967D2;\n",
              "      height: 32px;\n",
              "      padding: 0 0 0 0;\n",
              "      width: 32px;\n",
              "    }\n",
              "\n",
              "    .colab-df-convert:hover {\n",
              "      background-color: #E2EBFA;\n",
              "      box-shadow: 0px 1px 2px rgba(60, 64, 67, 0.3), 0px 1px 3px 1px rgba(60, 64, 67, 0.15);\n",
              "      fill: #174EA6;\n",
              "    }\n",
              "\n",
              "    [theme=dark] .colab-df-convert {\n",
              "      background-color: #3B4455;\n",
              "      fill: #D2E3FC;\n",
              "    }\n",
              "\n",
              "    [theme=dark] .colab-df-convert:hover {\n",
              "      background-color: #434B5C;\n",
              "      box-shadow: 0px 1px 3px 1px rgba(0, 0, 0, 0.15);\n",
              "      filter: drop-shadow(0px 1px 2px rgba(0, 0, 0, 0.3));\n",
              "      fill: #FFFFFF;\n",
              "    }\n",
              "  </style>\n",
              "\n",
              "      <script>\n",
              "        const buttonEl =\n",
              "          document.querySelector('#df-1462664a-c26d-4131-bd53-ee6f04c5f8dd button.colab-df-convert');\n",
              "        buttonEl.style.display =\n",
              "          google.colab.kernel.accessAllowed ? 'block' : 'none';\n",
              "\n",
              "        async function convertToInteractive(key) {\n",
              "          const element = document.querySelector('#df-1462664a-c26d-4131-bd53-ee6f04c5f8dd');\n",
              "          const dataTable =\n",
              "            await google.colab.kernel.invokeFunction('convertToInteractive',\n",
              "                                                     [key], {});\n",
              "          if (!dataTable) return;\n",
              "\n",
              "          const docLinkHtml = 'Like what you see? Visit the ' +\n",
              "            '<a target=\"_blank\" href=https://colab.research.google.com/notebooks/data_table.ipynb>data table notebook</a>'\n",
              "            + ' to learn more about interactive tables.';\n",
              "          element.innerHTML = '';\n",
              "          dataTable['output_type'] = 'display_data';\n",
              "          await google.colab.output.renderOutput(dataTable, element);\n",
              "          const docLink = document.createElement('div');\n",
              "          docLink.innerHTML = docLinkHtml;\n",
              "          element.appendChild(docLink);\n",
              "        }\n",
              "      </script>\n",
              "    </div>\n",
              "  </div>\n",
              "  "
            ]
          },
          "metadata": {},
          "execution_count": 961
        }
      ]
    },
    {
      "cell_type": "code",
      "source": [
        "parameter = ['theta_0'] + ['theta_{}'.format(i+1) for i in range(x.shape[1])]\n",
        "columns = ['y-intersect'] + list(x.columns.values)\n",
        "sk_theta = pd.Series([lin_reg.intercept_] + list(lin_reg.coef_))\n",
        "\n",
        "parameter_df = pd.DataFrame({'parameter':parameter,'column':columns, 'theta_value': sk_theta})\n",
        "parameter_df"
      ],
      "metadata": {
        "id": "P4azmIbRhoZ1",
        "outputId": "2848a21b-4d8f-46c5-dbb2-b94696371f04",
        "colab": {
          "base_uri": "https://localhost:8080/",
          "height": 424
        }
      },
      "execution_count": null,
      "outputs": [
        {
          "output_type": "execute_result",
          "data": {
            "text/plain": [
              "   parameter             column   theta_value\n",
              "0    theta_0        y-intersect -1.887525e+06\n",
              "1    theta_1               year  9.467094e+02\n",
              "2    theta_2          condition  1.690878e+03\n",
              "3    theta_3           odometer -4.272997e-02\n",
              "4    theta_4  make_Aston Martin  3.713942e+04\n",
              "..       ...                ...           ...\n",
              "70  theta_70       interior_red  5.689427e+03\n",
              "71  theta_71    interior_silver -1.136717e+03\n",
              "72  theta_72       interior_tan -6.368000e+01\n",
              "73  theta_73     interior_white -2.727733e+03\n",
              "74  theta_74    interior_yellow  1.062326e+04\n",
              "\n",
              "[75 rows x 3 columns]"
            ],
            "text/html": [
              "\n",
              "  <div id=\"df-b3d89e54-928b-4a34-ad56-94399398aed5\">\n",
              "    <div class=\"colab-df-container\">\n",
              "      <div>\n",
              "<style scoped>\n",
              "    .dataframe tbody tr th:only-of-type {\n",
              "        vertical-align: middle;\n",
              "    }\n",
              "\n",
              "    .dataframe tbody tr th {\n",
              "        vertical-align: top;\n",
              "    }\n",
              "\n",
              "    .dataframe thead th {\n",
              "        text-align: right;\n",
              "    }\n",
              "</style>\n",
              "<table border=\"1\" class=\"dataframe\">\n",
              "  <thead>\n",
              "    <tr style=\"text-align: right;\">\n",
              "      <th></th>\n",
              "      <th>parameter</th>\n",
              "      <th>column</th>\n",
              "      <th>theta_value</th>\n",
              "    </tr>\n",
              "  </thead>\n",
              "  <tbody>\n",
              "    <tr>\n",
              "      <th>0</th>\n",
              "      <td>theta_0</td>\n",
              "      <td>y-intersect</td>\n",
              "      <td>-1.887525e+06</td>\n",
              "    </tr>\n",
              "    <tr>\n",
              "      <th>1</th>\n",
              "      <td>theta_1</td>\n",
              "      <td>year</td>\n",
              "      <td>9.467094e+02</td>\n",
              "    </tr>\n",
              "    <tr>\n",
              "      <th>2</th>\n",
              "      <td>theta_2</td>\n",
              "      <td>condition</td>\n",
              "      <td>1.690878e+03</td>\n",
              "    </tr>\n",
              "    <tr>\n",
              "      <th>3</th>\n",
              "      <td>theta_3</td>\n",
              "      <td>odometer</td>\n",
              "      <td>-4.272997e-02</td>\n",
              "    </tr>\n",
              "    <tr>\n",
              "      <th>4</th>\n",
              "      <td>theta_4</td>\n",
              "      <td>make_Aston Martin</td>\n",
              "      <td>3.713942e+04</td>\n",
              "    </tr>\n",
              "    <tr>\n",
              "      <th>...</th>\n",
              "      <td>...</td>\n",
              "      <td>...</td>\n",
              "      <td>...</td>\n",
              "    </tr>\n",
              "    <tr>\n",
              "      <th>70</th>\n",
              "      <td>theta_70</td>\n",
              "      <td>interior_red</td>\n",
              "      <td>5.689427e+03</td>\n",
              "    </tr>\n",
              "    <tr>\n",
              "      <th>71</th>\n",
              "      <td>theta_71</td>\n",
              "      <td>interior_silver</td>\n",
              "      <td>-1.136717e+03</td>\n",
              "    </tr>\n",
              "    <tr>\n",
              "      <th>72</th>\n",
              "      <td>theta_72</td>\n",
              "      <td>interior_tan</td>\n",
              "      <td>-6.368000e+01</td>\n",
              "    </tr>\n",
              "    <tr>\n",
              "      <th>73</th>\n",
              "      <td>theta_73</td>\n",
              "      <td>interior_white</td>\n",
              "      <td>-2.727733e+03</td>\n",
              "    </tr>\n",
              "    <tr>\n",
              "      <th>74</th>\n",
              "      <td>theta_74</td>\n",
              "      <td>interior_yellow</td>\n",
              "      <td>1.062326e+04</td>\n",
              "    </tr>\n",
              "  </tbody>\n",
              "</table>\n",
              "<p>75 rows × 3 columns</p>\n",
              "</div>\n",
              "      <button class=\"colab-df-convert\" onclick=\"convertToInteractive('df-b3d89e54-928b-4a34-ad56-94399398aed5')\"\n",
              "              title=\"Convert this dataframe to an interactive table.\"\n",
              "              style=\"display:none;\">\n",
              "        \n",
              "  <svg xmlns=\"http://www.w3.org/2000/svg\" height=\"24px\"viewBox=\"0 0 24 24\"\n",
              "       width=\"24px\">\n",
              "    <path d=\"M0 0h24v24H0V0z\" fill=\"none\"/>\n",
              "    <path d=\"M18.56 5.44l.94 2.06.94-2.06 2.06-.94-2.06-.94-.94-2.06-.94 2.06-2.06.94zm-11 1L8.5 8.5l.94-2.06 2.06-.94-2.06-.94L8.5 2.5l-.94 2.06-2.06.94zm10 10l.94 2.06.94-2.06 2.06-.94-2.06-.94-.94-2.06-.94 2.06-2.06.94z\"/><path d=\"M17.41 7.96l-1.37-1.37c-.4-.4-.92-.59-1.43-.59-.52 0-1.04.2-1.43.59L10.3 9.45l-7.72 7.72c-.78.78-.78 2.05 0 2.83L4 21.41c.39.39.9.59 1.41.59.51 0 1.02-.2 1.41-.59l7.78-7.78 2.81-2.81c.8-.78.8-2.07 0-2.86zM5.41 20L4 18.59l7.72-7.72 1.47 1.35L5.41 20z\"/>\n",
              "  </svg>\n",
              "      </button>\n",
              "      \n",
              "  <style>\n",
              "    .colab-df-container {\n",
              "      display:flex;\n",
              "      flex-wrap:wrap;\n",
              "      gap: 12px;\n",
              "    }\n",
              "\n",
              "    .colab-df-convert {\n",
              "      background-color: #E8F0FE;\n",
              "      border: none;\n",
              "      border-radius: 50%;\n",
              "      cursor: pointer;\n",
              "      display: none;\n",
              "      fill: #1967D2;\n",
              "      height: 32px;\n",
              "      padding: 0 0 0 0;\n",
              "      width: 32px;\n",
              "    }\n",
              "\n",
              "    .colab-df-convert:hover {\n",
              "      background-color: #E2EBFA;\n",
              "      box-shadow: 0px 1px 2px rgba(60, 64, 67, 0.3), 0px 1px 3px 1px rgba(60, 64, 67, 0.15);\n",
              "      fill: #174EA6;\n",
              "    }\n",
              "\n",
              "    [theme=dark] .colab-df-convert {\n",
              "      background-color: #3B4455;\n",
              "      fill: #D2E3FC;\n",
              "    }\n",
              "\n",
              "    [theme=dark] .colab-df-convert:hover {\n",
              "      background-color: #434B5C;\n",
              "      box-shadow: 0px 1px 3px 1px rgba(0, 0, 0, 0.15);\n",
              "      filter: drop-shadow(0px 1px 2px rgba(0, 0, 0, 0.3));\n",
              "      fill: #FFFFFF;\n",
              "    }\n",
              "  </style>\n",
              "\n",
              "      <script>\n",
              "        const buttonEl =\n",
              "          document.querySelector('#df-b3d89e54-928b-4a34-ad56-94399398aed5 button.colab-df-convert');\n",
              "        buttonEl.style.display =\n",
              "          google.colab.kernel.accessAllowed ? 'block' : 'none';\n",
              "\n",
              "        async function convertToInteractive(key) {\n",
              "          const element = document.querySelector('#df-b3d89e54-928b-4a34-ad56-94399398aed5');\n",
              "          const dataTable =\n",
              "            await google.colab.kernel.invokeFunction('convertToInteractive',\n",
              "                                                     [key], {});\n",
              "          if (!dataTable) return;\n",
              "\n",
              "          const docLinkHtml = 'Like what you see? Visit the ' +\n",
              "            '<a target=\"_blank\" href=https://colab.research.google.com/notebooks/data_table.ipynb>data table notebook</a>'\n",
              "            + ' to learn more about interactive tables.';\n",
              "          element.innerHTML = '';\n",
              "          dataTable['output_type'] = 'display_data';\n",
              "          await google.colab.output.renderOutput(dataTable, element);\n",
              "          const docLink = document.createElement('div');\n",
              "          docLink.innerHTML = docLinkHtml;\n",
              "          element.appendChild(docLink);\n",
              "        }\n",
              "      </script>\n",
              "    </div>\n",
              "  </div>\n",
              "  "
            ]
          },
          "metadata": {},
          "execution_count": 962
        }
      ]
    },
    {
      "cell_type": "markdown",
      "metadata": {
        "id": "YdL-dwsrutii"
      },
      "source": [
        "## Model Evaluation\n"
      ]
    },
    {
      "cell_type": "code",
      "source": [
        "# sklearn regression module\n",
        "y_pred = lin_reg.predict(x_test)\n",
        "\n",
        "# Evaluation\n",
        "from sklearn.metrics import mean_squared_error\n",
        "rmse = mean_squared_error(y_pred, y_test, squared=False)\n",
        "\n",
        "# R_square\n",
        "R_square = lin_reg.score(x_test,y_test)\n",
        "print('The root mean square error (RMSE) is: ', rmse)\n",
        "print('R^2 obtained is:', R_square)"
      ],
      "metadata": {
        "id": "nQAEnq9dlbrs",
        "outputId": "70d01290-4f17-4696-94e0-599328b674fb",
        "colab": {
          "base_uri": "https://localhost:8080/"
        }
      },
      "execution_count": null,
      "outputs": [
        {
          "output_type": "stream",
          "name": "stdout",
          "text": [
            "The root mean square error (RMSE) is:  5408.661422195137\n",
            "R^2 obtained is: 0.6833661638372543\n"
          ]
        }
      ]
    },
    {
      "cell_type": "markdown",
      "metadata": {
        "id": "GkPDBgA_utij"
      },
      "source": [
        "## Model Validation (Optional)\n",
        "\n",
        "_Check if the model you applied meets the necessary assumptions for the chosen model._"
      ]
    },
    {
      "cell_type": "code",
      "execution_count": null,
      "metadata": {
        "id": "btCuNkA4utij"
      },
      "outputs": [],
      "source": []
    },
    {
      "cell_type": "markdown",
      "metadata": {
        "id": "rYr-LGsOutij"
      },
      "source": [
        "## Conclusion and Recommendations\n",
        "\n",
        "Comment on the model accuracy and your findings from model evaluation and validation. State the problems (if any) and suggest possible solutions. Would you recommend this model for a used cars dealership that wants to get reliable estimates for used car prices?\n",
        "\n",
        "**Answer**:\n",
        "\n",
        "RMSE is used is a measure of the distances between the actual points and the predicted points. Having RMSE of 5408 can be considered high and it is important to reduce that error in the future. Moreover, R-square measures the linear regression model's goodness of fit as well as it determines the proportion of variance in the dependent variable that can be explained by the independent variable. Therefore, a value of 0.68 for R-square can be considered a good fit, however, a better value can be obtained and therefore, based on the result, we recommend using a different model for example, such as decision trees to classify based on what features a car can have a certain selling price. Decision trees will have a better average. \n",
        "\n",
        "The problems faced in this dataset were data inconsistencies such as in different body types were stored with different ways, having some capitalized while the other with lowercase, which had led to redundancies. The data had missing values as in color and interior, and the data types were not appropriate. We, therefore, having fewer data inconsistencies and missing values as this highly affects the result model and reduce the accuracy of the model.Another approach could be replacing the missing values with the mean or median in order to avoid any bias in them. Moreover, in case of integer values that were stored with a wrong data type, we recommend setting the attributes from the beginning to be integers to be able to easily deduce the correlations between the independent and dependent variables. We can also try to predict outliers to ensure the model is not affected by any bias.\n",
        "\n"
      ]
    },
    {
      "cell_type": "markdown",
      "source": [],
      "metadata": {
        "id": "5O6_S2XoON_i"
      }
    },
    {
      "cell_type": "code",
      "source": [],
      "metadata": {
        "id": "03Dxf2cRMoYR"
      },
      "execution_count": null,
      "outputs": []
    }
  ],
  "metadata": {
    "kernelspec": {
      "display_name": "Python 3.8.10 64-bit (microsoft store)",
      "language": "python",
      "name": "python3"
    },
    "language_info": {
      "codemirror_mode": {
        "name": "ipython",
        "version": 3
      },
      "file_extension": ".py",
      "mimetype": "text/x-python",
      "name": "python",
      "nbconvert_exporter": "python",
      "pygments_lexer": "ipython3",
      "version": "3.8.10"
    },
    "vscode": {
      "interpreter": {
        "hash": "53838b41801d6340687d97fd6c2932a6cda47cc00efb016738355d36a9d1dd3a"
      }
    },
    "colab": {
      "provenance": []
    }
  },
  "nbformat": 4,
  "nbformat_minor": 0
}